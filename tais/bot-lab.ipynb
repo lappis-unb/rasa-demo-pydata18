{
 "cells": [
  {
   "cell_type": "markdown",
   "metadata": {
    "colab_type": "text",
    "id": "kO9wt2g3okLS"
   },
   "source": [
    "# Analisando o bot\n",
    "\n",
    "Este jupyter-notebook vai auxiliar na análise de um RASA bot."
   ]
  },
  {
   "cell_type": "markdown",
   "metadata": {},
   "source": [
    "## Instalação\n",
    "\n",
    "### Configurando jupyter"
   ]
  },
  {
   "cell_type": "code",
   "execution_count": 1,
   "metadata": {
    "scrolled": true
   },
   "outputs": [],
   "source": [
    "%matplotlib inline\n",
    "\n",
    "import logging, io, json, warnings\n",
    "logging.basicConfig(level=\"INFO\")\n",
    "warnings.filterwarnings('ignore')\n",
    "\n",
    "def pprint(o):\n",
    "    # small helper to make dict dumps a bit prettier\n",
    "    print(json.dumps(o, indent=2))"
   ]
  },
  {
   "cell_type": "markdown",
   "metadata": {
    "colab_type": "text",
    "id": "y4miuS-TqYcn"
   },
   "source": [
    "### Instalação do Rasa\n"
   ]
  },
  {
   "cell_type": "code",
   "execution_count": 2,
   "metadata": {
    "colab": {
     "autoexec": {
      "startup": false,
      "wait_interval": 0
     },
     "base_uri": "https://localhost:8080/",
     "height": 3607
    },
    "colab_type": "code",
    "executionInfo": {
     "elapsed": 58315,
     "status": "ok",
     "timestamp": 1521575035242,
     "user": {
      "displayName": "Ricardo Wölker",
      "photoUrl": "https://lh3.googleusercontent.com/a/default-user=s128",
      "userId": "115384113157413623365"
     },
     "user_tz": 0
    },
    "id": "X_2-sKgo_qyl",
    "outputId": "b947c702-75fa-406d-d21d-a691dcb5236d",
    "scrolled": true
   },
   "outputs": [
    {
     "name": "stdout",
     "output_type": "stream",
     "text": [
      "Requirement already up-to-date: rasa_core==0.10.3 in /home/arthur/.pyenv/versions/3.6.6/lib/python3.6/site-packages (0.10.3)\n",
      "Requirement already up-to-date: rasa_nlu[spacy]==0.13.0 in /home/arthur/.pyenv/versions/3.6.6/lib/python3.6/site-packages (0.13.0)\n",
      "Requirement already satisfied, skipping upgrade: twilio~=6.0 in /home/arthur/.pyenv/versions/3.6.6/lib/python3.6/site-packages (from rasa_core==0.10.3) (6.18.1)\n",
      "Requirement already satisfied, skipping upgrade: fbmessenger~=5.0 in /home/arthur/.pyenv/versions/3.6.6/lib/python3.6/site-packages (from rasa_core==0.10.3) (5.3.1)\n",
      "Requirement already satisfied, skipping upgrade: requests~=2.15 in /home/arthur/.pyenv/versions/3.6.6/lib/python3.6/site-packages (from rasa_core==0.10.3) (2.19.1)\n",
      "Requirement already satisfied, skipping upgrade: fakeredis~=0.10.0 in /home/arthur/.pyenv/versions/3.6.6/lib/python3.6/site-packages (from rasa_core==0.10.3) (0.10.3)\n",
      "Requirement already satisfied, skipping upgrade: networkx~=2.0 in /home/arthur/.pyenv/versions/3.6.6/lib/python3.6/site-packages (from rasa_core==0.10.3) (2.2)\n",
      "Requirement already satisfied, skipping upgrade: keras~=2.0 in /home/arthur/.pyenv/versions/3.6.6/lib/python3.6/site-packages (from rasa_core==0.10.3) (2.2.4)\n",
      "Requirement already satisfied, skipping upgrade: python-telegram-bot~=10.0 in /home/arthur/.pyenv/versions/3.6.6/lib/python3.6/site-packages (from rasa_core==0.10.3) (10.1.0)\n",
      "Requirement already satisfied, skipping upgrade: redis~=2.0 in /home/arthur/.pyenv/versions/3.6.6/lib/python3.6/site-packages (from rasa_core==0.10.3) (2.10.6)\n",
      "Requirement already satisfied, skipping upgrade: graphviz~=0.8.0 in /home/arthur/.pyenv/versions/3.6.6/lib/python3.6/site-packages (from rasa_core==0.10.3) (0.8.4)\n",
      "Requirement already satisfied, skipping upgrade: flask~=1.0 in /home/arthur/.pyenv/versions/3.6.6/lib/python3.6/site-packages (from rasa_core==0.10.3) (1.0.2)\n",
      "Requirement already satisfied, skipping upgrade: six~=1.0 in /home/arthur/.pyenv/versions/3.6.6/lib/python3.6/site-packages (from rasa_core==0.10.3) (1.11.0)\n",
      "Requirement already satisfied, skipping upgrade: ConfigArgParse~=0.13.0 in /home/arthur/.pyenv/versions/3.6.6/lib/python3.6/site-packages (from rasa_core==0.10.3) (0.13.0)\n",
      "Requirement already satisfied, skipping upgrade: flask-cors~=3.0 in /home/arthur/.pyenv/versions/3.6.6/lib/python3.6/site-packages (from rasa_core==0.10.3) (3.0.6)\n",
      "Requirement already satisfied, skipping upgrade: slackclient~=1.0 in /home/arthur/.pyenv/versions/3.6.6/lib/python3.6/site-packages (from rasa_core==0.10.3) (1.3.0)\n",
      "Requirement already satisfied, skipping upgrade: h5py~=2.0 in /home/arthur/.pyenv/versions/3.6.6/lib/python3.6/site-packages (from rasa_core==0.10.3) (2.8.0)\n",
      "Requirement already satisfied, skipping upgrade: scikit-learn~=0.19.0 in /home/arthur/.pyenv/versions/3.6.6/lib/python3.6/site-packages (from rasa_core==0.10.3) (0.19.2)\n",
      "Requirement already satisfied, skipping upgrade: coloredlogs~=10.0 in /home/arthur/.pyenv/versions/3.6.6/lib/python3.6/site-packages (from rasa_core==0.10.3) (10.0)\n",
      "Requirement already satisfied, skipping upgrade: pykwalify<=1.6.0 in /home/arthur/.pyenv/versions/3.6.6/lib/python3.6/site-packages (from rasa_core==0.10.3) (1.6.0)\n",
      "Requirement already satisfied, skipping upgrade: ruamel.yaml~=0.15.0 in /home/arthur/.pyenv/versions/3.6.6/lib/python3.6/site-packages (from rasa_core==0.10.3) (0.15.72)\n",
      "Requirement already satisfied, skipping upgrade: tqdm~=4.0 in /home/arthur/.pyenv/versions/3.6.6/lib/python3.6/site-packages (from rasa_core==0.10.3) (4.26.0)\n",
      "Requirement already satisfied, skipping upgrade: mattermostwrapper~=2.0 in /home/arthur/.pyenv/versions/3.6.6/lib/python3.6/site-packages (from rasa_core==0.10.3) (2.1)\n",
      "Requirement already satisfied, skipping upgrade: tensorflow<1.9,>=1.7 in /home/arthur/.pyenv/versions/3.6.6/lib/python3.6/site-packages (from rasa_core==0.10.3) (1.8.0)\n",
      "Requirement already satisfied, skipping upgrade: typing~=3.0 in /home/arthur/.pyenv/versions/3.6.6/lib/python3.6/site-packages (from rasa_core==0.10.3) (3.6.6)\n",
      "Requirement already satisfied, skipping upgrade: future~=0.16 in /home/arthur/.pyenv/versions/3.6.6/lib/python3.6/site-packages (from rasa_core==0.10.3) (0.16.0)\n",
      "Requirement already satisfied, skipping upgrade: numpy~=1.13 in /home/arthur/.pyenv/versions/3.6.6/lib/python3.6/site-packages (from rasa_core==0.10.3) (1.15.2)\n",
      "Requirement already satisfied, skipping upgrade: jsonpickle~=0.9.0 in /home/arthur/.pyenv/versions/3.6.6/lib/python3.6/site-packages (from rasa_core==0.10.3) (0.9.6)\n",
      "Requirement already satisfied, skipping upgrade: apscheduler~=3.0 in /home/arthur/.pyenv/versions/3.6.6/lib/python3.6/site-packages (from rasa_core==0.10.3) (3.5.3)\n",
      "Requirement already satisfied, skipping upgrade: colorhash~=1.0 in /home/arthur/.pyenv/versions/3.6.6/lib/python3.6/site-packages (from rasa_core==0.10.3) (1.0.2)\n",
      "Requirement already satisfied, skipping upgrade: packaging in /home/arthur/.pyenv/versions/3.6.6/lib/python3.6/site-packages (from rasa_nlu[spacy]==0.13.0) (17.1)\n",
      "Requirement already satisfied, skipping upgrade: gevent in /home/arthur/.pyenv/versions/3.6.6/lib/python3.6/site-packages (from rasa_nlu[spacy]==0.13.0) (1.3.7)\n",
      "Requirement already satisfied, skipping upgrade: matplotlib in /home/arthur/.pyenv/versions/3.6.6/lib/python3.6/site-packages (from rasa_nlu[spacy]==0.13.0) (2.2.3)\n",
      "Requirement already satisfied, skipping upgrade: jsonschema in /home/arthur/.pyenv/versions/3.6.6/lib/python3.6/site-packages (from rasa_nlu[spacy]==0.13.0) (2.6.0)\n",
      "Requirement already satisfied, skipping upgrade: pyyaml in /home/arthur/.pyenv/versions/3.6.6/lib/python3.6/site-packages (from rasa_nlu[spacy]==0.13.0) (3.13)\n",
      "Requirement already satisfied, skipping upgrade: cloudpickle in /home/arthur/.pyenv/versions/3.6.6/lib/python3.6/site-packages (from rasa_nlu[spacy]==0.13.0) (0.6.1)\n",
      "Requirement already satisfied, skipping upgrade: klein in /home/arthur/.pyenv/versions/3.6.6/lib/python3.6/site-packages (from rasa_nlu[spacy]==0.13.0) (17.10.0)\n",
      "Requirement already satisfied, skipping upgrade: boto3 in /home/arthur/.pyenv/versions/3.6.6/lib/python3.6/site-packages (from rasa_nlu[spacy]==0.13.0) (1.9.23)\n",
      "Requirement already satisfied, skipping upgrade: simplejson in /home/arthur/.pyenv/versions/3.6.6/lib/python3.6/site-packages (from rasa_nlu[spacy]==0.13.0) (3.16.0)\n",
      "Requirement already satisfied, skipping upgrade: pathlib in /home/arthur/.pyenv/versions/3.6.6/lib/python3.6/site-packages (from rasa_nlu[spacy]==0.13.0) (1.0.1)\n",
      "Requirement already satisfied, skipping upgrade: sklearn-crfsuite; extra == \"spacy\" in /home/arthur/.pyenv/versions/3.6.6/lib/python3.6/site-packages (from rasa_nlu[spacy]==0.13.0) (0.3.6)\n",
      "Requirement already satisfied, skipping upgrade: scipy; extra == \"spacy\" in /home/arthur/.pyenv/versions/3.6.6/lib/python3.6/site-packages (from rasa_nlu[spacy]==0.13.0) (1.1.0)\n",
      "Requirement already satisfied, skipping upgrade: spacy>2.0; extra == \"spacy\" in /home/arthur/.pyenv/versions/3.6.6/lib/python3.6/site-packages (from rasa_nlu[spacy]==0.13.0) (2.0.16)\n",
      "Requirement already satisfied, skipping upgrade: pytz in /home/arthur/.pyenv/versions/3.6.6/lib/python3.6/site-packages (from twilio~=6.0->rasa_core==0.10.3) (2018.5)\n",
      "Requirement already satisfied, skipping upgrade: PyJWT>=1.4.2 in /home/arthur/.pyenv/versions/3.6.6/lib/python3.6/site-packages (from twilio~=6.0->rasa_core==0.10.3) (1.6.4)\n",
      "Requirement already satisfied, skipping upgrade: pysocks; python_version >= \"3.0\" in /home/arthur/.pyenv/versions/3.6.6/lib/python3.6/site-packages (from twilio~=6.0->rasa_core==0.10.3) (1.6.8)\n",
      "Requirement already satisfied, skipping upgrade: urllib3<1.24,>=1.21.1 in /home/arthur/.pyenv/versions/3.6.6/lib/python3.6/site-packages (from requests~=2.15->rasa_core==0.10.3) (1.23)\n",
      "Requirement already satisfied, skipping upgrade: idna<2.8,>=2.5 in /home/arthur/.pyenv/versions/3.6.6/lib/python3.6/site-packages (from requests~=2.15->rasa_core==0.10.3) (2.7)\n",
      "Requirement already satisfied, skipping upgrade: certifi>=2017.4.17 in /home/arthur/.pyenv/versions/3.6.6/lib/python3.6/site-packages (from requests~=2.15->rasa_core==0.10.3) (2018.10.15)\n",
      "Requirement already satisfied, skipping upgrade: chardet<3.1.0,>=3.0.2 in /home/arthur/.pyenv/versions/3.6.6/lib/python3.6/site-packages (from requests~=2.15->rasa_core==0.10.3) (3.0.4)\n",
      "Requirement already satisfied, skipping upgrade: decorator>=4.3.0 in /home/arthur/.pyenv/versions/3.6.6/lib/python3.6/site-packages (from networkx~=2.0->rasa_core==0.10.3) (4.3.0)\n",
      "Requirement already satisfied, skipping upgrade: keras-preprocessing>=1.0.5 in /home/arthur/.pyenv/versions/3.6.6/lib/python3.6/site-packages (from keras~=2.0->rasa_core==0.10.3) (1.0.5)\n",
      "Requirement already satisfied, skipping upgrade: keras-applications>=1.0.6 in /home/arthur/.pyenv/versions/3.6.6/lib/python3.6/site-packages (from keras~=2.0->rasa_core==0.10.3) (1.0.6)\n",
      "Requirement already satisfied, skipping upgrade: itsdangerous>=0.24 in /home/arthur/.pyenv/versions/3.6.6/lib/python3.6/site-packages (from flask~=1.0->rasa_core==0.10.3) (0.24)\n",
      "Requirement already satisfied, skipping upgrade: Jinja2>=2.10 in /home/arthur/.pyenv/versions/3.6.6/lib/python3.6/site-packages (from flask~=1.0->rasa_core==0.10.3) (2.10)\n",
      "Requirement already satisfied, skipping upgrade: click>=5.1 in /home/arthur/.pyenv/versions/3.6.6/lib/python3.6/site-packages (from flask~=1.0->rasa_core==0.10.3) (7.0)\n",
      "Requirement already satisfied, skipping upgrade: Werkzeug>=0.14 in /home/arthur/.pyenv/versions/3.6.6/lib/python3.6/site-packages (from flask~=1.0->rasa_core==0.10.3) (0.14.1)\n",
      "Requirement already satisfied, skipping upgrade: websocket-client<1.0a0,>=0.35 in /home/arthur/.pyenv/versions/3.6.6/lib/python3.6/site-packages (from slackclient~=1.0->rasa_core==0.10.3) (0.53.0)\n"
     ]
    },
    {
     "name": "stdout",
     "output_type": "stream",
     "text": [
      "Requirement already satisfied, skipping upgrade: humanfriendly>=4.7 in /home/arthur/.pyenv/versions/3.6.6/lib/python3.6/site-packages (from coloredlogs~=10.0->rasa_core==0.10.3) (4.16.1)\n",
      "Requirement already satisfied, skipping upgrade: python-dateutil>=2.4.2 in /home/arthur/.pyenv/versions/3.6.6/lib/python3.6/site-packages (from pykwalify<=1.6.0->rasa_core==0.10.3) (2.7.3)\n",
      "Requirement already satisfied, skipping upgrade: docopt>=0.6.2 in /home/arthur/.pyenv/versions/3.6.6/lib/python3.6/site-packages (from pykwalify<=1.6.0->rasa_core==0.10.3) (0.6.2)\n",
      "Requirement already satisfied, skipping upgrade: gast>=0.2.0 in /home/arthur/.pyenv/versions/3.6.6/lib/python3.6/site-packages (from tensorflow<1.9,>=1.7->rasa_core==0.10.3) (0.2.0)\n",
      "Requirement already satisfied, skipping upgrade: tensorboard<1.9.0,>=1.8.0 in /home/arthur/.pyenv/versions/3.6.6/lib/python3.6/site-packages (from tensorflow<1.9,>=1.7->rasa_core==0.10.3) (1.8.0)\n",
      "Requirement already satisfied, skipping upgrade: absl-py>=0.1.6 in /home/arthur/.pyenv/versions/3.6.6/lib/python3.6/site-packages (from tensorflow<1.9,>=1.7->rasa_core==0.10.3) (0.5.0)\n",
      "Requirement already satisfied, skipping upgrade: grpcio>=1.8.6 in /home/arthur/.pyenv/versions/3.6.6/lib/python3.6/site-packages (from tensorflow<1.9,>=1.7->rasa_core==0.10.3) (1.15.0)\n",
      "Requirement already satisfied, skipping upgrade: wheel>=0.26 in /home/arthur/.pyenv/versions/3.6.6/lib/python3.6/site-packages (from tensorflow<1.9,>=1.7->rasa_core==0.10.3) (0.32.1)\n",
      "Requirement already satisfied, skipping upgrade: astor>=0.6.0 in /home/arthur/.pyenv/versions/3.6.6/lib/python3.6/site-packages (from tensorflow<1.9,>=1.7->rasa_core==0.10.3) (0.7.1)\n",
      "Requirement already satisfied, skipping upgrade: termcolor>=1.1.0 in /home/arthur/.pyenv/versions/3.6.6/lib/python3.6/site-packages (from tensorflow<1.9,>=1.7->rasa_core==0.10.3) (1.1.0)\n",
      "Requirement already satisfied, skipping upgrade: protobuf>=3.4.0 in /home/arthur/.pyenv/versions/3.6.6/lib/python3.6/site-packages (from tensorflow<1.9,>=1.7->rasa_core==0.10.3) (3.6.1)\n",
      "Requirement already satisfied, skipping upgrade: tzlocal>=1.2 in /home/arthur/.pyenv/versions/3.6.6/lib/python3.6/site-packages (from apscheduler~=3.0->rasa_core==0.10.3) (1.5.1)\n",
      "Requirement already satisfied, skipping upgrade: setuptools>=0.7 in /home/arthur/.pyenv/versions/3.6.6/lib/python3.6/site-packages (from apscheduler~=3.0->rasa_core==0.10.3) (39.0.1)\n",
      "Requirement already satisfied, skipping upgrade: pyparsing>=2.0.2 in /home/arthur/.pyenv/versions/3.6.6/lib/python3.6/site-packages (from packaging->rasa_nlu[spacy]==0.13.0) (2.2.2)\n",
      "Requirement already satisfied, skipping upgrade: greenlet>=0.4.14; platform_python_implementation == \"CPython\" in /home/arthur/.pyenv/versions/3.6.6/lib/python3.6/site-packages (from gevent->rasa_nlu[spacy]==0.13.0) (0.4.15)\n",
      "Requirement already satisfied, skipping upgrade: cycler>=0.10 in /home/arthur/.pyenv/versions/3.6.6/lib/python3.6/site-packages (from matplotlib->rasa_nlu[spacy]==0.13.0) (0.10.0)\n",
      "Requirement already satisfied, skipping upgrade: kiwisolver>=1.0.1 in /home/arthur/.pyenv/versions/3.6.6/lib/python3.6/site-packages (from matplotlib->rasa_nlu[spacy]==0.13.0) (1.0.1)\n",
      "Requirement already satisfied, skipping upgrade: incremental in /home/arthur/.pyenv/versions/3.6.6/lib/python3.6/site-packages (from klein->rasa_nlu[spacy]==0.13.0) (17.5.0)\n",
      "Requirement already satisfied, skipping upgrade: Twisted>=15.5 in /home/arthur/.pyenv/versions/3.6.6/lib/python3.6/site-packages (from klein->rasa_nlu[spacy]==0.13.0) (18.9.0)\n",
      "Requirement already satisfied, skipping upgrade: jmespath<1.0.0,>=0.7.1 in /home/arthur/.pyenv/versions/3.6.6/lib/python3.6/site-packages (from boto3->rasa_nlu[spacy]==0.13.0) (0.9.3)\n",
      "Requirement already satisfied, skipping upgrade: s3transfer<0.2.0,>=0.1.10 in /home/arthur/.pyenv/versions/3.6.6/lib/python3.6/site-packages (from boto3->rasa_nlu[spacy]==0.13.0) (0.1.13)\n",
      "Requirement already satisfied, skipping upgrade: botocore<1.13.0,>=1.12.23 in /home/arthur/.pyenv/versions/3.6.6/lib/python3.6/site-packages (from boto3->rasa_nlu[spacy]==0.13.0) (1.12.23)\n",
      "Requirement already satisfied, skipping upgrade: python-crfsuite>=0.8.3 in /home/arthur/.pyenv/versions/3.6.6/lib/python3.6/site-packages (from sklearn-crfsuite; extra == \"spacy\"->rasa_nlu[spacy]==0.13.0) (0.9.6)\n",
      "Requirement already satisfied, skipping upgrade: tabulate in /home/arthur/.pyenv/versions/3.6.6/lib/python3.6/site-packages (from sklearn-crfsuite; extra == \"spacy\"->rasa_nlu[spacy]==0.13.0) (0.8.2)\n",
      "Requirement already satisfied, skipping upgrade: thinc<6.13.0,>=6.12.0 in /home/arthur/.pyenv/versions/3.6.6/lib/python3.6/site-packages (from spacy>2.0; extra == \"spacy\"->rasa_nlu[spacy]==0.13.0) (6.12.0)\n",
      "Requirement already satisfied, skipping upgrade: regex==2018.01.10 in /home/arthur/.pyenv/versions/3.6.6/lib/python3.6/site-packages (from spacy>2.0; extra == \"spacy\"->rasa_nlu[spacy]==0.13.0) (2018.1.10)\n",
      "Requirement already satisfied, skipping upgrade: cymem<2.1.0,>=2.0.2 in /home/arthur/.pyenv/versions/3.6.6/lib/python3.6/site-packages (from spacy>2.0; extra == \"spacy\"->rasa_nlu[spacy]==0.13.0) (2.0.2)\n",
      "Requirement already satisfied, skipping upgrade: preshed<2.1.0,>=2.0.1 in /home/arthur/.pyenv/versions/3.6.6/lib/python3.6/site-packages (from spacy>2.0; extra == \"spacy\"->rasa_nlu[spacy]==0.13.0) (2.0.1)\n",
      "Requirement already satisfied, skipping upgrade: ujson>=1.35 in /home/arthur/.pyenv/versions/3.6.6/lib/python3.6/site-packages (from spacy>2.0; extra == \"spacy\"->rasa_nlu[spacy]==0.13.0) (1.35)\n",
      "Requirement already satisfied, skipping upgrade: dill<0.3,>=0.2 in /home/arthur/.pyenv/versions/3.6.6/lib/python3.6/site-packages (from spacy>2.0; extra == \"spacy\"->rasa_nlu[spacy]==0.13.0) (0.2.8.2)\n",
      "Requirement already satisfied, skipping upgrade: msgpack-numpy<0.4.4 in /home/arthur/.pyenv/versions/3.6.6/lib/python3.6/site-packages (from spacy>2.0; extra == \"spacy\"->rasa_nlu[spacy]==0.13.0) (0.4.3.2)\n",
      "Requirement already satisfied, skipping upgrade: murmurhash<1.1.0,>=0.28.0 in /home/arthur/.pyenv/versions/3.6.6/lib/python3.6/site-packages (from spacy>2.0; extra == \"spacy\"->rasa_nlu[spacy]==0.13.0) (1.0.1)\n",
      "Requirement already satisfied, skipping upgrade: plac<1.0.0,>=0.9.6 in /home/arthur/.pyenv/versions/3.6.6/lib/python3.6/site-packages (from spacy>2.0; extra == \"spacy\"->rasa_nlu[spacy]==0.13.0) (0.9.6)\n",
      "Requirement already satisfied, skipping upgrade: MarkupSafe>=0.23 in /home/arthur/.pyenv/versions/3.6.6/lib/python3.6/site-packages (from Jinja2>=2.10->flask~=1.0->rasa_core==0.10.3) (1.0)\n",
      "Requirement already satisfied, skipping upgrade: markdown>=2.6.8 in /home/arthur/.pyenv/versions/3.6.6/lib/python3.6/site-packages (from tensorboard<1.9.0,>=1.8.0->tensorflow<1.9,>=1.7->rasa_core==0.10.3) (3.0.1)\n",
      "Requirement already satisfied, skipping upgrade: html5lib==0.9999999 in /home/arthur/.pyenv/versions/3.6.6/lib/python3.6/site-packages (from tensorboard<1.9.0,>=1.8.0->tensorflow<1.9,>=1.7->rasa_core==0.10.3) (0.9999999)\n",
      "Requirement already satisfied, skipping upgrade: bleach==1.5.0 in /home/arthur/.pyenv/versions/3.6.6/lib/python3.6/site-packages (from tensorboard<1.9.0,>=1.8.0->tensorflow<1.9,>=1.7->rasa_core==0.10.3) (1.5.0)\n",
      "Requirement already satisfied, skipping upgrade: zope.interface>=4.4.2 in /home/arthur/.pyenv/versions/3.6.6/lib/python3.6/site-packages (from Twisted>=15.5->klein->rasa_nlu[spacy]==0.13.0) (4.5.0)\n",
      "Requirement already satisfied, skipping upgrade: constantly>=15.1 in /home/arthur/.pyenv/versions/3.6.6/lib/python3.6/site-packages (from Twisted>=15.5->klein->rasa_nlu[spacy]==0.13.0) (15.1.0)\n",
      "Requirement already satisfied, skipping upgrade: Automat>=0.3.0 in /home/arthur/.pyenv/versions/3.6.6/lib/python3.6/site-packages (from Twisted>=15.5->klein->rasa_nlu[spacy]==0.13.0) (0.7.0)\n",
      "Requirement already satisfied, skipping upgrade: hyperlink>=17.1.1 in /home/arthur/.pyenv/versions/3.6.6/lib/python3.6/site-packages (from Twisted>=15.5->klein->rasa_nlu[spacy]==0.13.0) (18.0.0)\n",
      "Requirement already satisfied, skipping upgrade: PyHamcrest>=1.9.0 in /home/arthur/.pyenv/versions/3.6.6/lib/python3.6/site-packages (from Twisted>=15.5->klein->rasa_nlu[spacy]==0.13.0) (1.9.0)\n",
      "Requirement already satisfied, skipping upgrade: attrs>=17.4.0 in /home/arthur/.pyenv/versions/3.6.6/lib/python3.6/site-packages (from Twisted>=15.5->klein->rasa_nlu[spacy]==0.13.0) (18.2.0)\n",
      "Requirement already satisfied, skipping upgrade: docutils>=0.10 in /home/arthur/.pyenv/versions/3.6.6/lib/python3.6/site-packages (from botocore<1.13.0,>=1.12.23->boto3->rasa_nlu[spacy]==0.13.0) (0.14)\n",
      "Requirement already satisfied, skipping upgrade: wrapt<1.11.0,>=1.10.0 in /home/arthur/.pyenv/versions/3.6.6/lib/python3.6/site-packages (from thinc<6.13.0,>=6.12.0->spacy>2.0; extra == \"spacy\"->rasa_nlu[spacy]==0.13.0) (1.10.11)\n",
      "Requirement already satisfied, skipping upgrade: cytoolz<0.10,>=0.9.0 in /home/arthur/.pyenv/versions/3.6.6/lib/python3.6/site-packages (from thinc<6.13.0,>=6.12.0->spacy>2.0; extra == \"spacy\"->rasa_nlu[spacy]==0.13.0) (0.9.0.1)\n",
      "Requirement already satisfied, skipping upgrade: msgpack<1.0.0,>=0.5.6 in /home/arthur/.pyenv/versions/3.6.6/lib/python3.6/site-packages (from thinc<6.13.0,>=6.12.0->spacy>2.0; extra == \"spacy\"->rasa_nlu[spacy]==0.13.0) (0.5.6)\n",
      "Requirement already satisfied, skipping upgrade: toolz>=0.8.0 in /home/arthur/.pyenv/versions/3.6.6/lib/python3.6/site-packages (from cytoolz<0.10,>=0.9.0->thinc<6.13.0,>=6.12.0->spacy>2.0; extra == \"spacy\"->rasa_nlu[spacy]==0.13.0) (0.9.0)\n"
     ]
    },
    {
     "name": "stdout",
     "output_type": "stream",
     "text": [
      "Requirement already satisfied: pt_core_news_sm==2.0.0 from https://github.com/explosion/spacy-models/releases/download/pt_core_news_sm-2.0.0/pt_core_news_sm-2.0.0.tar.gz#egg=pt_core_news_sm==2.0.0 in /home/arthur/.pyenv/versions/3.6.6/lib/python3.6/site-packages (2.0.0)\n",
      "\n",
      "\u001b[93m    Linking successful\u001b[0m\n",
      "    /home/arthur/.pyenv/versions/3.6.6/lib/python3.6/site-packages/pt_core_news_sm\n",
      "    -->\n",
      "    /home/arthur/.pyenv/versions/3.6.6/lib/python3.6/site-packages/spacy/data/pt\n",
      "\n",
      "    You can now load the model via spacy.load('pt')\n",
      "\n"
     ]
    }
   ],
   "source": [
    "import sys\n",
    "python = sys.executable\n",
    "\n",
    "# In your environment run:\n",
    "#!{python} -m pip install -U rasa_core==0.9.0a7 rasa_nlu[spacy];\n",
    "!{python} -m pip install -U rasa_core==0.10.3 rasa_nlu[spacy]==0.13.0;\n",
    "\n",
    "# as well as install a language model:\n",
    "!{python} -m spacy download pt;"
   ]
  },
  {
   "cell_type": "markdown",
   "metadata": {},
   "source": [
    "Verificando versões:"
   ]
  },
  {
   "cell_type": "code",
   "execution_count": 3,
   "metadata": {
    "scrolled": true
   },
   "outputs": [
    {
     "name": "stdout",
     "output_type": "stream",
     "text": [
      "rasa_nlu: 0.13.0 rasa_core: 0.10.3\n",
      "Loading spaCy language model...\n",
      "Olá Mundo!\n"
     ]
    }
   ],
   "source": [
    "import rasa_nlu\n",
    "import rasa_core\n",
    "import spacy\n",
    "\n",
    "print(\"rasa_nlu: {} rasa_core: {}\".format(rasa_nlu.__version__, rasa_core.__version__))\n",
    "print(\"Loading spaCy language model...\")\n",
    "print(spacy.load(\"pt\")(\"Olá Mundo!\"))"
   ]
  },
  {
   "cell_type": "markdown",
   "metadata": {},
   "source": [
    "### Ferramentas adicionais\n",
    "\n",
    "Atualize a instalação de acordo com seu sistema operacional"
   ]
  },
  {
   "cell_type": "code",
   "execution_count": 4,
   "metadata": {
    "scrolled": true
   },
   "outputs": [],
   "source": [
    "#!apt-get -qq install -y graphviz libgraphviz-dev pkg-config;\n",
    "#!brew install graphviz;"
   ]
  },
  {
   "cell_type": "code",
   "execution_count": 5,
   "metadata": {
    "scrolled": true
   },
   "outputs": [
    {
     "name": "stdout",
     "output_type": "stream",
     "text": [
      "Requirement already satisfied: pygraphviz in /home/arthur/.pyenv/versions/3.6.6/lib/python3.6/site-packages (1.5)\r\n"
     ]
    }
   ],
   "source": [
    "!{python} -m pip install pygraphviz;"
   ]
  },
  {
   "cell_type": "markdown",
   "metadata": {},
   "source": [
    "### NLU Pipeline\n",
    "\n",
    "Criando um pipeline de nlu para o bot.\n",
    "\n",
    "`Caso queira testar diferentes algoritmos/modelos dentro do RASA nlu, mude a celula seguinte.`"
   ]
  },
  {
   "cell_type": "code",
   "execution_count": 6,
   "metadata": {
    "scrolled": true
   },
   "outputs": [
    {
     "name": "stdout",
     "output_type": "stream",
     "text": [
      "Writing 'config' (str) to file 'config.yml'.\n"
     ]
    }
   ],
   "source": [
    "config = \"\"\"\n",
    "language: \"pt\"\n",
    "\n",
    "pipeline:\n",
    "- name: \"nlp_spacy\"                   # loads the spacy language model\n",
    "- name: \"tokenizer_spacy\"             # splits the sentence into tokens\n",
    "- name: \"ner_spacy\"                   # uses the pretrained spacy NER model\n",
    "- name: \"intent_featurizer_spacy\"     # transform the sentence into a vector representation\n",
    "- name: \"intent_classifier_sklearn\"   # uses the vector representation to classify using SVM\n",
    "\"\"\" \n",
    "\n",
    "%store config > config.yml"
   ]
  },
  {
   "cell_type": "markdown",
   "metadata": {
    "colab_type": "text",
    "id": "cNa5KHl1nzhT"
   },
   "source": [
    "## Adicionando nlu (natural language understanding)\n",
    "\n",
    "Nesta parte o bot vai aprender a entender a linguagem"
   ]
  },
  {
   "cell_type": "markdown",
   "metadata": {
    "colab_type": "text",
    "id": "1xeXgpdwzOAl"
   },
   "source": [
    "### Treinando o modelo do Rasa NLU"
   ]
  },
  {
   "cell_type": "code",
   "execution_count": 7,
   "metadata": {
    "colab": {
     "autoexec": {
      "startup": false,
      "wait_interval": 0
     },
     "base_uri": "https://localhost:8080/",
     "height": 377
    },
    "colab_type": "code",
    "executionInfo": {
     "elapsed": 2821,
     "status": "ok",
     "timestamp": 1521380062879,
     "user": {
      "displayName": "Alexander Weidauer",
      "photoUrl": "//lh6.googleusercontent.com/-j4xnI5_PFWA/AAAAAAAAAAI/AAAAAAAAAAo/wPT2w5Bl3xg/s50-c-k-no/photo.jpg",
      "userId": "100444450157165144272"
     },
     "user_tz": -60
    },
    "id": "qHsAH49OePcM",
    "outputId": "f840c42d-acf2-4fbf-b439-e5a239ffb32b",
    "scrolled": true
   },
   "outputs": [
    {
     "name": "stderr",
     "output_type": "stream",
     "text": [
      "INFO:rasa_nlu.training_data.loading:Training data format of intents/geral.md is md\n",
      "INFO:rasa_nlu.training_data.training_data:Training data stats: \n",
      "\t- intent examples: 220 (7 distinct intents)\n",
      "\t- Found intents: 'extra', 'o_que_eh', 'afirmar_curiosidades', 'cumprimentar', 'afirmar_projeto', 'negar', 'afirmar'\n",
      "\t- entity examples: 0 (0 distinct entities)\n",
      "\t- found entities: \n",
      "\n",
      "INFO:rasa_nlu.training_data.loading:Training data format of intents/curiosidades.md is md\n",
      "INFO:rasa_nlu.training_data.training_data:Training data stats: \n",
      "\t- intent examples: 153 (8 distinct intents)\n",
      "\t- Found intents: 'curiosidades_receber_incetivo_de_parentes', 'curiosidades_lei_rouanet_elegibilidade', 'curiosidades_lei_rouanet_arrecadamento', 'curiosidades_elegibilidade_de_empresa_para_beneficios', 'curiosidades_lei_rouanet_denuncia', 'curiosidades_quantidade_projetos', 'curiosidades_beneficios_incentivo_projetos_culturais', 'curiosidades_deducao_imposto_de_renda_incentivador'\n",
      "\t- entity examples: 0 (0 distinct entities)\n",
      "\t- found entities: \n",
      "\n",
      "INFO:rasa_nlu.training_data.training_data:Training data stats: \n",
      "\t- intent examples: 373 (15 distinct intents)\n",
      "\t- Found intents: 'curiosidades_receber_incetivo_de_parentes', 'extra', 'curiosidades_lei_rouanet_elegibilidade', 'o_que_eh', 'curiosidades_lei_rouanet_arrecadamento', 'curiosidades_elegibilidade_de_empresa_para_beneficios', 'curiosidades_deducao_imposto_de_renda_incentivador', 'curiosidades_lei_rouanet_denuncia', 'afirmar_curiosidades', 'cumprimentar', 'curiosidades_quantidade_projetos', 'afirmar_projeto', 'curiosidades_beneficios_incentivo_projetos_culturais', 'negar', 'afirmar'\n",
      "\t- entity examples: 0 (0 distinct entities)\n",
      "\t- found entities: \n",
      "\n",
      "INFO:rasa_nlu.utils.spacy_utils:Trying to load spacy model with name 'pt'\n",
      "INFO:rasa_nlu.components:Added 'nlp_spacy' to component cache. Key 'nlp_spacy-pt'.\n",
      "INFO:rasa_nlu.model:Starting to train component nlp_spacy\n",
      "INFO:rasa_nlu.model:Finished training component.\n",
      "INFO:rasa_nlu.model:Starting to train component tokenizer_spacy\n",
      "INFO:rasa_nlu.model:Finished training component.\n",
      "INFO:rasa_nlu.model:Starting to train component ner_spacy\n",
      "INFO:rasa_nlu.model:Finished training component.\n",
      "INFO:rasa_nlu.model:Starting to train component intent_featurizer_spacy\n",
      "INFO:rasa_nlu.model:Finished training component.\n",
      "INFO:rasa_nlu.model:Starting to train component intent_classifier_sklearn\n"
     ]
    },
    {
     "name": "stdout",
     "output_type": "stream",
     "text": [
      "Fitting 2 folds for each of 6 candidates, totalling 12 fits\n"
     ]
    },
    {
     "name": "stderr",
     "output_type": "stream",
     "text": [
      "[Parallel(n_jobs=1)]: Done  12 out of  12 | elapsed:    1.8s finished\n",
      "INFO:rasa_nlu.model:Finished training component.\n",
      "INFO:rasa_nlu.model:Successfully saved model into '/home/arthur/Documents/lappis/bot/rasa-demo-pydata18/tais/models/nlu/default/current'\n"
     ]
    }
   ],
   "source": [
    "import os\n",
    "\n",
    "from rasa_nlu.training_data import load_data\n",
    "from rasa_nlu.config import RasaNLUModelConfig\n",
    "from rasa_nlu.model import Trainer\n",
    "from rasa_nlu import config\n",
    "\n",
    "\n",
    "intents_directory = 'intents/'\n",
    "\n",
    "intents = {}\n",
    "\n",
    "for intent_file in os.listdir(intents_directory):\n",
    "    intent_file_path = os.path.join(intents_directory, intent_file)\n",
    "\n",
    "    intents[intent_file] = {}\n",
    "\n",
    "    intent_list = []\n",
    "    intent_name = None\n",
    "\n",
    "    with open(intent_file_path) as f:\n",
    "        lines = f.readlines()\n",
    "\n",
    "        for line in lines:\n",
    "            line = line.strip()\n",
    "\n",
    "            if line.startswith('##'):\n",
    "                if intent_name is not None:\n",
    "                    intents[intent_file][intent_name] = intent_list\n",
    "                intent_name = line.replace('## intent:', '') \n",
    "                intent_list = []\n",
    "\n",
    "            elif line.startswith('- '):\n",
    "                intent_list.append(line.replace('- ', ''))\n",
    "\n",
    "\n",
    "# loading the nlu training samples\n",
    "training_data = load_data(intents_directory)\n",
    "\n",
    "# trainer to educate our pipeline\n",
    "trainer = Trainer(config.load(\"config.yml\"))\n",
    "\n",
    "# train the model!\n",
    "interpreter = trainer.train(training_data)\n",
    "\n",
    "# store it for future use\n",
    "model_directory = trainer.persist(\"./models/nlu\", fixed_model_name=\"current\")"
   ]
  },
  {
   "cell_type": "markdown",
   "metadata": {
    "colab_type": "text",
    "id": "1xeXgpdwzOAl"
   },
   "source": [
    "### Avaliação do modelo de NLU treinado\n",
    "\n",
    "`Caso queira testar mensagens específicas mande a mensagem na célula seguinte`"
   ]
  },
  {
   "cell_type": "code",
   "execution_count": 8,
   "metadata": {
    "colab": {
     "autoexec": {
      "startup": false,
      "wait_interval": 0
     },
     "base_uri": "https://localhost:8080/",
     "height": 377
    },
    "colab_type": "code",
    "executionInfo": {
     "elapsed": 2821,
     "status": "ok",
     "timestamp": 1521380062879,
     "user": {
      "displayName": "Alexander Weidauer",
      "photoUrl": "//lh6.googleusercontent.com/-j4xnI5_PFWA/AAAAAAAAAAI/AAAAAAAAAAo/wPT2w5Bl3xg/s50-c-k-no/photo.jpg",
      "userId": "100444450157165144272"
     },
     "user_tz": -60
    },
    "id": "qHsAH49OePcM",
    "outputId": "f840c42d-acf2-4fbf-b439-e5a239ffb32b",
    "scrolled": true
   },
   "outputs": [
    {
     "name": "stdout",
     "output_type": "stream",
     "text": [
      "{\n",
      "  \"intent\": {\n",
      "    \"name\": \"afirmar\",\n",
      "    \"confidence\": 0.5896280185776268\n",
      "  },\n",
      "  \"entities\": [],\n",
      "  \"intent_ranking\": [\n",
      "    {\n",
      "      \"name\": \"afirmar\",\n",
      "      \"confidence\": 0.5896280185776268\n",
      "    },\n",
      "    {\n",
      "      \"name\": \"extra\",\n",
      "      \"confidence\": 0.18368679427401943\n",
      "    },\n",
      "    {\n",
      "      \"name\": \"negar\",\n",
      "      \"confidence\": 0.10545517316061688\n",
      "    },\n",
      "    {\n",
      "      \"name\": \"cumprimentar\",\n",
      "      \"confidence\": 0.10072375394195486\n",
      "    },\n",
      "    {\n",
      "      \"name\": \"afirmar_curiosidades\",\n",
      "      \"confidence\": 0.004177625212902297\n",
      "    },\n",
      "    {\n",
      "      \"name\": \"curiosidades_lei_rouanet_elegibilidade\",\n",
      "      \"confidence\": 0.003200388213807229\n",
      "    },\n",
      "    {\n",
      "      \"name\": \"curiosidades_lei_rouanet_denuncia\",\n",
      "      \"confidence\": 0.0026543963668451166\n",
      "    },\n",
      "    {\n",
      "      \"name\": \"afirmar_projeto\",\n",
      "      \"confidence\": 0.001953351254312715\n",
      "    },\n",
      "    {\n",
      "      \"name\": \"o_que_eh\",\n",
      "      \"confidence\": 0.0017279692767743827\n",
      "    },\n",
      "    {\n",
      "      \"name\": \"curiosidades_lei_rouanet_arrecadamento\",\n",
      "      \"confidence\": 0.0014206070925339277\n",
      "    }\n",
      "  ],\n",
      "  \"text\": \"sim\"\n",
      "}\n"
     ]
    }
   ],
   "source": [
    "pprint(interpreter.parse(\"sim\"))"
   ]
  },
  {
   "cell_type": "markdown",
   "metadata": {},
   "source": [
    "### Avaliação de correlação das intents"
   ]
  },
  {
   "cell_type": "code",
   "execution_count": 14,
   "metadata": {
    "scrolled": true
   },
   "outputs": [
    {
     "name": "stderr",
     "output_type": "stream",
     "text": [
      "INFO:rasa_nlu.components:Added 'nlp_spacy' to component cache. Key 'nlp_spacy-pt'.\n",
      "INFO:rasa_nlu.training_data.loading:Training data format of intents/geral.md is md\n",
      "INFO:rasa_nlu.training_data.training_data:Training data stats: \n",
      "\t- intent examples: 220 (7 distinct intents)\n",
      "\t- Found intents: 'extra', 'o_que_eh', 'afirmar_curiosidades', 'cumprimentar', 'afirmar_projeto', 'negar', 'afirmar'\n",
      "\t- entity examples: 0 (0 distinct entities)\n",
      "\t- found entities: \n",
      "\n",
      "INFO:rasa_nlu.evaluate:Intent evaluation results:\n",
      "INFO:rasa_nlu.evaluate:Intent Evaluation: Only considering those 220 examples that have a defined intent out of 220 examples\n",
      "INFO:rasa_nlu.evaluate:F1-Score:  0.9717045454545454\n",
      "INFO:rasa_nlu.evaluate:Precision: 0.9753198339405236\n",
      "INFO:rasa_nlu.evaluate:Accuracy:  0.9727272727272728\n",
      "INFO:rasa_nlu.evaluate:Classification report: \n",
      "                      precision    recall  f1-score   support\n",
      "\n",
      "             afirmar       0.89      1.00      0.94        33\n",
      "afirmar_curiosidades       1.00      1.00      1.00        23\n",
      "     afirmar_projeto       1.00      1.00      1.00        27\n",
      "        cumprimentar       0.93      1.00      0.96        27\n",
      "               extra       1.00      0.78      0.88        27\n",
      "               negar       1.00      1.00      1.00        46\n",
      "            o_que_eh       1.00      1.00      1.00        37\n",
      "\n",
      "         avg / total       0.98      0.97      0.97       220\n",
      "\n",
      "INFO:rasa_nlu.evaluate:There were some nlu intent classification errors. Use `--verbose` to show them in the log.\n"
     ]
    },
    {
     "ename": "TypeError",
     "evalue": "expected str, bytes or os.PathLike object, not NoneType",
     "output_type": "error",
     "traceback": [
      "\u001b[0;31m---------------------------------------------------------------------------\u001b[0m",
      "\u001b[0;31mTypeError\u001b[0m                                 Traceback (most recent call last)",
      "\u001b[0;32m<ipython-input-14-aeffbc267678>\u001b[0m in \u001b[0;36m<module>\u001b[0;34m\u001b[0m\n\u001b[1;32m      1\u001b[0m \u001b[0;32mfrom\u001b[0m \u001b[0mrasa_nlu\u001b[0m\u001b[0;34m.\u001b[0m\u001b[0mevaluate\u001b[0m \u001b[0;32mimport\u001b[0m \u001b[0mrun_evaluation\u001b[0m\u001b[0;34m\u001b[0m\u001b[0m\n\u001b[1;32m      2\u001b[0m \u001b[0;34m\u001b[0m\u001b[0m\n\u001b[0;32m----> 3\u001b[0;31m \u001b[0mrun_evaluation\u001b[0m\u001b[0;34m(\u001b[0m\u001b[0mdata_path\u001b[0m\u001b[0;34m=\u001b[0m\u001b[0;34m'intents/geral.md'\u001b[0m\u001b[0;34m,\u001b[0m \u001b[0mmodel_path\u001b[0m\u001b[0;34m=\u001b[0m\u001b[0mmodel_directory\u001b[0m\u001b[0;34m)\u001b[0m\u001b[0;34m\u001b[0m\u001b[0m\n\u001b[0m",
      "\u001b[0;32m~/.pyenv/versions/3.6.6/lib/python3.6/site-packages/rasa_nlu/evaluate.py\u001b[0m in \u001b[0;36mrun_evaluation\u001b[0;34m(data_path, model_path, errors_filename, confmat_filename, intent_hist_filename, component_builder)\u001b[0m\n\u001b[1;32m    627\u001b[0m \u001b[0;34m\u001b[0m\u001b[0m\n\u001b[1;32m    628\u001b[0m         evaluate_intents(intent_results, errors_filename, confmat_filename,\n\u001b[0;32m--> 629\u001b[0;31m                          intent_hist_filename)\n\u001b[0m\u001b[1;32m    630\u001b[0m \u001b[0;34m\u001b[0m\u001b[0m\n\u001b[1;32m    631\u001b[0m     \u001b[0;32mif\u001b[0m \u001b[0mextractors\u001b[0m\u001b[0;34m:\u001b[0m\u001b[0;34m\u001b[0m\u001b[0m\n",
      "\u001b[0;32m~/.pyenv/versions/3.6.6/lib/python3.6/site-packages/rasa_nlu/evaluate.py\u001b[0m in \u001b[0;36mevaluate_intents\u001b[0;34m(intent_results, errors_filename, confmat_filename, intent_hist_filename)\u001b[0m\n\u001b[1;32m    267\u001b[0m \u001b[0;34m\u001b[0m\u001b[0m\n\u001b[1;32m    268\u001b[0m     \u001b[0;32mif\u001b[0m \u001b[0merrors\u001b[0m\u001b[0;34m:\u001b[0m\u001b[0;34m\u001b[0m\u001b[0m\n\u001b[0;32m--> 269\u001b[0;31m         \u001b[0msave_nlu_errors\u001b[0m\u001b[0;34m(\u001b[0m\u001b[0merrors\u001b[0m\u001b[0;34m,\u001b[0m \u001b[0merrors_filename\u001b[0m\u001b[0;34m)\u001b[0m\u001b[0;34m\u001b[0m\u001b[0m\n\u001b[0m\u001b[1;32m    270\u001b[0m \u001b[0;34m\u001b[0m\u001b[0m\n\u001b[1;32m    271\u001b[0m     \u001b[0mcnf_matrix\u001b[0m \u001b[0;34m=\u001b[0m \u001b[0mconfusion_matrix\u001b[0m\u001b[0;34m(\u001b[0m\u001b[0mtargets\u001b[0m\u001b[0;34m,\u001b[0m \u001b[0mpredictions\u001b[0m\u001b[0;34m)\u001b[0m\u001b[0;34m\u001b[0m\u001b[0m\n",
      "\u001b[0;32m~/.pyenv/versions/3.6.6/lib/python3.6/site-packages/rasa_nlu/evaluate.py\u001b[0m in \u001b[0;36msave_nlu_errors\u001b[0;34m(errors, filename)\u001b[0m\n\u001b[1;32m    202\u001b[0m     \u001b[0;34m\"\"\"Write out nlu classification errors to a file.\"\"\"\u001b[0m\u001b[0;34m\u001b[0m\u001b[0m\n\u001b[1;32m    203\u001b[0m \u001b[0;34m\u001b[0m\u001b[0m\n\u001b[0;32m--> 204\u001b[0;31m     \u001b[0mutils\u001b[0m\u001b[0;34m.\u001b[0m\u001b[0mwrite_to_file\u001b[0m\u001b[0;34m(\u001b[0m\u001b[0mfilename\u001b[0m\u001b[0;34m,\u001b[0m \u001b[0mjson\u001b[0m\u001b[0;34m.\u001b[0m\u001b[0mdumps\u001b[0m\u001b[0;34m(\u001b[0m\u001b[0merrors\u001b[0m\u001b[0;34m,\u001b[0m \u001b[0mindent\u001b[0m\u001b[0;34m=\u001b[0m\u001b[0;36m4\u001b[0m\u001b[0;34m)\u001b[0m\u001b[0;34m)\u001b[0m\u001b[0;34m\u001b[0m\u001b[0m\n\u001b[0m\u001b[1;32m    205\u001b[0m     \u001b[0mlogger\u001b[0m\u001b[0;34m.\u001b[0m\u001b[0minfo\u001b[0m\u001b[0;34m(\u001b[0m\u001b[0;34m\"Model prediction errors saved to {}.\"\u001b[0m\u001b[0;34m.\u001b[0m\u001b[0mformat\u001b[0m\u001b[0;34m(\u001b[0m\u001b[0mfilename\u001b[0m\u001b[0;34m)\u001b[0m\u001b[0;34m)\u001b[0m\u001b[0;34m\u001b[0m\u001b[0m\n\u001b[1;32m    206\u001b[0m \u001b[0;34m\u001b[0m\u001b[0m\n",
      "\u001b[0;32m~/.pyenv/versions/3.6.6/lib/python3.6/site-packages/rasa_nlu/utils/__init__.py\u001b[0m in \u001b[0;36mwrite_to_file\u001b[0;34m(filename, text)\u001b[0m\n\u001b[1;32m    194\u001b[0m     \u001b[0;34m\"\"\"Write a text to a file.\"\"\"\u001b[0m\u001b[0;34m\u001b[0m\u001b[0m\n\u001b[1;32m    195\u001b[0m \u001b[0;34m\u001b[0m\u001b[0m\n\u001b[0;32m--> 196\u001b[0;31m     \u001b[0;32mwith\u001b[0m \u001b[0mio\u001b[0m\u001b[0;34m.\u001b[0m\u001b[0mopen\u001b[0m\u001b[0;34m(\u001b[0m\u001b[0mfilename\u001b[0m\u001b[0;34m,\u001b[0m \u001b[0;34m'w'\u001b[0m\u001b[0;34m,\u001b[0m \u001b[0mencoding\u001b[0m\u001b[0;34m=\u001b[0m\u001b[0;34m\"utf-8\"\u001b[0m\u001b[0;34m)\u001b[0m \u001b[0;32mas\u001b[0m \u001b[0mf\u001b[0m\u001b[0;34m:\u001b[0m\u001b[0;34m\u001b[0m\u001b[0m\n\u001b[0m\u001b[1;32m    197\u001b[0m         \u001b[0mf\u001b[0m\u001b[0;34m.\u001b[0m\u001b[0mwrite\u001b[0m\u001b[0;34m(\u001b[0m\u001b[0mstr\u001b[0m\u001b[0;34m(\u001b[0m\u001b[0mtext\u001b[0m\u001b[0;34m)\u001b[0m\u001b[0;34m)\u001b[0m\u001b[0;34m\u001b[0m\u001b[0m\n\u001b[1;32m    198\u001b[0m \u001b[0;34m\u001b[0m\u001b[0m\n",
      "\u001b[0;31mTypeError\u001b[0m: expected str, bytes or os.PathLike object, not NoneType"
     ]
    }
   ],
   "source": [
    "from rasa_nlu.evaluate import run_evaluation\n",
    "\n",
    "run_evaluation(data_path='intents/geral.md', model_path=model_directory)"
   ]
  },
  {
   "cell_type": "markdown",
   "metadata": {
    "colab_type": "text",
    "id": "tK5os3OinphP"
   },
   "source": [
    "# RASA core"
   ]
  },
  {
   "cell_type": "markdown",
   "metadata": {
    "colab_type": "text",
    "id": "BBF6Nqi9scQE"
   },
   "source": [
    "`Adicionando stories`"
   ]
  },
  {
   "cell_type": "markdown",
   "metadata": {
    "colab_type": "text",
    "id": "Fs3nOUzBsqrG"
   },
   "source": [
    "### Definindo Contexto (domain)"
   ]
  },
  {
   "cell_type": "markdown",
   "metadata": {
    "colab_type": "text",
    "id": "qWALQbCdwGxK"
   },
   "source": [
    "### Visualização do fluxo de conversa"
   ]
  },
  {
   "cell_type": "code",
   "execution_count": 11,
   "metadata": {
    "colab": {
     "autoexec": {
      "startup": false,
      "wait_interval": 0
     },
     "base_uri": "https://localhost:8080/",
     "height": 895
    },
    "colab_type": "code",
    "executionInfo": {
     "elapsed": 2808,
     "status": "ok",
     "timestamp": 1521380138202,
     "user": {
      "displayName": "Alexander Weidauer",
      "photoUrl": "//lh6.googleusercontent.com/-j4xnI5_PFWA/AAAAAAAAAAI/AAAAAAAAAAo/wPT2w5Bl3xg/s50-c-k-no/photo.jpg",
      "userId": "100444450157165144272"
     },
     "user_tz": -60
    },
    "id": "zl6vtV72BDaV",
    "outputId": "2468f1bf-3fd0-42f0-9338-8f48c8cad3dd",
    "scrolled": false
   },
   "outputs": [
    {
     "name": "stderr",
     "output_type": "stream",
     "text": [
      "INFO:apscheduler.scheduler:Scheduler started\n",
      "/home/arthur/.pyenv/versions/3.6.6/lib/python3.6/site-packages/pykwalify/core.py:99: UnsafeLoaderWarning: \n",
      "The default 'Loader' for 'load(stream)' without further arguments can be unsafe.\n",
      "Use 'load(stream, Loader=ruamel.yaml.Loader)' explicitly if that is OK.\n",
      "Alternatively include the following in your code:\n",
      "\n",
      "  import warnings\n",
      "  warnings.simplefilter('ignore', ruamel.yaml.error.UnsafeLoaderWarning)\n",
      "\n",
      "In most other cases you should consider using 'safe_load(stream)'\n",
      "  data = yaml.load(stream)\n",
      "ERROR:pykwalify.core:validation.invalid\n",
      "ERROR:pykwalify.core: --- All found errors ---\n",
      "ERROR:pykwalify.core:['Value \\'{\\'utter_cumprimentar\\': [{\\'text\\': \\'Olá, meu  nome é Taís, sou assistente virtual do MinC\\\\n\\\\n Estou aqui para te ajudar a sanar dúvidas sobre a lei Rouanet\\\\n\\'}, {\\'text\\': \\'Oi, eu sou a Taís, assistente virtual do MinC\\\\n\\\\n Estou aqui para te ajudar a tirar dúvidas sobre a lei Rouanet\\\\n\\'}, {\\'text\\': \\'Oi, sou assistente virtual do MinC, me chamo Taís\\\\n\\\\n Estou aqui para te ajudar a esclarecer dúvidas sobre a lei Rouanet\\\\n\\'}], \\'utter_despedir\\': [{\\'text\\': \\'Foi um prazer te ajudar!\\\\n\\\\nSempre que tiver alguma dúvida, volte aqui!\\\\n\\\\nAté logo!\\\\n\\'}, {\\'text\\': \\'Foi um prazer te ajudar!\\\\n\\\\nSempre que precisar, volte aqui!\\\\n\\\\nAté a próxima!\\\\n\\'}, {\\'text\\': \\'Foi um prazer te ajudar!\\\\n\\\\nQuando surgir alguma dúvida, volte aqui!\\\\n\\\\nAté mais!\\\\n\\'}], \\'utter_fase_de_testes\\': [{\\'text\\': \\'Ainda não consigo falar sobre outros assuntos. \\\\n\\\\nEstou em fase de testes e a cada dia aprendo mais com vocês.\\\\n\\'}], \\'utexplicar_definicao_perfil\\': [{\\'text\\': \\'Se você quiser saber mais sobre a lei Rounet, nós podemos descobrir juntos sobre como ela foi criada,\\\\n\\\\no que ela proporciona, de onde vem o dinheiro usado na lei, e coisas afins.\\\\\\\\n\\\\n\\\\nSe você preferir falar sobre criação e andamento de projetos, podemos analisar onde a sua dúvida se encaixa.\\\\n\\\\nPor exemplo, talvez você queira saber mais sobre como funciona um andamento de projeto, ou como submeter um projeto, entre outras.\\\\n\\\\nDo que você prefere conversar?\\\\n\\'}], \\'utter_nova_proposta\\': [{\\'text\\': \\'Você já começou a trabalhar em uma nova proposta de projeto? (Sim ou Não)\\\\n\\'}], \\'utter_duvida_execucao\\': [{\\'text\\': \\'Você tem dúvida em relação à captação de verba e execução do \\\\n\\\\nprojeto? (Sim ou Não)\\\\n\\'}], \\'utter_conhece_processo\\': [{\\'text\\': \\'Você sabe como funciona o andamento de um projeto de incentivo a \\\\n\\\\ncultura? (Sim ou Não)\\\\n\\'}], \\'utter_cadastro_salic\\': [{\\'text\\': \\'Você já tem cadastro no SALIC? (Sim ou Não)\\\\n\\'}], \\'utter_aviso\\': [{\\'text\\': \\'Para eu ser mais eficiente na solução da sua dúvida vou fazer algumas perguntas.\\\\\\\\n\\\\n\\\\nVocê já preencheu uma proposta? (Sim ou Não)\\\\n\\'}], \\'utter_introduzir_execucao\\': [{\\'text\\': \\'Eu ainda não aprendi a falar sobre um projeto que está em Execução ou\\\\n\\\\nem Prestação de Contas. Ainda estou aprendendo =|\\\\n\\\\nEm breve eu poderei responder sua dúvida.\\\\n\\\\nNeste momento, eu recomendo que vocẽ entre em contato com as equipes da SEFIC:\\\\n\\\\nExecução: acompanhamento.incentivo@cultura.gov.br\\\\n\\\\nPrestação de Contas: prestacaodecontas.incentivo@cultura.gov.br\\\\n\\'}], \\'utter_submissao_de_projetos\\': [{\\'text\\': \\'Tudo bem. Aqui vai um resumo do processo:\\\\n\\\\nA pessoa responsável, chamada de proponente, insere uma proposta cultural no Sistema de Apoio às Leis de Incentivo à Cultura (Salic), de forma eletrônica.\\\\n\\\\nEssa proposta é analisada pelo MinC. Se for aprovada, autoriza o proponente a captar recursos.\\\\n\\\\nAssim que o valor mínimo for captado, o proponente pode começar a executar o projeto.\\\\n\\\\nDurante a execução o proponente deve prestar contas de acordo com os prazos definidos na Lei Rouanet.\\\\n\\\\nA prestação de contas é analisada pelos técnicos do Ministério e se aprovada, permite que o proponente crie um novo projeto.\\\\n\\\\nO primeiro passo para você particiar deste processo é ter cadastro no SALIC\\\\n\\'}], \\'utter_ja_eh_proponente\\': [{\\'text\\': \\'Você já tem um proponente cadastrado? (Sim ou Não)\\\\n\\'}], \\'utter_cadastro_salic_video\\': [{\\'text\\': \\'O Salic é o Sistema de Apoio às Leis de Incentivo à Cultura, e é por \\\\n\\\\nele que você cadastra a proposta e a acompanha\\\\n\\\\nSe você encontrar dificuldades no momento do cadastro, pode assistir\\\\neste vídeo, nele você pode observar o passo a passo para se cadastrar:\\\\n\\\\nhttps://youtu.be/rMGEZyIr1U8\\\\n\\\\nCaso você não possa ver o vídeo, eu posso te explicar. Quer que eu te explique? (Sim ou Não)\\\\n\\'}], \\'utter_explicar_cadastro_salic\\': [{\\'text\\': \\'A primeira coisa que você deve fazer é acessar o SALIC no site http://salic.cultura.gov.br\\\\n\\\\nEntão no formulário inicial, onde pede login e senha, você deve\\\\n\\\\nclicar na opção \"Não sou cadastrado\", logo abaixo\\\\n\\\\nPreencha todos os campos corretamente, todos eles são obrigatórios.\\\\n\\\\nE depois clique em \"Cadastrar\"\\\\n\\\\nAgora aguarde a chegada de um e-mail de confirmação. Este vai conter\\\\n\\\\numa senha temporária\\\\n\\\\nÉ interessante você alterar esta senha, por isso, no seu primeiro\\\\n\\\\nacesso, vá em \"Usuário > Alterar Senha\", para mudar a mesma\\\\n\\\\nAgora que você já se cadastrou, o próximo passo cadastrar um proponente\\\\n\\'}], \\'utter_cadastro_salic_apos_video\\': [{\\'text\\': \\'Espero que o vídeo tenha ajudado\\\\n\\\\nAgora que você já se cadastrou, o próximo passo cadastrar um proponente\\\\n\\'}], \\'utter_inscricao_proponente\\': [{\\'text\\': \\'Para inscrever um proponente, ou se tornar um proponente, você deve:\\\\n\\\\nAcessar o SALIC e efetuar o login\\\\n\\\\nClique em Administrativo e depois em cadastrar proponente. OU acesse esse link http://salic.cultura.gov.br/agente/agentes/incluiragente;\\\\n\\\\nSe você for uma pessoa física você precisa atuar na área cultural.\\\\n\\\\n Caso você seja uma pessoa jurídica pública tem que atuar na área de administração indireta ou uma pessoa jurídica privada com ou sem fins lucrativos.\\\\n\\'}], \\'utter_mais_alguma_pergunta\\': [{\\'text\\': \\'Você possui mais alguma dúvida? (Sim ou Não)\\\\n\\'}]}\\' is not a list. Value path: \\'/actions\\'']\n"
     ]
    },
    {
     "ename": "TypeError",
     "evalue": "expected str, bytes or os.PathLike object, not method",
     "output_type": "error",
     "traceback": [
      "\u001b[0;31m---------------------------------------------------------------------------\u001b[0m",
      "\u001b[0;31mSchemaError\u001b[0m                               Traceback (most recent call last)",
      "\u001b[0;32m~/.pyenv/versions/3.6.6/lib/python3.6/site-packages/rasa_core/domain.py\u001b[0m in \u001b[0;36mvalidate_domain_yaml\u001b[0;34m(cls, yaml)\u001b[0m\n\u001b[1;32m    441\u001b[0m         \u001b[0;32mtry\u001b[0m\u001b[0;34m:\u001b[0m\u001b[0;34m\u001b[0m\u001b[0m\n\u001b[0;32m--> 442\u001b[0;31m             \u001b[0mc\u001b[0m\u001b[0;34m.\u001b[0m\u001b[0mvalidate\u001b[0m\u001b[0;34m(\u001b[0m\u001b[0mraise_exception\u001b[0m\u001b[0;34m=\u001b[0m\u001b[0;32mTrue\u001b[0m\u001b[0;34m)\u001b[0m\u001b[0;34m\u001b[0m\u001b[0m\n\u001b[0m\u001b[1;32m    443\u001b[0m         \u001b[0;32mexcept\u001b[0m \u001b[0mSchemaError\u001b[0m\u001b[0;34m:\u001b[0m\u001b[0;34m\u001b[0m\u001b[0m\n",
      "\u001b[0;32m~/.pyenv/versions/3.6.6/lib/python3.6/site-packages/pykwalify/core.py\u001b[0m in \u001b[0;36mvalidate\u001b[0;34m(self, raise_exception)\u001b[0m\n\u001b[1;32m    175\u001b[0m                 raise SchemaError(u\"Schema validation failed:\\n - {error_msg}.\".format(\n\u001b[0;32m--> 176\u001b[0;31m                     error_msg=u'.\\n - '.join(self.validation_errors)))\n\u001b[0m\u001b[1;32m    177\u001b[0m             \u001b[0;32melse\u001b[0m\u001b[0;34m:\u001b[0m\u001b[0;34m\u001b[0m\u001b[0m\n",
      "\u001b[0;31mSchemaError\u001b[0m: <SchemaError: error code 2: Schema validation failed:\n - Value '{'utter_cumprimentar': [{'text': 'Olá, meu  nome é Taís, sou assistente virtual do MinC\\n\\n Estou aqui para te ajudar a sanar dúvidas sobre a lei Rouanet\\n'}, {'text': 'Oi, eu sou a Taís, assistente virtual do MinC\\n\\n Estou aqui para te ajudar a tirar dúvidas sobre a lei Rouanet\\n'}, {'text': 'Oi, sou assistente virtual do MinC, me chamo Taís\\n\\n Estou aqui para te ajudar a esclarecer dúvidas sobre a lei Rouanet\\n'}], 'utter_despedir': [{'text': 'Foi um prazer te ajudar!\\n\\nSempre que tiver alguma dúvida, volte aqui!\\n\\nAté logo!\\n'}, {'text': 'Foi um prazer te ajudar!\\n\\nSempre que precisar, volte aqui!\\n\\nAté a próxima!\\n'}, {'text': 'Foi um prazer te ajudar!\\n\\nQuando surgir alguma dúvida, volte aqui!\\n\\nAté mais!\\n'}], 'utter_fase_de_testes': [{'text': 'Ainda não consigo falar sobre outros assuntos. \\n\\nEstou em fase de testes e a cada dia aprendo mais com vocês.\\n'}], 'utexplicar_definicao_perfil': [{'text': 'Se você quiser saber mais sobre a lei Rounet, nós podemos descobrir juntos sobre como ela foi criada,\\n\\no que ela proporciona, de onde vem o dinheiro usado na lei, e coisas afins.\\\\n\\n\\nSe você preferir falar sobre criação e andamento de projetos, podemos analisar onde a sua dúvida se encaixa.\\n\\nPor exemplo, talvez você queira saber mais sobre como funciona um andamento de projeto, ou como submeter um projeto, entre outras.\\n\\nDo que você prefere conversar?\\n'}], 'utter_nova_proposta': [{'text': 'Você já começou a trabalhar em uma nova proposta de projeto? (Sim ou Não)\\n'}], 'utter_duvida_execucao': [{'text': 'Você tem dúvida em relação à captação de verba e execução do \\n\\nprojeto? (Sim ou Não)\\n'}], 'utter_conhece_processo': [{'text': 'Você sabe como funciona o andamento de um projeto de incentivo a \\n\\ncultura? (Sim ou Não)\\n'}], 'utter_cadastro_salic': [{'text': 'Você já tem cadastro no SALIC? (Sim ou Não)\\n'}], 'utter_aviso': [{'text': 'Para eu ser mais eficiente na solução da sua dúvida vou fazer algumas perguntas.\\\\n\\n\\nVocê já preencheu uma proposta? (Sim ou Não)\\n'}], 'utter_introduzir_execucao': [{'text': 'Eu ainda não aprendi a falar sobre um projeto que está em Execução ou\\n\\nem Prestação de Contas. Ainda estou aprendendo =|\\n\\nEm breve eu poderei responder sua dúvida.\\n\\nNeste momento, eu recomendo que vocẽ entre em contato com as equipes da SEFIC:\\n\\nExecução: acompanhamento.incentivo@cultura.gov.br\\n\\nPrestação de Contas: prestacaodecontas.incentivo@cultura.gov.br\\n'}], 'utter_submissao_de_projetos': [{'text': 'Tudo bem. Aqui vai um resumo do processo:\\n\\nA pessoa responsável, chamada de proponente, insere uma proposta cultural no Sistema de Apoio às Leis de Incentivo à Cultura (Salic), de forma eletrônica.\\n\\nEssa proposta é analisada pelo MinC. Se for aprovada, autoriza o proponente a captar recursos.\\n\\nAssim que o valor mínimo for captado, o proponente pode começar a executar o projeto.\\n\\nDurante a execução o proponente deve prestar contas de acordo com os prazos definidos na Lei Rouanet.\\n\\nA prestação de contas é analisada pelos técnicos do Ministério e se aprovada, permite que o proponente crie um novo projeto.\\n\\nO primeiro passo para você particiar deste processo é ter cadastro no SALIC\\n'}], 'utter_ja_eh_proponente': [{'text': 'Você já tem um proponente cadastrado? (Sim ou Não)\\n'}], 'utter_cadastro_salic_video': [{'text': 'O Salic é o Sistema de Apoio às Leis de Incentivo à Cultura, e é por \\n\\nele que você cadastra a proposta e a acompanha\\n\\nSe você encontrar dificuldades no momento do cadastro, pode assistir\\neste vídeo, nele você pode observar o passo a passo para se cadastrar:\\n\\nhttps://youtu.be/rMGEZyIr1U8\\n\\nCaso você não possa ver o vídeo, eu posso te explicar. Quer que eu te explique? (Sim ou Não)\\n'}], 'utter_explicar_cadastro_salic': [{'text': 'A primeira coisa que você deve fazer é acessar o SALIC no site http://salic.cultura.gov.br\\n\\nEntão no formulário inicial, onde pede login e senha, você deve\\n\\nclicar na opção \"Não sou cadastrado\", logo abaixo\\n\\nPreencha todos os campos corretamente, todos eles são obrigatórios.\\n\\nE depois clique em \"Cadastrar\"\\n\\nAgora aguarde a chegada de um e-mail de confirmação. Este vai conter\\n\\numa senha temporária\\n\\nÉ interessante você alterar esta senha, por isso, no seu primeiro\\n\\nacesso, vá em \"Usuário > Alterar Senha\", para mudar a mesma\\n\\nAgora que você já se cadastrou, o próximo passo cadastrar um proponente\\n'}], 'utter_cadastro_salic_apos_video': [{'text': 'Espero que o vídeo tenha ajudado\\n\\nAgora que você já se cadastrou, o próximo passo cadastrar um proponente\\n'}], 'utter_inscricao_proponente': [{'text': 'Para inscrever um proponente, ou se tornar um proponente, você deve:\\n\\nAcessar o SALIC e efetuar o login\\n\\nClique em Administrativo e depois em cadastrar proponente. OU acesse esse link http://salic.cultura.gov.br/agente/agentes/incluiragente;\\n\\nSe você for uma pessoa física você precisa atuar na área cultural.\\n\\n Caso você seja uma pessoa jurídica pública tem que atuar na área de administração indireta ou uma pessoa jurídica privada com ou sem fins lucrativos.\\n'}], 'utter_mais_alguma_pergunta': [{'text': 'Você possui mais alguma dúvida? (Sim ou Não)\\n'}]}' is not a list. Value path: '/actions'.: Path: '/'>",
      "\nDuring handling of the above exception, another exception occurred:\n",
      "\u001b[0;31mTypeError\u001b[0m                                 Traceback (most recent call last)",
      "\u001b[0;32m<ipython-input-11-fd4ff291b331>\u001b[0m in \u001b[0;36m<module>\u001b[0;34m\u001b[0m\n\u001b[1;32m      2\u001b[0m \u001b[0;32mfrom\u001b[0m \u001b[0mrasa_core\u001b[0m\u001b[0;34m.\u001b[0m\u001b[0magent\u001b[0m \u001b[0;32mimport\u001b[0m \u001b[0mAgent\u001b[0m\u001b[0;34m\u001b[0m\u001b[0m\n\u001b[1;32m      3\u001b[0m \u001b[0;34m\u001b[0m\u001b[0m\n\u001b[0;32m----> 4\u001b[0;31m \u001b[0magent\u001b[0m \u001b[0;34m=\u001b[0m \u001b[0mAgent\u001b[0m\u001b[0;34m(\u001b[0m\u001b[0;34m'domain.yml'\u001b[0m\u001b[0;34m)\u001b[0m\u001b[0;34m\u001b[0m\u001b[0m\n\u001b[0m\u001b[1;32m      5\u001b[0m \u001b[0magent\u001b[0m\u001b[0;34m.\u001b[0m\u001b[0mvisualize\u001b[0m\u001b[0;34m(\u001b[0m\u001b[0;34m\"stories.md\"\u001b[0m\u001b[0;34m,\u001b[0m \u001b[0;34m\"story_graph.png\"\u001b[0m\u001b[0;34m,\u001b[0m \u001b[0mmax_history\u001b[0m\u001b[0;34m=\u001b[0m\u001b[0;36m2\u001b[0m\u001b[0;34m)\u001b[0m\u001b[0;34m\u001b[0m\u001b[0m\n\u001b[1;32m      6\u001b[0m \u001b[0mImage\u001b[0m\u001b[0;34m(\u001b[0m\u001b[0mfilename\u001b[0m\u001b[0;34m=\u001b[0m\u001b[0;34m\"story_graph.png\"\u001b[0m\u001b[0;34m)\u001b[0m\u001b[0;34m\u001b[0m\u001b[0m\n",
      "\u001b[0;32m~/.pyenv/versions/3.6.6/lib/python3.6/site-packages/rasa_core/agent.py\u001b[0m in \u001b[0;36m__init__\u001b[0;34m(self, domain, policies, interpreter, generator, tracker_store)\u001b[0m\n\u001b[1;32m     49\u001b[0m     ):\n\u001b[1;32m     50\u001b[0m         \u001b[0;31m# Initializing variables with the passed parameters.\u001b[0m\u001b[0;34m\u001b[0m\u001b[0;34m\u001b[0m\u001b[0m\n\u001b[0;32m---> 51\u001b[0;31m         \u001b[0mself\u001b[0m\u001b[0;34m.\u001b[0m\u001b[0mdomain\u001b[0m \u001b[0;34m=\u001b[0m \u001b[0mself\u001b[0m\u001b[0;34m.\u001b[0m\u001b[0m_create_domain\u001b[0m\u001b[0;34m(\u001b[0m\u001b[0mdomain\u001b[0m\u001b[0;34m)\u001b[0m\u001b[0;34m\u001b[0m\u001b[0m\n\u001b[0m\u001b[1;32m     52\u001b[0m         \u001b[0mself\u001b[0m\u001b[0;34m.\u001b[0m\u001b[0mpolicy_ensemble\u001b[0m \u001b[0;34m=\u001b[0m \u001b[0mself\u001b[0m\u001b[0;34m.\u001b[0m\u001b[0m_create_ensemble\u001b[0m\u001b[0;34m(\u001b[0m\u001b[0mpolicies\u001b[0m\u001b[0;34m)\u001b[0m\u001b[0;34m\u001b[0m\u001b[0m\n\u001b[1;32m     53\u001b[0m         \u001b[0mself\u001b[0m\u001b[0;34m.\u001b[0m\u001b[0minterpreter\u001b[0m \u001b[0;34m=\u001b[0m \u001b[0mNaturalLanguageInterpreter\u001b[0m\u001b[0;34m.\u001b[0m\u001b[0mcreate\u001b[0m\u001b[0;34m(\u001b[0m\u001b[0minterpreter\u001b[0m\u001b[0;34m)\u001b[0m\u001b[0;34m\u001b[0m\u001b[0m\n",
      "\u001b[0;32m~/.pyenv/versions/3.6.6/lib/python3.6/site-packages/rasa_core/agent.py\u001b[0m in \u001b[0;36m_create_domain\u001b[0;34m(domain)\u001b[0m\n\u001b[1;32m    388\u001b[0m \u001b[0;34m\u001b[0m\u001b[0m\n\u001b[1;32m    389\u001b[0m         \u001b[0;32mif\u001b[0m \u001b[0misinstance\u001b[0m\u001b[0;34m(\u001b[0m\u001b[0mdomain\u001b[0m\u001b[0;34m,\u001b[0m \u001b[0mstring_types\u001b[0m\u001b[0;34m)\u001b[0m\u001b[0;34m:\u001b[0m\u001b[0;34m\u001b[0m\u001b[0m\n\u001b[0;32m--> 390\u001b[0;31m             \u001b[0;32mreturn\u001b[0m \u001b[0mTemplateDomain\u001b[0m\u001b[0;34m.\u001b[0m\u001b[0mload\u001b[0m\u001b[0;34m(\u001b[0m\u001b[0mdomain\u001b[0m\u001b[0;34m)\u001b[0m\u001b[0;34m\u001b[0m\u001b[0m\n\u001b[0m\u001b[1;32m    391\u001b[0m         \u001b[0;32melif\u001b[0m \u001b[0misinstance\u001b[0m\u001b[0;34m(\u001b[0m\u001b[0mdomain\u001b[0m\u001b[0;34m,\u001b[0m \u001b[0mDomain\u001b[0m\u001b[0;34m)\u001b[0m\u001b[0;34m:\u001b[0m\u001b[0;34m\u001b[0m\u001b[0m\n\u001b[1;32m    392\u001b[0m             \u001b[0;32mreturn\u001b[0m \u001b[0mdomain\u001b[0m\u001b[0;34m\u001b[0m\u001b[0m\n",
      "\u001b[0;32m~/.pyenv/versions/3.6.6/lib/python3.6/site-packages/rasa_core/domain.py\u001b[0m in \u001b[0;36mload\u001b[0;34m(cls, filename, action_factory)\u001b[0m\n\u001b[1;32m    403\u001b[0m                     \u001b[0;34m\"Failed to load domain specification from '{}'. \"\u001b[0m\u001b[0;34m\u001b[0m\u001b[0m\n\u001b[1;32m    404\u001b[0m                     \"File not found!\".format(os.path.abspath(filename)))\n\u001b[0;32m--> 405\u001b[0;31m         \u001b[0;32mreturn\u001b[0m \u001b[0mcls\u001b[0m\u001b[0;34m.\u001b[0m\u001b[0mload_from_yaml\u001b[0m\u001b[0;34m(\u001b[0m\u001b[0mread_file\u001b[0m\u001b[0;34m(\u001b[0m\u001b[0mfilename\u001b[0m\u001b[0;34m)\u001b[0m\u001b[0;34m,\u001b[0m \u001b[0maction_factory\u001b[0m\u001b[0;34m=\u001b[0m\u001b[0maction_factory\u001b[0m\u001b[0;34m)\u001b[0m\u001b[0;34m\u001b[0m\u001b[0m\n\u001b[0m\u001b[1;32m    406\u001b[0m \u001b[0;34m\u001b[0m\u001b[0m\n\u001b[1;32m    407\u001b[0m     \u001b[0;34m@\u001b[0m\u001b[0mclassmethod\u001b[0m\u001b[0;34m\u001b[0m\u001b[0m\n",
      "\u001b[0;32m~/.pyenv/versions/3.6.6/lib/python3.6/site-packages/rasa_core/domain.py\u001b[0m in \u001b[0;36mload_from_yaml\u001b[0;34m(cls, yaml, action_factory)\u001b[0m\n\u001b[1;32m    407\u001b[0m     \u001b[0;34m@\u001b[0m\u001b[0mclassmethod\u001b[0m\u001b[0;34m\u001b[0m\u001b[0m\n\u001b[1;32m    408\u001b[0m     \u001b[0;32mdef\u001b[0m \u001b[0mload_from_yaml\u001b[0m\u001b[0;34m(\u001b[0m\u001b[0mcls\u001b[0m\u001b[0;34m,\u001b[0m \u001b[0myaml\u001b[0m\u001b[0;34m,\u001b[0m \u001b[0maction_factory\u001b[0m\u001b[0;34m=\u001b[0m\u001b[0;32mNone\u001b[0m\u001b[0;34m)\u001b[0m\u001b[0;34m:\u001b[0m\u001b[0;34m\u001b[0m\u001b[0m\n\u001b[0;32m--> 409\u001b[0;31m         \u001b[0mcls\u001b[0m\u001b[0;34m.\u001b[0m\u001b[0mvalidate_domain_yaml\u001b[0m\u001b[0;34m(\u001b[0m\u001b[0myaml\u001b[0m\u001b[0;34m)\u001b[0m\u001b[0;34m\u001b[0m\u001b[0m\n\u001b[0m\u001b[1;32m    410\u001b[0m         \u001b[0mdata\u001b[0m \u001b[0;34m=\u001b[0m \u001b[0mread_yaml_string\u001b[0m\u001b[0;34m(\u001b[0m\u001b[0myaml\u001b[0m\u001b[0;34m)\u001b[0m\u001b[0;34m\u001b[0m\u001b[0m\n\u001b[1;32m    411\u001b[0m         \u001b[0mutter_templates\u001b[0m \u001b[0;34m=\u001b[0m \u001b[0mcls\u001b[0m\u001b[0;34m.\u001b[0m\u001b[0mcollect_templates\u001b[0m\u001b[0;34m(\u001b[0m\u001b[0mdata\u001b[0m\u001b[0;34m.\u001b[0m\u001b[0mget\u001b[0m\u001b[0;34m(\u001b[0m\u001b[0;34m\"templates\"\u001b[0m\u001b[0;34m,\u001b[0m \u001b[0;34m{\u001b[0m\u001b[0;34m}\u001b[0m\u001b[0;34m)\u001b[0m\u001b[0;34m)\u001b[0m\u001b[0;34m\u001b[0m\u001b[0m\n",
      "\u001b[0;32m~/.pyenv/versions/3.6.6/lib/python3.6/site-packages/rasa_core/domain.py\u001b[0m in \u001b[0;36mvalidate_domain_yaml\u001b[0;34m(cls, yaml)\u001b[0m\n\u001b[1;32m    446\u001b[0m                              \u001b[0;34m\"take a look at the errors logged during \"\u001b[0m\u001b[0;34m\u001b[0m\u001b[0m\n\u001b[1;32m    447\u001b[0m                              \u001b[0;34m\"validation previous to this exception. \"\u001b[0m\u001b[0;34m\u001b[0m\u001b[0m\n\u001b[0;32m--> 448\u001b[0;31m                              \"\".format(os.path.abspath(input)))\n\u001b[0m\u001b[1;32m    449\u001b[0m \u001b[0;34m\u001b[0m\u001b[0m\n\u001b[1;32m    450\u001b[0m     \u001b[0;34m@\u001b[0m\u001b[0mstaticmethod\u001b[0m\u001b[0;34m\u001b[0m\u001b[0m\n",
      "\u001b[0;32m~/.pyenv/versions/3.6.6/lib/python3.6/posixpath.py\u001b[0m in \u001b[0;36mabspath\u001b[0;34m(path)\u001b[0m\n\u001b[1;32m    369\u001b[0m \u001b[0;32mdef\u001b[0m \u001b[0mabspath\u001b[0m\u001b[0;34m(\u001b[0m\u001b[0mpath\u001b[0m\u001b[0;34m)\u001b[0m\u001b[0;34m:\u001b[0m\u001b[0;34m\u001b[0m\u001b[0m\n\u001b[1;32m    370\u001b[0m     \u001b[0;34m\"\"\"Return an absolute path.\"\"\"\u001b[0m\u001b[0;34m\u001b[0m\u001b[0m\n\u001b[0;32m--> 371\u001b[0;31m     \u001b[0mpath\u001b[0m \u001b[0;34m=\u001b[0m \u001b[0mos\u001b[0m\u001b[0;34m.\u001b[0m\u001b[0mfspath\u001b[0m\u001b[0;34m(\u001b[0m\u001b[0mpath\u001b[0m\u001b[0;34m)\u001b[0m\u001b[0;34m\u001b[0m\u001b[0m\n\u001b[0m\u001b[1;32m    372\u001b[0m     \u001b[0;32mif\u001b[0m \u001b[0;32mnot\u001b[0m \u001b[0misabs\u001b[0m\u001b[0;34m(\u001b[0m\u001b[0mpath\u001b[0m\u001b[0;34m)\u001b[0m\u001b[0;34m:\u001b[0m\u001b[0;34m\u001b[0m\u001b[0m\n\u001b[1;32m    373\u001b[0m         \u001b[0;32mif\u001b[0m \u001b[0misinstance\u001b[0m\u001b[0;34m(\u001b[0m\u001b[0mpath\u001b[0m\u001b[0;34m,\u001b[0m \u001b[0mbytes\u001b[0m\u001b[0;34m)\u001b[0m\u001b[0;34m:\u001b[0m\u001b[0;34m\u001b[0m\u001b[0m\n",
      "\u001b[0;31mTypeError\u001b[0m: expected str, bytes or os.PathLike object, not method"
     ]
    }
   ],
   "source": [
    "from IPython.display import Image\n",
    "from rasa_core.agent import Agent\n",
    "\n",
    "agent = Agent('domain.yml')\n",
    "agent.visualize(\"stories.md\", \"story_graph.png\", max_history=2)\n",
    "Image(filename=\"story_graph.png\")"
   ]
  },
  {
   "cell_type": "markdown",
   "metadata": {
    "colab_type": "text",
    "id": "zQxY6m6kvlj3"
   },
   "source": [
    "### Treinando o modelo de diálogo\n",
    "\n",
    "`Para verificar possíveis melhorias no comportamento do bot mude a célula a seguir`\n",
    "\n",
    "**importante** após identifcar melhorias atualize o arquivo de treinho do bot `train.py`"
   ]
  },
  {
   "cell_type": "code",
   "execution_count": 22,
   "metadata": {
    "colab": {
     "autoexec": {
      "startup": false,
      "wait_interval": 0
     },
     "base_uri": "https://localhost:8080/",
     "height": 14025
    },
    "colab_type": "code",
    "executionInfo": {
     "elapsed": 12554,
     "status": "ok",
     "timestamp": 1521575068686,
     "user": {
      "displayName": "Ricardo Wölker",
      "photoUrl": "https://lh3.googleusercontent.com/a/default-user=s128",
      "userId": "115384113157413623365"
     },
     "user_tz": 0
    },
    "id": "PKV49d7tAxmS",
    "outputId": "ccb26bea-5be8-48f7-a88e-d70a6e4a1733",
    "scrolled": false
   },
   "outputs": [
    {
     "name": "stderr",
     "output_type": "stream",
     "text": [
      "Using TensorFlow backend.\n",
      "ERROR:pykwalify.core:validation.invalid\n",
      "ERROR:pykwalify.core: --- All found errors ---\n",
      "ERROR:pykwalify.core:['Value \\'{\\'utter_cumprimentar\\': [{\\'text\\': \\'Olá, meu  nome é Taís, sou assistente virtual do MinC\\\\n\\\\n Estou aqui para te ajudar a sanar dúvidas sobre a lei Rouanet\\\\n\\'}, {\\'text\\': \\'Oi, eu sou a Taís, assistente virtual do MinC\\\\n\\\\n Estou aqui para te ajudar a tirar dúvidas sobre a lei Rouanet\\\\n\\'}, {\\'text\\': \\'Oi, sou assistente virtual do MinC, me chamo Taís\\\\n\\\\n Estou aqui para te ajudar a esclarecer dúvidas sobre a lei Rouanet\\\\n\\'}], \\'utter_despedir\\': [{\\'text\\': \\'Foi um prazer te ajudar!\\\\n\\\\nSempre que tiver alguma dúvida, volte aqui!\\\\n\\\\nAté logo!\\\\n\\'}, {\\'text\\': \\'Foi um prazer te ajudar!\\\\n\\\\nSempre que precisar, volte aqui!\\\\n\\\\nAté a próxima!\\\\n\\'}, {\\'text\\': \\'Foi um prazer te ajudar!\\\\n\\\\nQuando surgir alguma dúvida, volte aqui!\\\\n\\\\nAté mais!\\\\n\\'}], \\'utter_fase_de_testes\\': [{\\'text\\': \\'Ainda não consigo falar sobre outros assuntos. \\\\n\\\\nEstou em fase de testes e a cada dia aprendo mais com vocês.\\\\n\\'}], \\'utexplicar_definicao_perfil\\': [{\\'text\\': \\'Se você quiser saber mais sobre a lei Rounet, nós podemos descobrir juntos sobre como ela foi criada,\\\\n\\\\no que ela proporciona, de onde vem o dinheiro usado na lei, e coisas afins.\\\\\\\\n\\\\n\\\\nSe você preferir falar sobre criação e andamento de projetos, podemos analisar onde a sua dúvida se encaixa.\\\\n\\\\nPor exemplo, talvez você queira saber mais sobre como funciona um andamento de projeto, ou como submeter um projeto, entre outras.\\\\n\\\\nDo que você prefere conversar?\\\\n\\'}], \\'utter_nova_proposta\\': [{\\'text\\': \\'Você já começou a trabalhar em uma nova proposta de projeto? (Sim ou Não)\\\\n\\'}], \\'utter_duvida_execucao\\': [{\\'text\\': \\'Você tem dúvida em relação à captação de verba e execução do \\\\n\\\\nprojeto? (Sim ou Não)\\\\n\\'}], \\'utter_conhece_processo\\': [{\\'text\\': \\'Você sabe como funciona o andamento de um projeto de incentivo a \\\\n\\\\ncultura? (Sim ou Não)\\\\n\\'}], \\'utter_cadastro_salic\\': [{\\'text\\': \\'Você já tem cadastro no SALIC? (Sim ou Não)\\\\n\\'}], \\'utter_aviso\\': [{\\'text\\': \\'Para eu ser mais eficiente na solução da sua dúvida vou fazer algumas perguntas.\\\\\\\\n\\\\n\\\\nVocê já preencheu uma proposta? (Sim ou Não)\\\\n\\'}], \\'utter_introduzir_execucao\\': [{\\'text\\': \\'Eu ainda não aprendi a falar sobre um projeto que está em Execução ou\\\\n\\\\nem Prestação de Contas. Ainda estou aprendendo =|\\\\n\\\\nEm breve eu poderei responder sua dúvida.\\\\n\\\\nNeste momento, eu recomendo que vocẽ entre em contato com as equipes da SEFIC:\\\\n\\\\nExecução: acompanhamento.incentivo@cultura.gov.br\\\\n\\\\nPrestação de Contas: prestacaodecontas.incentivo@cultura.gov.br\\\\n\\'}], \\'utter_submissao_de_projetos\\': [{\\'text\\': \\'Tudo bem. Aqui vai um resumo do processo:\\\\n\\\\nA pessoa responsável, chamada de proponente, insere uma proposta cultural no Sistema de Apoio às Leis de Incentivo à Cultura (Salic), de forma eletrônica.\\\\n\\\\nEssa proposta é analisada pelo MinC. Se for aprovada, autoriza o proponente a captar recursos.\\\\n\\\\nAssim que o valor mínimo for captado, o proponente pode começar a executar o projeto.\\\\n\\\\nDurante a execução o proponente deve prestar contas de acordo com os prazos definidos na Lei Rouanet.\\\\n\\\\nA prestação de contas é analisada pelos técnicos do Ministério e se aprovada, permite que o proponente crie um novo projeto.\\\\n\\\\nO primeiro passo para você particiar deste processo é ter cadastro no SALIC\\\\n\\'}], \\'utter_ja_eh_proponente\\': [{\\'text\\': \\'Você já tem um proponente cadastrado? (Sim ou Não)\\\\n\\'}], \\'utter_cadastro_salic_video\\': [{\\'text\\': \\'O Salic é o Sistema de Apoio às Leis de Incentivo à Cultura, e é por \\\\n\\\\nele que você cadastra a proposta e a acompanha\\\\n\\\\nSe você encontrar dificuldades no momento do cadastro, pode assistir\\\\neste vídeo, nele você pode observar o passo a passo para se cadastrar:\\\\n\\\\nhttps://youtu.be/rMGEZyIr1U8\\\\n\\\\nCaso você não possa ver o vídeo, eu posso te explicar. Quer que eu te explique? (Sim ou Não)\\\\n\\'}], \\'utter_explicar_cadastro_salic\\': [{\\'text\\': \\'A primeira coisa que você deve fazer é acessar o SALIC no site http://salic.cultura.gov.br\\\\n\\\\nEntão no formulário inicial, onde pede login e senha, você deve\\\\n\\\\nclicar na opção \"Não sou cadastrado\", logo abaixo\\\\n\\\\nPreencha todos os campos corretamente, todos eles são obrigatórios.\\\\n\\\\nE depois clique em \"Cadastrar\"\\\\n\\\\nAgora aguarde a chegada de um e-mail de confirmação. Este vai conter\\\\n\\\\numa senha temporária\\\\n\\\\nÉ interessante você alterar esta senha, por isso, no seu primeiro\\\\n\\\\nacesso, vá em \"Usuário > Alterar Senha\", para mudar a mesma\\\\n\\\\nAgora que você já se cadastrou, o próximo passo cadastrar um proponente\\\\n\\'}], \\'utter_cadastro_salic_apos_video\\': [{\\'text\\': \\'Espero que o vídeo tenha ajudado\\\\n\\\\nAgora que você já se cadastrou, o próximo passo cadastrar um proponente\\\\n\\'}], \\'utter_inscricao_proponente\\': [{\\'text\\': \\'Para inscrever um proponente, ou se tornar um proponente, você deve:\\\\n\\\\nAcessar o SALIC e efetuar o login\\\\n\\\\nClique em Administrativo e depois em cadastrar proponente. OU acesse esse link http://salic.cultura.gov.br/agente/agentes/incluiragente;\\\\n\\\\nSe você for uma pessoa física você precisa atuar na área cultural.\\\\n\\\\n Caso você seja uma pessoa jurídica pública tem que atuar na área de administração indireta ou uma pessoa jurídica privada com ou sem fins lucrativos.\\\\n\\'}], \\'utter_mais_alguma_pergunta\\': [{\\'text\\': \\'Você possui mais alguma dúvida? (Sim ou Não)\\\\n\\'}]}\\' is not a list. Value path: \\'/actions\\'']\n"
     ]
    },
    {
     "ename": "ValueError",
     "evalue": "Failed to validate your domain yaml '/home/arthur/Documents/lappis/bot/rasa-demo-pydata18/tais/domain.yml'. Make sure the file is correct, to do sotake a look at the errors logged during validation previous to this exception. ",
     "output_type": "error",
     "traceback": [
      "\u001b[0;31m---------------------------------------------------------------------------\u001b[0m",
      "\u001b[0;31mSchemaError\u001b[0m                               Traceback (most recent call last)",
      "\u001b[0;32m~/.pyenv/versions/3.6.6/lib/python3.6/site-packages/rasa_core/domain.py\u001b[0m in \u001b[0;36mvalidate_domain_yaml\u001b[0;34m(cls, filename)\u001b[0m\n\u001b[1;32m    439\u001b[0m         \u001b[0;32mtry\u001b[0m\u001b[0;34m:\u001b[0m\u001b[0;34m\u001b[0m\u001b[0m\n\u001b[0;32m--> 440\u001b[0;31m             \u001b[0mc\u001b[0m\u001b[0;34m.\u001b[0m\u001b[0mvalidate\u001b[0m\u001b[0;34m(\u001b[0m\u001b[0mraise_exception\u001b[0m\u001b[0;34m=\u001b[0m\u001b[0;32mTrue\u001b[0m\u001b[0;34m)\u001b[0m\u001b[0;34m\u001b[0m\u001b[0m\n\u001b[0m\u001b[1;32m    441\u001b[0m         \u001b[0;32mexcept\u001b[0m \u001b[0mSchemaError\u001b[0m\u001b[0;34m:\u001b[0m\u001b[0;34m\u001b[0m\u001b[0m\n",
      "\u001b[0;32m~/.pyenv/versions/3.6.6/lib/python3.6/site-packages/pykwalify/core.py\u001b[0m in \u001b[0;36mvalidate\u001b[0;34m(self, raise_exception)\u001b[0m\n\u001b[1;32m    175\u001b[0m                 raise SchemaError(u\"Schema validation failed:\\n - {error_msg}.\".format(\n\u001b[0;32m--> 176\u001b[0;31m                     error_msg=u'.\\n - '.join(self.validation_errors)))\n\u001b[0m\u001b[1;32m    177\u001b[0m             \u001b[0;32melse\u001b[0m\u001b[0;34m:\u001b[0m\u001b[0;34m\u001b[0m\u001b[0m\n",
      "\u001b[0;31mSchemaError\u001b[0m: <SchemaError: error code 2: Schema validation failed:\n - Value '{'utter_cumprimentar': [{'text': 'Olá, meu  nome é Taís, sou assistente virtual do MinC\\n\\n Estou aqui para te ajudar a sanar dúvidas sobre a lei Rouanet\\n'}, {'text': 'Oi, eu sou a Taís, assistente virtual do MinC\\n\\n Estou aqui para te ajudar a tirar dúvidas sobre a lei Rouanet\\n'}, {'text': 'Oi, sou assistente virtual do MinC, me chamo Taís\\n\\n Estou aqui para te ajudar a esclarecer dúvidas sobre a lei Rouanet\\n'}], 'utter_despedir': [{'text': 'Foi um prazer te ajudar!\\n\\nSempre que tiver alguma dúvida, volte aqui!\\n\\nAté logo!\\n'}, {'text': 'Foi um prazer te ajudar!\\n\\nSempre que precisar, volte aqui!\\n\\nAté a próxima!\\n'}, {'text': 'Foi um prazer te ajudar!\\n\\nQuando surgir alguma dúvida, volte aqui!\\n\\nAté mais!\\n'}], 'utter_fase_de_testes': [{'text': 'Ainda não consigo falar sobre outros assuntos. \\n\\nEstou em fase de testes e a cada dia aprendo mais com vocês.\\n'}], 'utexplicar_definicao_perfil': [{'text': 'Se você quiser saber mais sobre a lei Rounet, nós podemos descobrir juntos sobre como ela foi criada,\\n\\no que ela proporciona, de onde vem o dinheiro usado na lei, e coisas afins.\\\\n\\n\\nSe você preferir falar sobre criação e andamento de projetos, podemos analisar onde a sua dúvida se encaixa.\\n\\nPor exemplo, talvez você queira saber mais sobre como funciona um andamento de projeto, ou como submeter um projeto, entre outras.\\n\\nDo que você prefere conversar?\\n'}], 'utter_nova_proposta': [{'text': 'Você já começou a trabalhar em uma nova proposta de projeto? (Sim ou Não)\\n'}], 'utter_duvida_execucao': [{'text': 'Você tem dúvida em relação à captação de verba e execução do \\n\\nprojeto? (Sim ou Não)\\n'}], 'utter_conhece_processo': [{'text': 'Você sabe como funciona o andamento de um projeto de incentivo a \\n\\ncultura? (Sim ou Não)\\n'}], 'utter_cadastro_salic': [{'text': 'Você já tem cadastro no SALIC? (Sim ou Não)\\n'}], 'utter_aviso': [{'text': 'Para eu ser mais eficiente na solução da sua dúvida vou fazer algumas perguntas.\\\\n\\n\\nVocê já preencheu uma proposta? (Sim ou Não)\\n'}], 'utter_introduzir_execucao': [{'text': 'Eu ainda não aprendi a falar sobre um projeto que está em Execução ou\\n\\nem Prestação de Contas. Ainda estou aprendendo =|\\n\\nEm breve eu poderei responder sua dúvida.\\n\\nNeste momento, eu recomendo que vocẽ entre em contato com as equipes da SEFIC:\\n\\nExecução: acompanhamento.incentivo@cultura.gov.br\\n\\nPrestação de Contas: prestacaodecontas.incentivo@cultura.gov.br\\n'}], 'utter_submissao_de_projetos': [{'text': 'Tudo bem. Aqui vai um resumo do processo:\\n\\nA pessoa responsável, chamada de proponente, insere uma proposta cultural no Sistema de Apoio às Leis de Incentivo à Cultura (Salic), de forma eletrônica.\\n\\nEssa proposta é analisada pelo MinC. Se for aprovada, autoriza o proponente a captar recursos.\\n\\nAssim que o valor mínimo for captado, o proponente pode começar a executar o projeto.\\n\\nDurante a execução o proponente deve prestar contas de acordo com os prazos definidos na Lei Rouanet.\\n\\nA prestação de contas é analisada pelos técnicos do Ministério e se aprovada, permite que o proponente crie um novo projeto.\\n\\nO primeiro passo para você particiar deste processo é ter cadastro no SALIC\\n'}], 'utter_ja_eh_proponente': [{'text': 'Você já tem um proponente cadastrado? (Sim ou Não)\\n'}], 'utter_cadastro_salic_video': [{'text': 'O Salic é o Sistema de Apoio às Leis de Incentivo à Cultura, e é por \\n\\nele que você cadastra a proposta e a acompanha\\n\\nSe você encontrar dificuldades no momento do cadastro, pode assistir\\neste vídeo, nele você pode observar o passo a passo para se cadastrar:\\n\\nhttps://youtu.be/rMGEZyIr1U8\\n\\nCaso você não possa ver o vídeo, eu posso te explicar. Quer que eu te explique? (Sim ou Não)\\n'}], 'utter_explicar_cadastro_salic': [{'text': 'A primeira coisa que você deve fazer é acessar o SALIC no site http://salic.cultura.gov.br\\n\\nEntão no formulário inicial, onde pede login e senha, você deve\\n\\nclicar na opção \"Não sou cadastrado\", logo abaixo\\n\\nPreencha todos os campos corretamente, todos eles são obrigatórios.\\n\\nE depois clique em \"Cadastrar\"\\n\\nAgora aguarde a chegada de um e-mail de confirmação. Este vai conter\\n\\numa senha temporária\\n\\nÉ interessante você alterar esta senha, por isso, no seu primeiro\\n\\nacesso, vá em \"Usuário > Alterar Senha\", para mudar a mesma\\n\\nAgora que você já se cadastrou, o próximo passo cadastrar um proponente\\n'}], 'utter_cadastro_salic_apos_video': [{'text': 'Espero que o vídeo tenha ajudado\\n\\nAgora que você já se cadastrou, o próximo passo cadastrar um proponente\\n'}], 'utter_inscricao_proponente': [{'text': 'Para inscrever um proponente, ou se tornar um proponente, você deve:\\n\\nAcessar o SALIC e efetuar o login\\n\\nClique em Administrativo e depois em cadastrar proponente. OU acesse esse link http://salic.cultura.gov.br/agente/agentes/incluiragente;\\n\\nSe você for uma pessoa física você precisa atuar na área cultural.\\n\\n Caso você seja uma pessoa jurídica pública tem que atuar na área de administração indireta ou uma pessoa jurídica privada com ou sem fins lucrativos.\\n'}], 'utter_mais_alguma_pergunta': [{'text': 'Você possui mais alguma dúvida? (Sim ou Não)\\n'}]}' is not a list. Value path: '/actions'.: Path: '/'>",
      "\nDuring handling of the above exception, another exception occurred:\n",
      "\u001b[0;31mValueError\u001b[0m                                Traceback (most recent call last)",
      "\u001b[0;32m<ipython-input-22-97ca45b586fd>\u001b[0m in \u001b[0;36m<module>\u001b[0;34m\u001b[0m\n\u001b[1;32m      8\u001b[0m                           nlu_threshold=0.6)\n\u001b[1;32m      9\u001b[0m \u001b[0;34m\u001b[0m\u001b[0m\n\u001b[0;32m---> 10\u001b[0;31m \u001b[0magent\u001b[0m \u001b[0;34m=\u001b[0m \u001b[0mAgent\u001b[0m\u001b[0;34m(\u001b[0m\u001b[0;34m'domain.yml'\u001b[0m\u001b[0;34m,\u001b[0m \u001b[0mpolicies\u001b[0m\u001b[0;34m=\u001b[0m\u001b[0;34m[\u001b[0m\u001b[0mMemoizationPolicy\u001b[0m\u001b[0;34m(\u001b[0m\u001b[0;34m)\u001b[0m\u001b[0;34m,\u001b[0m \u001b[0mKerasPolicy\u001b[0m\u001b[0;34m(\u001b[0m\u001b[0;34m)\u001b[0m\u001b[0;34m,\u001b[0m \u001b[0mfallback\u001b[0m\u001b[0;34m]\u001b[0m\u001b[0;34m)\u001b[0m\u001b[0;34m\u001b[0m\u001b[0m\n\u001b[0m\u001b[1;32m     11\u001b[0m \u001b[0;34m\u001b[0m\u001b[0m\n\u001b[1;32m     12\u001b[0m \u001b[0;31m# loading our neatly defined training dialogues\u001b[0m\u001b[0;34m\u001b[0m\u001b[0;34m\u001b[0m\u001b[0m\n",
      "\u001b[0;32m~/.pyenv/versions/3.6.6/lib/python3.6/site-packages/rasa_core/agent.py\u001b[0m in \u001b[0;36m__init__\u001b[0;34m(self, domain, policies, interpreter, tracker_store)\u001b[0m\n\u001b[1;32m     43\u001b[0m             \u001b[0mtracker_store\u001b[0m\u001b[0;34m=\u001b[0m\u001b[0;32mNone\u001b[0m  \u001b[0;31m# type: Optional[TrackerStore]\u001b[0m\u001b[0;34m\u001b[0m\u001b[0m\n\u001b[1;32m     44\u001b[0m     ):\n\u001b[0;32m---> 45\u001b[0;31m         \u001b[0mself\u001b[0m\u001b[0;34m.\u001b[0m\u001b[0mdomain\u001b[0m \u001b[0;34m=\u001b[0m \u001b[0mself\u001b[0m\u001b[0;34m.\u001b[0m\u001b[0m_create_domain\u001b[0m\u001b[0;34m(\u001b[0m\u001b[0mdomain\u001b[0m\u001b[0;34m)\u001b[0m\u001b[0;34m\u001b[0m\u001b[0m\n\u001b[0m\u001b[1;32m     46\u001b[0m         \u001b[0mself\u001b[0m\u001b[0;34m.\u001b[0m\u001b[0mpolicy_ensemble\u001b[0m \u001b[0;34m=\u001b[0m \u001b[0mself\u001b[0m\u001b[0;34m.\u001b[0m\u001b[0m_create_ensemble\u001b[0m\u001b[0;34m(\u001b[0m\u001b[0mpolicies\u001b[0m\u001b[0;34m)\u001b[0m\u001b[0;34m\u001b[0m\u001b[0m\n\u001b[1;32m     47\u001b[0m         \u001b[0mself\u001b[0m\u001b[0;34m.\u001b[0m\u001b[0minterpreter\u001b[0m \u001b[0;34m=\u001b[0m \u001b[0mNaturalLanguageInterpreter\u001b[0m\u001b[0;34m.\u001b[0m\u001b[0mcreate\u001b[0m\u001b[0;34m(\u001b[0m\u001b[0minterpreter\u001b[0m\u001b[0;34m)\u001b[0m\u001b[0;34m\u001b[0m\u001b[0m\n",
      "\u001b[0;32m~/.pyenv/versions/3.6.6/lib/python3.6/site-packages/rasa_core/agent.py\u001b[0m in \u001b[0;36m_create_domain\u001b[0;34m(domain)\u001b[0m\n\u001b[1;32m    343\u001b[0m \u001b[0;34m\u001b[0m\u001b[0m\n\u001b[1;32m    344\u001b[0m         \u001b[0;32mif\u001b[0m \u001b[0misinstance\u001b[0m\u001b[0;34m(\u001b[0m\u001b[0mdomain\u001b[0m\u001b[0;34m,\u001b[0m \u001b[0mstring_types\u001b[0m\u001b[0;34m)\u001b[0m\u001b[0;34m:\u001b[0m\u001b[0;34m\u001b[0m\u001b[0m\n\u001b[0;32m--> 345\u001b[0;31m             \u001b[0;32mreturn\u001b[0m \u001b[0mTemplateDomain\u001b[0m\u001b[0;34m.\u001b[0m\u001b[0mload\u001b[0m\u001b[0;34m(\u001b[0m\u001b[0mdomain\u001b[0m\u001b[0;34m)\u001b[0m\u001b[0;34m\u001b[0m\u001b[0m\n\u001b[0m\u001b[1;32m    346\u001b[0m         \u001b[0;32melif\u001b[0m \u001b[0misinstance\u001b[0m\u001b[0;34m(\u001b[0m\u001b[0mdomain\u001b[0m\u001b[0;34m,\u001b[0m \u001b[0mDomain\u001b[0m\u001b[0;34m)\u001b[0m\u001b[0;34m:\u001b[0m\u001b[0;34m\u001b[0m\u001b[0m\n\u001b[1;32m    347\u001b[0m             \u001b[0;32mreturn\u001b[0m \u001b[0mdomain\u001b[0m\u001b[0;34m\u001b[0m\u001b[0m\n",
      "\u001b[0;32m~/.pyenv/versions/3.6.6/lib/python3.6/site-packages/rasa_core/domain.py\u001b[0m in \u001b[0;36mload\u001b[0;34m(cls, filename, action_factory)\u001b[0m\n\u001b[1;32m    402\u001b[0m                     \"File not found!\".format(os.path.abspath(filename)))\n\u001b[1;32m    403\u001b[0m \u001b[0;34m\u001b[0m\u001b[0m\n\u001b[0;32m--> 404\u001b[0;31m         \u001b[0mcls\u001b[0m\u001b[0;34m.\u001b[0m\u001b[0mvalidate_domain_yaml\u001b[0m\u001b[0;34m(\u001b[0m\u001b[0mfilename\u001b[0m\u001b[0;34m)\u001b[0m\u001b[0;34m\u001b[0m\u001b[0m\n\u001b[0m\u001b[1;32m    405\u001b[0m         \u001b[0mdata\u001b[0m \u001b[0;34m=\u001b[0m \u001b[0mread_yaml_file\u001b[0m\u001b[0;34m(\u001b[0m\u001b[0mfilename\u001b[0m\u001b[0;34m)\u001b[0m\u001b[0;34m\u001b[0m\u001b[0m\n\u001b[1;32m    406\u001b[0m         \u001b[0mutter_templates\u001b[0m \u001b[0;34m=\u001b[0m \u001b[0mcls\u001b[0m\u001b[0;34m.\u001b[0m\u001b[0mcollect_templates\u001b[0m\u001b[0;34m(\u001b[0m\u001b[0mdata\u001b[0m\u001b[0;34m.\u001b[0m\u001b[0mget\u001b[0m\u001b[0;34m(\u001b[0m\u001b[0;34m\"templates\"\u001b[0m\u001b[0;34m,\u001b[0m \u001b[0;34m{\u001b[0m\u001b[0;34m}\u001b[0m\u001b[0;34m)\u001b[0m\u001b[0;34m)\u001b[0m\u001b[0;34m\u001b[0m\u001b[0m\n",
      "\u001b[0;32m~/.pyenv/versions/3.6.6/lib/python3.6/site-packages/rasa_core/domain.py\u001b[0m in \u001b[0;36mvalidate_domain_yaml\u001b[0;34m(cls, filename)\u001b[0m\n\u001b[1;32m    444\u001b[0m                              \u001b[0;34m\"take a look at the errors logged during \"\u001b[0m\u001b[0;34m\u001b[0m\u001b[0m\n\u001b[1;32m    445\u001b[0m                              \u001b[0;34m\"validation previous to this exception. \"\u001b[0m\u001b[0;34m\u001b[0m\u001b[0m\n\u001b[0;32m--> 446\u001b[0;31m                              \"\".format(os.path.abspath(filename)))\n\u001b[0m\u001b[1;32m    447\u001b[0m \u001b[0;34m\u001b[0m\u001b[0m\n\u001b[1;32m    448\u001b[0m     \u001b[0;34m@\u001b[0m\u001b[0mstaticmethod\u001b[0m\u001b[0;34m\u001b[0m\u001b[0m\n",
      "\u001b[0;31mValueError\u001b[0m: Failed to validate your domain yaml '/home/arthur/Documents/lappis/bot/rasa-demo-pydata18/tais/domain.yml'. Make sure the file is correct, to do sotake a look at the errors logged during validation previous to this exception. "
     ]
    }
   ],
   "source": [
    "from rasa_core.policies import FallbackPolicy, KerasPolicy, MemoizationPolicy\n",
    "from rasa_core.agent import Agent\n",
    "\n",
    "# this will catch predictions the model isn't very certain about\n",
    "# there is a threshold for the NLU predictions as well as the action predictions\n",
    "fallback = FallbackPolicy(fallback_action_name=\"utter_unclear\",\n",
    "                          core_threshold=0.2,\n",
    "                          nlu_threshold=0.6)\n",
    "\n",
    "agent = Agent('domain.yml', policies=[MemoizationPolicy(), KerasPolicy(), fallback])\n",
    "\n",
    "# loading our neatly defined training dialogues\n",
    "training_data = agent.load_data('stories.md')\n",
    "\n",
    "agent.train(\n",
    "    training_data,\n",
    "    validation_split=0.0,\n",
    "    epochs=400\n",
    ")\n",
    "\n",
    "agent.persist('models/dialogue')"
   ]
  },
  {
   "cell_type": "markdown",
   "metadata": {
    "colab_type": "text",
    "id": "FSjCEdvlzfSR"
   },
   "source": [
    "### Inicializando bot completo (core+nlu)"
   ]
  },
  {
   "cell_type": "code",
   "execution_count": 44,
   "metadata": {
    "colab": {
     "autoexec": {
      "startup": false,
      "wait_interval": 0
     },
     "base_uri": "https://localhost:8080/",
     "height": 34
    },
    "colab_type": "code",
    "executionInfo": {
     "elapsed": 1799,
     "status": "ok",
     "timestamp": 1521380071327,
     "user": {
      "displayName": "Alexander Weidauer",
      "photoUrl": "//lh6.googleusercontent.com/-j4xnI5_PFWA/AAAAAAAAAAI/AAAAAAAAAAo/wPT2w5Bl3xg/s50-c-k-no/photo.jpg",
      "userId": "100444450157165144272"
     },
     "user_tz": -60
    },
    "id": "Ywxs0ljHgkLm",
    "outputId": "e11a8abd-70f6-41c5-ccd1-a7cba7146ce9",
    "scrolled": true
   },
   "outputs": [
    {
     "name": "stderr",
     "output_type": "stream",
     "text": [
      "INFO:rasa_nlu.components:Added 'nlp_spacy' to component cache. Key 'nlp_spacy-en'.\n"
     ]
    }
   ],
   "source": [
    "from rasa_core.agent import Agent\n",
    "agent = Agent.load('models/dialogue', interpreter=model_directory)"
   ]
  },
  {
   "cell_type": "markdown",
   "metadata": {
    "colab_type": "text",
    "id": "5MnGuFRpzzBh"
   },
   "source": [
    "### Testando conversação"
   ]
  },
  {
   "cell_type": "code",
   "execution_count": 23,
   "metadata": {
    "colab": {
     "autoexec": {
      "startup": false,
      "wait_interval": 0
     },
     "base_uri": "https://localhost:8080/",
     "height": 1340
    },
    "colab_type": "code",
    "executionInfo": {
     "elapsed": 57365,
     "status": "error",
     "timestamp": 1521380132537,
     "user": {
      "displayName": "Alexander Weidauer",
      "photoUrl": "//lh6.googleusercontent.com/-j4xnI5_PFWA/AAAAAAAAAAI/AAAAAAAAAAo/wPT2w5Bl3xg/s50-c-k-no/photo.jpg",
      "userId": "100444450157165144272"
     },
     "user_tz": -60
    },
    "id": "t_4zHDsgkbno",
    "outputId": "57473fce-7184-45d1-f2b2-470bfc84244e",
    "scrolled": true
   },
   "outputs": [
    {
     "name": "stdout",
     "output_type": "stream",
     "text": [
      "Converse com o bot, diga 'stop' para encerrar teste.\n",
      "sim\n"
     ]
    },
    {
     "ename": "NameError",
     "evalue": "name 'agent' is not defined",
     "output_type": "error",
     "traceback": [
      "\u001b[0;31m---------------------------------------------------------------------------\u001b[0m",
      "\u001b[0;31mNameError\u001b[0m                                 Traceback (most recent call last)",
      "\u001b[0;32m<ipython-input-23-a5cd8b9387d8>\u001b[0m in \u001b[0;36m<module>\u001b[0;34m\u001b[0m\n\u001b[1;32m      4\u001b[0m     \u001b[0;32mif\u001b[0m \u001b[0ma\u001b[0m \u001b[0;34m==\u001b[0m \u001b[0;34m'stop'\u001b[0m\u001b[0;34m:\u001b[0m\u001b[0;34m\u001b[0m\u001b[0m\n\u001b[1;32m      5\u001b[0m         \u001b[0;32mbreak\u001b[0m\u001b[0;34m\u001b[0m\u001b[0m\n\u001b[0;32m----> 6\u001b[0;31m     \u001b[0mresponses\u001b[0m \u001b[0;34m=\u001b[0m \u001b[0magent\u001b[0m\u001b[0;34m.\u001b[0m\u001b[0mhandle_message\u001b[0m\u001b[0;34m(\u001b[0m\u001b[0ma\u001b[0m\u001b[0;34m)\u001b[0m\u001b[0;34m\u001b[0m\u001b[0m\n\u001b[0m\u001b[1;32m      7\u001b[0m     \u001b[0;32mfor\u001b[0m \u001b[0mresponse\u001b[0m \u001b[0;32min\u001b[0m \u001b[0mresponses\u001b[0m\u001b[0;34m:\u001b[0m\u001b[0;34m\u001b[0m\u001b[0m\n\u001b[1;32m      8\u001b[0m         \u001b[0mprint\u001b[0m\u001b[0;34m(\u001b[0m\u001b[0mresponse\u001b[0m\u001b[0;34m[\u001b[0m\u001b[0;34m\"text\"\u001b[0m\u001b[0;34m]\u001b[0m\u001b[0;34m)\u001b[0m\u001b[0;34m\u001b[0m\u001b[0m\n",
      "\u001b[0;31mNameError\u001b[0m: name 'agent' is not defined"
     ]
    }
   ],
   "source": [
    "print(\"Converse com o bot, diga 'stop' para encerrar teste.\")\n",
    "while True:\n",
    "    a = input()\n",
    "    if a == 'stop':\n",
    "        break\n",
    "    responses = agent.handle_message(a)\n",
    "    for response in responses:\n",
    "        print(response[\"text\"])\n"
   ]
  },
  {
   "cell_type": "markdown",
   "metadata": {},
   "source": [
    "### Avaliação do modelo de diálogo (`stories`)"
   ]
  },
  {
   "cell_type": "code",
   "execution_count": 46,
   "metadata": {
    "scrolled": true
   },
   "outputs": [
    {
     "name": "stderr",
     "output_type": "stream",
     "text": [
      "Processed Story Blocks: 100%|██████████| 6/6 [00:00<00:00, 451.74it/s, # trackers=1]\n",
      "Processed Story Blocks: 100%|██████████| 6/6 [00:00<00:00, 45425.68it/s]\n",
      "Processed Story Blocks: 100%|██████████| 6/6 [00:00<00:00, 1871.90it/s]\n",
      "INFO:rasa_core.evaluate:Evaluating 6 stories\n",
      "Progress:\n",
      "100%|██████████| 6/6 [00:00<00:00, 27.54it/s]\n",
      "INFO:rasa_nlu.evaluate:F1-Score:  1.0\n",
      "INFO:rasa_nlu.evaluate:Precision: 1.0\n",
      "INFO:rasa_nlu.evaluate:Accuracy:  1.0\n",
      "INFO:rasa_nlu.evaluate:Classification report: \n",
      "                       precision    recall  f1-score   support\n",
      "\n",
      "        action_listen       1.00      1.00      1.00        13\n",
      "action_retrieve_image       1.00      1.00      1.00         2\n",
      "       utter_cheer_up       1.00      1.00      1.00         2\n",
      "  utter_did_that_help       1.00      1.00      1.00         2\n",
      "        utter_goodbye       1.00      1.00      1.00         3\n",
      "          utter_greet       1.00      1.00      1.00         3\n",
      "          utter_happy       1.00      1.00      1.00         4\n",
      "        utter_unclear       1.00      1.00      1.00         1\n",
      "\n",
      "          avg / total       1.00      1.00      1.00        30\n",
      "\n",
      "INFO:rasa_nlu.evaluate:Confusion matrix, without normalization: \n",
      "[[13  0  0  0  0  0  0  0]\n",
      " [ 0  2  0  0  0  0  0  0]\n",
      " [ 0  0  2  0  0  0  0  0]\n",
      " [ 0  0  0  2  0  0  0  0]\n",
      " [ 0  0  0  0  3  0  0  0]\n",
      " [ 0  0  0  0  0  3  0  0]\n",
      " [ 0  0  0  0  0  0  4  0]\n",
      " [ 0  0  0  0  0  0  0  1]]\n"
     ]
    },
    {
     "data": {
      "image/png": "[encoded data removed]",
      "text/plain": [
       "<Figure size 1440x1440 with 2 Axes>"
      ]
     },
     "metadata": {
      "needs_background": "light"
     },
     "output_type": "display_data"
    }
   ],
   "source": [
    "from rasa_core.evaluate import run_story_evaluation\n",
    "\n",
    "run_story_evaluation(\"stories.md\", \"models/dialogue\", \n",
    "                     nlu_model_path=None, \n",
    "                     max_stories=None, \n",
    "                     out_file_plot=\"story_eval.pdf\")"
   ]
  },
  {
   "cell_type": "code",
   "execution_count": null,
   "metadata": {
    "scrolled": true
   },
   "outputs": [],
   "source": []
  }
 ],
 "metadata": {
  "colab": {
   "collapsed_sections": [
    "y4miuS-TqYcn",
    "BBF6Nqi9scQE",
    "Fs3nOUzBsqrG",
    "5MnGuFRpzzBh"
   ],
   "default_view": {},
   "name": "Building a Simple Bot with Rasa Stack - Tutorial",
   "provenance": [
    {
     "file_id": "1GutDkDXmfU-nRzNH7Pxxx8YpdvLUw9LO",
     "timestamp": 1521183725373
    }
   ],
   "toc_visible": true,
   "version": "0.3.2",
   "views": {}
  },
  "kernelspec": {
   "display_name": "Python 3",
   "language": "python",
   "name": "python3"
  },
  "language_info": {
   "codemirror_mode": {
    "name": "ipython",
    "version": 3
   },
   "file_extension": ".py",
   "mimetype": "text/x-python",
   "name": "python",
   "nbconvert_exporter": "python",
   "pygments_lexer": "ipython3",
   "version": "3.6.6"
  }
 },
 "nbformat": 4,
 "nbformat_minor": 1
}
