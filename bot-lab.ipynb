{
 "cells": [
  {
   "cell_type": "markdown",
   "metadata": {
    "colab_type": "text",
    "id": "kO9wt2g3okLS"
   },
   "source": [
    "# Analisando o bot\n",
    "\n",
    "Este jupyter-notebook vai auxiliar na análise de um RASA bot."
   ]
  },
  {
   "cell_type": "markdown",
   "metadata": {},
   "source": [
    "## Instalação\n",
    "\n",
    "### Configurando jupyter"
   ]
  },
  {
   "cell_type": "code",
   "execution_count": 30,
   "metadata": {},
   "outputs": [],
   "source": [
    "%matplotlib inline\n",
    "\n",
    "import logging, io, json, warnings\n",
    "logging.basicConfig(level=\"INFO\")\n",
    "warnings.filterwarnings('ignore')\n",
    "\n",
    "def pprint(o):\n",
    "    # small helper to make dict dumps a bit prettier\n",
    "    print(json.dumps(o, indent=2))"
   ]
  },
  {
   "cell_type": "markdown",
   "metadata": {
    "colab_type": "text",
    "id": "y4miuS-TqYcn"
   },
   "source": [
    "### Instalação do Rasa\n"
   ]
  },
  {
   "cell_type": "code",
   "execution_count": 31,
   "metadata": {
    "colab": {
     "autoexec": {
      "startup": false,
      "wait_interval": 0
     },
     "base_uri": "https://localhost:8080/",
     "height": 3607
    },
    "colab_type": "code",
    "executionInfo": {
     "elapsed": 58315,
     "status": "ok",
     "timestamp": 1521575035242,
     "user": {
      "displayName": "Ricardo Wölker",
      "photoUrl": "https://lh3.googleusercontent.com/a/default-user=s128",
      "userId": "115384113157413623365"
     },
     "user_tz": 0
    },
    "id": "X_2-sKgo_qyl",
    "outputId": "b947c702-75fa-406d-d21d-a691dcb5236d",
    "scrolled": false
   },
   "outputs": [
    {
     "name": "stdout",
     "output_type": "stream",
     "text": [
      "Requirement already up-to-date: rasa_core==0.9.0a7 in /home/arthur/.pyenv/versions/3.6.6/lib/python3.6/site-packages (0.9.0a7)\n",
      "Requirement already up-to-date: rasa_nlu[spacy] in /home/arthur/.pyenv/versions/3.6.6/lib/python3.6/site-packages (0.13.7)\n",
      "Requirement already satisfied, skipping upgrade: coloredlogs~=10.0 in /home/arthur/.pyenv/versions/3.6.6/lib/python3.6/site-packages (from rasa_core==0.9.0a7) (10.0)\n",
      "Requirement already satisfied, skipping upgrade: typing~=3.0 in /home/arthur/.pyenv/versions/3.6.6/lib/python3.6/site-packages (from rasa_core==0.9.0a7) (3.6.6)\n",
      "Requirement already satisfied, skipping upgrade: colorhash~=1.0 in /home/arthur/.pyenv/versions/3.6.6/lib/python3.6/site-packages (from rasa_core==0.9.0a7) (1.0.2)\n",
      "Requirement already satisfied, skipping upgrade: keras~=2.0 in /home/arthur/.pyenv/versions/3.6.6/lib/python3.6/site-packages (from rasa_core==0.9.0a7) (2.2.4)\n",
      "Requirement already satisfied, skipping upgrade: six~=1.0 in /home/arthur/.pyenv/versions/3.6.6/lib/python3.6/site-packages (from rasa_core==0.9.0a7) (1.11.0)\n",
      "Requirement already satisfied, skipping upgrade: python-telegram-bot~=10.0 in /home/arthur/.pyenv/versions/3.6.6/lib/python3.6/site-packages (from rasa_core==0.9.0a7) (10.1.0)\n",
      "Requirement already satisfied, skipping upgrade: numpy~=1.13 in /home/arthur/.pyenv/versions/3.6.6/lib/python3.6/site-packages (from rasa_core==0.9.0a7) (1.15.2)\n",
      "Requirement already satisfied, skipping upgrade: ConfigArgParse~=0.13.0 in /home/arthur/.pyenv/versions/3.6.6/lib/python3.6/site-packages (from rasa_core==0.9.0a7) (0.13.0)\n",
      "Requirement already satisfied, skipping upgrade: slackclient~=1.0 in /home/arthur/.pyenv/versions/3.6.6/lib/python3.6/site-packages (from rasa_core==0.9.0a7) (1.3.0)\n",
      "Requirement already satisfied, skipping upgrade: pykwalify<=1.6.0 in /home/arthur/.pyenv/versions/3.6.6/lib/python3.6/site-packages (from rasa_core==0.9.0a7) (1.6.0)\n",
      "Requirement already satisfied, skipping upgrade: flask~=1.0 in /home/arthur/.pyenv/versions/3.6.6/lib/python3.6/site-packages (from rasa_core==0.9.0a7) (1.0.2)\n",
      "Requirement already satisfied, skipping upgrade: graphviz~=0.8.0 in /home/arthur/.pyenv/versions/3.6.6/lib/python3.6/site-packages (from rasa_core==0.9.0a7) (0.8.4)\n",
      "Requirement already satisfied, skipping upgrade: redis~=2.0 in /home/arthur/.pyenv/versions/3.6.6/lib/python3.6/site-packages (from rasa_core==0.9.0a7) (2.10.6)\n",
      "Requirement already satisfied, skipping upgrade: fbmessenger~=5.0 in /home/arthur/.pyenv/versions/3.6.6/lib/python3.6/site-packages (from rasa_core==0.9.0a7) (5.3.1)\n",
      "Requirement already satisfied, skipping upgrade: fakeredis~=0.10.0 in /home/arthur/.pyenv/versions/3.6.6/lib/python3.6/site-packages (from rasa_core==0.9.0a7) (0.10.3)\n",
      "Requirement already satisfied, skipping upgrade: scikit-learn~=0.19.0 in /home/arthur/.pyenv/versions/3.6.6/lib/python3.6/site-packages (from rasa_core==0.9.0a7) (0.19.2)\n",
      "Requirement already satisfied, skipping upgrade: twilio~=6.0 in /home/arthur/.pyenv/versions/3.6.6/lib/python3.6/site-packages (from rasa_core==0.9.0a7) (6.18.1)\n",
      "Requirement already satisfied, skipping upgrade: mattermostwrapper~=2.0 in /home/arthur/.pyenv/versions/3.6.6/lib/python3.6/site-packages (from rasa_core==0.9.0a7) (2.1)\n",
      "Requirement already satisfied, skipping upgrade: flask-cors~=3.0 in /home/arthur/.pyenv/versions/3.6.6/lib/python3.6/site-packages (from rasa_core==0.9.0a7) (3.0.6)\n",
      "Requirement already satisfied, skipping upgrade: h5py~=2.0 in /home/arthur/.pyenv/versions/3.6.6/lib/python3.6/site-packages (from rasa_core==0.9.0a7) (2.8.0)\n",
      "Requirement already satisfied, skipping upgrade: requests~=2.15 in /home/arthur/.pyenv/versions/3.6.6/lib/python3.6/site-packages (from rasa_core==0.9.0a7) (2.19.1)\n",
      "Requirement already satisfied, skipping upgrade: networkx~=2.0 in /home/arthur/.pyenv/versions/3.6.6/lib/python3.6/site-packages (from rasa_core==0.9.0a7) (2.2)\n",
      "Requirement already satisfied, skipping upgrade: apscheduler~=3.0 in /home/arthur/.pyenv/versions/3.6.6/lib/python3.6/site-packages (from rasa_core==0.9.0a7) (3.5.3)\n",
      "Requirement already satisfied, skipping upgrade: jsonpickle~=0.9.0 in /home/arthur/.pyenv/versions/3.6.6/lib/python3.6/site-packages (from rasa_core==0.9.0a7) (0.9.6)\n",
      "Requirement already satisfied, skipping upgrade: ruamel.yaml~=0.15.0 in /home/arthur/.pyenv/versions/3.6.6/lib/python3.6/site-packages (from rasa_core==0.9.0a7) (0.15.72)\n",
      "Requirement already satisfied, skipping upgrade: tensorflow<1.9,>=1.7 in /home/arthur/.pyenv/versions/3.6.6/lib/python3.6/site-packages (from rasa_core==0.9.0a7) (1.8.0)\n",
      "Requirement already satisfied, skipping upgrade: future~=0.16 in /home/arthur/.pyenv/versions/3.6.6/lib/python3.6/site-packages (from rasa_core==0.9.0a7) (0.16.0)\n",
      "Requirement already satisfied, skipping upgrade: tqdm~=4.0 in /home/arthur/.pyenv/versions/3.6.6/lib/python3.6/site-packages (from rasa_core==0.9.0a7) (4.26.0)\n",
      "Requirement already satisfied, skipping upgrade: klein in /home/arthur/.pyenv/versions/3.6.6/lib/python3.6/site-packages (from rasa_nlu[spacy]) (17.10.0)\n",
      "Requirement already satisfied, skipping upgrade: cloudpickle in /home/arthur/.pyenv/versions/3.6.6/lib/python3.6/site-packages (from rasa_nlu[spacy]) (0.6.1)\n",
      "Requirement already satisfied, skipping upgrade: simplejson in /home/arthur/.pyenv/versions/3.6.6/lib/python3.6/site-packages (from rasa_nlu[spacy]) (3.16.0)\n",
      "Requirement already satisfied, skipping upgrade: pyyaml in /home/arthur/.pyenv/versions/3.6.6/lib/python3.6/site-packages (from rasa_nlu[spacy]) (3.13)\n",
      "Requirement already satisfied, skipping upgrade: matplotlib~=2.0 in /home/arthur/.pyenv/versions/3.6.6/lib/python3.6/site-packages (from rasa_nlu[spacy]) (2.2.3)\n",
      "Requirement already satisfied, skipping upgrade: boto3 in /home/arthur/.pyenv/versions/3.6.6/lib/python3.6/site-packages (from rasa_nlu[spacy]) (1.9.23)\n",
      "Requirement already satisfied, skipping upgrade: gevent in /home/arthur/.pyenv/versions/3.6.6/lib/python3.6/site-packages (from rasa_nlu[spacy]) (1.3.7)\n",
      "Requirement already satisfied, skipping upgrade: jsonschema in /home/arthur/.pyenv/versions/3.6.6/lib/python3.6/site-packages (from rasa_nlu[spacy]) (2.6.0)\n",
      "Requirement already satisfied, skipping upgrade: packaging in /home/arthur/.pyenv/versions/3.6.6/lib/python3.6/site-packages (from rasa_nlu[spacy]) (17.1)\n",
      "Requirement already satisfied, skipping upgrade: pathlib in /home/arthur/.pyenv/versions/3.6.6/lib/python3.6/site-packages (from rasa_nlu[spacy]) (1.0.1)\n",
      "Requirement already satisfied, skipping upgrade: spacy>2.0; extra == \"spacy\" in /home/arthur/.pyenv/versions/3.6.6/lib/python3.6/site-packages (from rasa_nlu[spacy]) (2.0.16)\n",
      "Requirement already satisfied, skipping upgrade: sklearn-crfsuite; extra == \"spacy\" in /home/arthur/.pyenv/versions/3.6.6/lib/python3.6/site-packages (from rasa_nlu[spacy]) (0.3.6)\n",
      "Requirement already satisfied, skipping upgrade: scipy; extra == \"spacy\" in /home/arthur/.pyenv/versions/3.6.6/lib/python3.6/site-packages (from rasa_nlu[spacy]) (1.1.0)\n",
      "Requirement already satisfied, skipping upgrade: humanfriendly>=4.7 in /home/arthur/.pyenv/versions/3.6.6/lib/python3.6/site-packages (from coloredlogs~=10.0->rasa_core==0.9.0a7) (4.16.1)\n",
      "Requirement already satisfied, skipping upgrade: keras-preprocessing>=1.0.5 in /home/arthur/.pyenv/versions/3.6.6/lib/python3.6/site-packages (from keras~=2.0->rasa_core==0.9.0a7) (1.0.5)\n",
      "Requirement already satisfied, skipping upgrade: keras-applications>=1.0.6 in /home/arthur/.pyenv/versions/3.6.6/lib/python3.6/site-packages (from keras~=2.0->rasa_core==0.9.0a7) (1.0.6)\n",
      "Requirement already satisfied, skipping upgrade: certifi in /home/arthur/.pyenv/versions/3.6.6/lib/python3.6/site-packages (from python-telegram-bot~=10.0->rasa_core==0.9.0a7) (2018.10.15)\n",
      "Requirement already satisfied, skipping upgrade: websocket-client<1.0a0,>=0.35 in /home/arthur/.pyenv/versions/3.6.6/lib/python3.6/site-packages (from slackclient~=1.0->rasa_core==0.9.0a7) (0.53.0)\n",
      "Requirement already satisfied, skipping upgrade: docopt>=0.6.2 in /home/arthur/.pyenv/versions/3.6.6/lib/python3.6/site-packages (from pykwalify<=1.6.0->rasa_core==0.9.0a7) (0.6.2)\n",
      "Requirement already satisfied, skipping upgrade: python-dateutil>=2.4.2 in /home/arthur/.pyenv/versions/3.6.6/lib/python3.6/site-packages (from pykwalify<=1.6.0->rasa_core==0.9.0a7) (2.7.3)\n"
     ]
    },
    {
     "name": "stdout",
     "output_type": "stream",
     "text": [
      "Requirement already satisfied, skipping upgrade: Werkzeug>=0.14 in /home/arthur/.pyenv/versions/3.6.6/lib/python3.6/site-packages (from flask~=1.0->rasa_core==0.9.0a7) (0.14.1)\n",
      "Requirement already satisfied, skipping upgrade: click>=5.1 in /home/arthur/.pyenv/versions/3.6.6/lib/python3.6/site-packages (from flask~=1.0->rasa_core==0.9.0a7) (7.0)\n",
      "Requirement already satisfied, skipping upgrade: itsdangerous>=0.24 in /home/arthur/.pyenv/versions/3.6.6/lib/python3.6/site-packages (from flask~=1.0->rasa_core==0.9.0a7) (0.24)\n",
      "Requirement already satisfied, skipping upgrade: Jinja2>=2.10 in /home/arthur/.pyenv/versions/3.6.6/lib/python3.6/site-packages (from flask~=1.0->rasa_core==0.9.0a7) (2.10)\n",
      "Requirement already satisfied, skipping upgrade: pytz in /home/arthur/.pyenv/versions/3.6.6/lib/python3.6/site-packages (from twilio~=6.0->rasa_core==0.9.0a7) (2018.5)\n",
      "Requirement already satisfied, skipping upgrade: PyJWT>=1.4.2 in /home/arthur/.pyenv/versions/3.6.6/lib/python3.6/site-packages (from twilio~=6.0->rasa_core==0.9.0a7) (1.6.4)\n",
      "Requirement already satisfied, skipping upgrade: pysocks; python_version >= \"3.0\" in /home/arthur/.pyenv/versions/3.6.6/lib/python3.6/site-packages (from twilio~=6.0->rasa_core==0.9.0a7) (1.6.8)\n",
      "Requirement already satisfied, skipping upgrade: urllib3<1.24,>=1.21.1 in /home/arthur/.pyenv/versions/3.6.6/lib/python3.6/site-packages (from requests~=2.15->rasa_core==0.9.0a7) (1.23)\n",
      "Requirement already satisfied, skipping upgrade: idna<2.8,>=2.5 in /home/arthur/.pyenv/versions/3.6.6/lib/python3.6/site-packages (from requests~=2.15->rasa_core==0.9.0a7) (2.7)\n",
      "Requirement already satisfied, skipping upgrade: chardet<3.1.0,>=3.0.2 in /home/arthur/.pyenv/versions/3.6.6/lib/python3.6/site-packages (from requests~=2.15->rasa_core==0.9.0a7) (3.0.4)\n",
      "Requirement already satisfied, skipping upgrade: decorator>=4.3.0 in /home/arthur/.pyenv/versions/3.6.6/lib/python3.6/site-packages (from networkx~=2.0->rasa_core==0.9.0a7) (4.3.0)\n",
      "Requirement already satisfied, skipping upgrade: setuptools>=0.7 in /home/arthur/.pyenv/versions/3.6.6/lib/python3.6/site-packages (from apscheduler~=3.0->rasa_core==0.9.0a7) (39.0.1)\n",
      "Requirement already satisfied, skipping upgrade: tzlocal>=1.2 in /home/arthur/.pyenv/versions/3.6.6/lib/python3.6/site-packages (from apscheduler~=3.0->rasa_core==0.9.0a7) (1.5.1)\n",
      "Requirement already satisfied, skipping upgrade: termcolor>=1.1.0 in /home/arthur/.pyenv/versions/3.6.6/lib/python3.6/site-packages (from tensorflow<1.9,>=1.7->rasa_core==0.9.0a7) (1.1.0)\n",
      "Requirement already satisfied, skipping upgrade: gast>=0.2.0 in /home/arthur/.pyenv/versions/3.6.6/lib/python3.6/site-packages (from tensorflow<1.9,>=1.7->rasa_core==0.9.0a7) (0.2.0)\n",
      "Requirement already satisfied, skipping upgrade: astor>=0.6.0 in /home/arthur/.pyenv/versions/3.6.6/lib/python3.6/site-packages (from tensorflow<1.9,>=1.7->rasa_core==0.9.0a7) (0.7.1)\n",
      "Requirement already satisfied, skipping upgrade: absl-py>=0.1.6 in /home/arthur/.pyenv/versions/3.6.6/lib/python3.6/site-packages (from tensorflow<1.9,>=1.7->rasa_core==0.9.0a7) (0.5.0)\n",
      "Requirement already satisfied, skipping upgrade: tensorboard<1.9.0,>=1.8.0 in /home/arthur/.pyenv/versions/3.6.6/lib/python3.6/site-packages (from tensorflow<1.9,>=1.7->rasa_core==0.9.0a7) (1.8.0)\n",
      "Requirement already satisfied, skipping upgrade: wheel>=0.26 in /home/arthur/.pyenv/versions/3.6.6/lib/python3.6/site-packages (from tensorflow<1.9,>=1.7->rasa_core==0.9.0a7) (0.32.1)\n",
      "Requirement already satisfied, skipping upgrade: protobuf>=3.4.0 in /home/arthur/.pyenv/versions/3.6.6/lib/python3.6/site-packages (from tensorflow<1.9,>=1.7->rasa_core==0.9.0a7) (3.6.1)\n",
      "Requirement already satisfied, skipping upgrade: grpcio>=1.8.6 in /home/arthur/.pyenv/versions/3.6.6/lib/python3.6/site-packages (from tensorflow<1.9,>=1.7->rasa_core==0.9.0a7) (1.15.0)\n",
      "Requirement already satisfied, skipping upgrade: incremental in /home/arthur/.pyenv/versions/3.6.6/lib/python3.6/site-packages (from klein->rasa_nlu[spacy]) (17.5.0)\n",
      "Requirement already satisfied, skipping upgrade: Twisted>=15.5 in /home/arthur/.pyenv/versions/3.6.6/lib/python3.6/site-packages (from klein->rasa_nlu[spacy]) (18.9.0)\n",
      "Requirement already satisfied, skipping upgrade: cycler>=0.10 in /home/arthur/.pyenv/versions/3.6.6/lib/python3.6/site-packages (from matplotlib~=2.0->rasa_nlu[spacy]) (0.10.0)\n",
      "Requirement already satisfied, skipping upgrade: pyparsing!=2.0.4,!=2.1.2,!=2.1.6,>=2.0.1 in /home/arthur/.pyenv/versions/3.6.6/lib/python3.6/site-packages (from matplotlib~=2.0->rasa_nlu[spacy]) (2.2.2)\n",
      "Requirement already satisfied, skipping upgrade: kiwisolver>=1.0.1 in /home/arthur/.pyenv/versions/3.6.6/lib/python3.6/site-packages (from matplotlib~=2.0->rasa_nlu[spacy]) (1.0.1)\n",
      "Requirement already satisfied, skipping upgrade: s3transfer<0.2.0,>=0.1.10 in /home/arthur/.pyenv/versions/3.6.6/lib/python3.6/site-packages (from boto3->rasa_nlu[spacy]) (0.1.13)\n",
      "Requirement already satisfied, skipping upgrade: jmespath<1.0.0,>=0.7.1 in /home/arthur/.pyenv/versions/3.6.6/lib/python3.6/site-packages (from boto3->rasa_nlu[spacy]) (0.9.3)\n",
      "Requirement already satisfied, skipping upgrade: botocore<1.13.0,>=1.12.23 in /home/arthur/.pyenv/versions/3.6.6/lib/python3.6/site-packages (from boto3->rasa_nlu[spacy]) (1.12.23)\n",
      "Requirement already satisfied, skipping upgrade: greenlet>=0.4.14; platform_python_implementation == \"CPython\" in /home/arthur/.pyenv/versions/3.6.6/lib/python3.6/site-packages (from gevent->rasa_nlu[spacy]) (0.4.15)\n",
      "Requirement already satisfied, skipping upgrade: msgpack-numpy<0.4.4 in /home/arthur/.pyenv/versions/3.6.6/lib/python3.6/site-packages (from spacy>2.0; extra == \"spacy\"->rasa_nlu[spacy]) (0.4.3.2)\n",
      "Requirement already satisfied, skipping upgrade: ujson>=1.35 in /home/arthur/.pyenv/versions/3.6.6/lib/python3.6/site-packages (from spacy>2.0; extra == \"spacy\"->rasa_nlu[spacy]) (1.35)\n",
      "Requirement already satisfied, skipping upgrade: dill<0.3,>=0.2 in /home/arthur/.pyenv/versions/3.6.6/lib/python3.6/site-packages (from spacy>2.0; extra == \"spacy\"->rasa_nlu[spacy]) (0.2.8.2)\n",
      "Requirement already satisfied, skipping upgrade: cymem<2.1.0,>=2.0.2 in /home/arthur/.pyenv/versions/3.6.6/lib/python3.6/site-packages (from spacy>2.0; extra == \"spacy\"->rasa_nlu[spacy]) (2.0.2)\n",
      "Requirement already satisfied, skipping upgrade: plac<1.0.0,>=0.9.6 in /home/arthur/.pyenv/versions/3.6.6/lib/python3.6/site-packages (from spacy>2.0; extra == \"spacy\"->rasa_nlu[spacy]) (0.9.6)\n",
      "Requirement already satisfied, skipping upgrade: murmurhash<1.1.0,>=0.28.0 in /home/arthur/.pyenv/versions/3.6.6/lib/python3.6/site-packages (from spacy>2.0; extra == \"spacy\"->rasa_nlu[spacy]) (1.0.1)\n",
      "Requirement already satisfied, skipping upgrade: preshed<2.1.0,>=2.0.1 in /home/arthur/.pyenv/versions/3.6.6/lib/python3.6/site-packages (from spacy>2.0; extra == \"spacy\"->rasa_nlu[spacy]) (2.0.1)\n",
      "Requirement already satisfied, skipping upgrade: thinc<6.13.0,>=6.12.0 in /home/arthur/.pyenv/versions/3.6.6/lib/python3.6/site-packages (from spacy>2.0; extra == \"spacy\"->rasa_nlu[spacy]) (6.12.0)\n",
      "Requirement already satisfied, skipping upgrade: regex==2018.01.10 in /home/arthur/.pyenv/versions/3.6.6/lib/python3.6/site-packages (from spacy>2.0; extra == \"spacy\"->rasa_nlu[spacy]) (2018.1.10)\n",
      "Requirement already satisfied, skipping upgrade: tabulate in /home/arthur/.pyenv/versions/3.6.6/lib/python3.6/site-packages (from sklearn-crfsuite; extra == \"spacy\"->rasa_nlu[spacy]) (0.8.2)\n",
      "Requirement already satisfied, skipping upgrade: python-crfsuite>=0.8.3 in /home/arthur/.pyenv/versions/3.6.6/lib/python3.6/site-packages (from sklearn-crfsuite; extra == \"spacy\"->rasa_nlu[spacy]) (0.9.6)\n",
      "Requirement already satisfied, skipping upgrade: MarkupSafe>=0.23 in /home/arthur/.pyenv/versions/3.6.6/lib/python3.6/site-packages (from Jinja2>=2.10->flask~=1.0->rasa_core==0.9.0a7) (1.0)\n",
      "Requirement already satisfied, skipping upgrade: bleach==1.5.0 in /home/arthur/.pyenv/versions/3.6.6/lib/python3.6/site-packages (from tensorboard<1.9.0,>=1.8.0->tensorflow<1.9,>=1.7->rasa_core==0.9.0a7) (1.5.0)\n",
      "Requirement already satisfied, skipping upgrade: html5lib==0.9999999 in /home/arthur/.pyenv/versions/3.6.6/lib/python3.6/site-packages (from tensorboard<1.9.0,>=1.8.0->tensorflow<1.9,>=1.7->rasa_core==0.9.0a7) (0.9999999)\n",
      "Requirement already satisfied, skipping upgrade: markdown>=2.6.8 in /home/arthur/.pyenv/versions/3.6.6/lib/python3.6/site-packages (from tensorboard<1.9.0,>=1.8.0->tensorflow<1.9,>=1.7->rasa_core==0.9.0a7) (3.0.1)\n",
      "Requirement already satisfied, skipping upgrade: zope.interface>=4.4.2 in /home/arthur/.pyenv/versions/3.6.6/lib/python3.6/site-packages (from Twisted>=15.5->klein->rasa_nlu[spacy]) (4.5.0)\n",
      "Requirement already satisfied, skipping upgrade: constantly>=15.1 in /home/arthur/.pyenv/versions/3.6.6/lib/python3.6/site-packages (from Twisted>=15.5->klein->rasa_nlu[spacy]) (15.1.0)\n",
      "Requirement already satisfied, skipping upgrade: Automat>=0.3.0 in /home/arthur/.pyenv/versions/3.6.6/lib/python3.6/site-packages (from Twisted>=15.5->klein->rasa_nlu[spacy]) (0.7.0)\n",
      "Requirement already satisfied, skipping upgrade: hyperlink>=17.1.1 in /home/arthur/.pyenv/versions/3.6.6/lib/python3.6/site-packages (from Twisted>=15.5->klein->rasa_nlu[spacy]) (18.0.0)\n",
      "Requirement already satisfied, skipping upgrade: PyHamcrest>=1.9.0 in /home/arthur/.pyenv/versions/3.6.6/lib/python3.6/site-packages (from Twisted>=15.5->klein->rasa_nlu[spacy]) (1.9.0)\n",
      "Requirement already satisfied, skipping upgrade: attrs>=17.4.0 in /home/arthur/.pyenv/versions/3.6.6/lib/python3.6/site-packages (from Twisted>=15.5->klein->rasa_nlu[spacy]) (18.2.0)\n"
     ]
    },
    {
     "name": "stdout",
     "output_type": "stream",
     "text": [
      "Requirement already satisfied, skipping upgrade: docutils>=0.10 in /home/arthur/.pyenv/versions/3.6.6/lib/python3.6/site-packages (from botocore<1.13.0,>=1.12.23->boto3->rasa_nlu[spacy]) (0.14)\n",
      "Requirement already satisfied, skipping upgrade: msgpack>=0.3.0 in /home/arthur/.pyenv/versions/3.6.6/lib/python3.6/site-packages (from msgpack-numpy<0.4.4->spacy>2.0; extra == \"spacy\"->rasa_nlu[spacy]) (0.5.6)\n",
      "Requirement already satisfied, skipping upgrade: cytoolz<0.10,>=0.9.0 in /home/arthur/.pyenv/versions/3.6.6/lib/python3.6/site-packages (from thinc<6.13.0,>=6.12.0->spacy>2.0; extra == \"spacy\"->rasa_nlu[spacy]) (0.9.0.1)\n",
      "Requirement already satisfied, skipping upgrade: wrapt<1.11.0,>=1.10.0 in /home/arthur/.pyenv/versions/3.6.6/lib/python3.6/site-packages (from thinc<6.13.0,>=6.12.0->spacy>2.0; extra == \"spacy\"->rasa_nlu[spacy]) (1.10.11)\n",
      "Requirement already satisfied, skipping upgrade: toolz>=0.8.0 in /home/arthur/.pyenv/versions/3.6.6/lib/python3.6/site-packages (from cytoolz<0.10,>=0.9.0->thinc<6.13.0,>=6.12.0->spacy>2.0; extra == \"spacy\"->rasa_nlu[spacy]) (0.9.0)\n",
      "Requirement already satisfied: en_core_web_md==2.0.0 from https://github.com/explosion/spacy-models/releases/download/en_core_web_md-2.0.0/en_core_web_md-2.0.0.tar.gz#egg=en_core_web_md==2.0.0 in /home/arthur/.pyenv/versions/3.6.6/lib/python3.6/site-packages (2.0.0)\n",
      "\n",
      "\u001b[93m    Linking successful\u001b[0m\n",
      "    /home/arthur/.pyenv/versions/3.6.6/lib/python3.6/site-packages/en_core_web_md\n",
      "    -->\n",
      "    /home/arthur/.pyenv/versions/3.6.6/lib/python3.6/site-packages/spacy/data/en_core_web_md\n",
      "\n",
      "    You can now load the model via spacy.load('en_core_web_md')\n",
      "\n",
      "\n",
      "\u001b[93m    Linking successful\u001b[0m\n",
      "    /home/arthur/.pyenv/versions/3.6.6/lib/python3.6/site-packages/en_core_web_md\n",
      "    -->\n",
      "    /home/arthur/.pyenv/versions/3.6.6/lib/python3.6/site-packages/spacy/data/en\n",
      "\n",
      "    You can now load the model via spacy.load('en')\n",
      "\n"
     ]
    }
   ],
   "source": [
    "import sys\n",
    "python = sys.executable\n",
    "\n",
    "# In your environment run:\n",
    "!{python} -m pip install -U rasa_core==0.9.0a7 rasa_nlu[spacy];\n",
    "\n",
    "# as well as install a language model:\n",
    "!{python} -m spacy download en_core_web_md;\n",
    "!{python} -m spacy link --force en_core_web_md en;"
   ]
  },
  {
   "cell_type": "markdown",
   "metadata": {},
   "source": [
    "Verificando versões:"
   ]
  },
  {
   "cell_type": "code",
   "execution_count": 32,
   "metadata": {},
   "outputs": [
    {
     "name": "stdout",
     "output_type": "stream",
     "text": [
      "rasa_nlu: 0.13.7 rasa_core: 0.9.0a7\n",
      "Loading spaCy language model...\n",
      "Hello world!\n"
     ]
    }
   ],
   "source": [
    "import rasa_nlu\n",
    "import rasa_core\n",
    "import spacy\n",
    "\n",
    "print(\"rasa_nlu: {} rasa_core: {}\".format(rasa_nlu.__version__, rasa_core.__version__))\n",
    "print(\"Loading spaCy language model...\")\n",
    "print(spacy.load(\"en\")(\"Hello world!\"))"
   ]
  },
  {
   "cell_type": "markdown",
   "metadata": {},
   "source": [
    "### Ferramentas adicionais\n",
    "\n",
    "Atualize a instalação de acordo com seu sistema operacional"
   ]
  },
  {
   "cell_type": "code",
   "execution_count": 33,
   "metadata": {},
   "outputs": [],
   "source": [
    "#!apt-get -qq install -y graphviz libgraphviz-dev pkg-config;\n",
    "#!brew install graphviz;"
   ]
  },
  {
   "cell_type": "code",
   "execution_count": 34,
   "metadata": {},
   "outputs": [
    {
     "name": "stdout",
     "output_type": "stream",
     "text": [
      "Requirement already satisfied: pygraphviz in /home/arthur/.pyenv/versions/3.6.6/lib/python3.6/site-packages (1.5)\r\n"
     ]
    }
   ],
   "source": [
    "!{python} -m pip install pygraphviz;"
   ]
  },
  {
   "cell_type": "markdown",
   "metadata": {
    "colab_type": "text",
    "id": "cNa5KHl1nzhT"
   },
   "source": [
    "## Adicionando nlu (natural language understanding)\n",
    "\n",
    "Nesta parte o bot vai aprender a entender a linguagem"
   ]
  },
  {
   "cell_type": "code",
   "execution_count": 35,
   "metadata": {
    "colab": {
     "autoexec": {
      "startup": false,
      "wait_interval": 0
     },
     "base_uri": "https://localhost:8080/",
     "height": 34
    },
    "colab_type": "code",
    "executionInfo": {
     "elapsed": 864,
     "status": "ok",
     "timestamp": 1521380057973,
     "user": {
      "displayName": "Alexander Weidauer",
      "photoUrl": "//lh6.googleusercontent.com/-j4xnI5_PFWA/AAAAAAAAAAI/AAAAAAAAAAo/wPT2w5Bl3xg/s50-c-k-no/photo.jpg",
      "userId": "100444450157165144272"
     },
     "user_tz": -60
    },
    "id": "V6KHWT2zeEh5",
    "outputId": "bab4845d-4ebc-4b9b-f8d9-2f701504a9c0"
   },
   "outputs": [
    {
     "name": "stdout",
     "output_type": "stream",
     "text": [
      "Writing 'nlu_md' (str) to file 'nlu.md'.\n"
     ]
    }
   ],
   "source": [
    "nlu_md = \"\"\"\n",
    "## intent:greet\n",
    "- hey I am [Peter](PERSON)\n",
    "- hello there I am [Hans](PERSON)\n",
    "- hi I am [Tom](PERSON)\n",
    "- hello there\n",
    "- good morning\n",
    "- good evening\n",
    "- moin\n",
    "- hey there\n",
    "- let's go\n",
    "- hey dude\n",
    "- goodmorning\n",
    "- goodevening\n",
    "- good afternoon\n",
    "\n",
    "## intent:goodbye\n",
    "- cu\n",
    "- good by\n",
    "- cee you later\n",
    "- good night\n",
    "- good afternoon\n",
    "- bye\n",
    "- goodbye\n",
    "- have a nice day\n",
    "- see you around\n",
    "- bye bye\n",
    "- see you later\n",
    "\n",
    "## intent:mood_affirm\n",
    "- yes\n",
    "- indeed\n",
    "- of course\n",
    "- that sounds good\n",
    "- correct\n",
    "\n",
    "## intent:mood_deny\n",
    "- no\n",
    "- never\n",
    "- I don't think so\n",
    "- don't like that\n",
    "- no way\n",
    "- not really\n",
    "\n",
    "## intent:mood_great\n",
    "- perfect\n",
    "- very good\n",
    "- great\n",
    "- amazing\n",
    "- feeling like a king\n",
    "- wonderful\n",
    "- I am feeling very good\n",
    "- I am great\n",
    "- I am amazing\n",
    "- I am going to save the world\n",
    "- super\n",
    "- extremely good\n",
    "- so so perfect\n",
    "- so good\n",
    "- so perfect\n",
    "\n",
    "## intent:mood_unhappy\n",
    "- my day was horrible\n",
    "- I am sad\n",
    "- I don't feel very well\n",
    "- I am disappointed\n",
    "- super sad\n",
    "- I'm so sad\n",
    "- sad\n",
    "- very sad\n",
    "- unhappy\n",
    "- bad\n",
    "- very bad\n",
    "- awful\n",
    "- terrible\n",
    "- not so good\n",
    "- not very good\n",
    "- extremly sad\n",
    "- so saad\n",
    "- so sad\n",
    "\"\"\"\n",
    "\n",
    "%store nlu_md > nlu.md"
   ]
  },
  {
   "cell_type": "markdown",
   "metadata": {},
   "source": [
    "### NLU Pipeline\n",
    "\n",
    "Criando um pipeline de nlu para o bot.\n",
    "\n",
    "`Caso queira testar diferentes algoritmos/modelos dentro do RASA nlu, mude a celula seguinte.`"
   ]
  },
  {
   "cell_type": "code",
   "execution_count": 36,
   "metadata": {},
   "outputs": [
    {
     "name": "stdout",
     "output_type": "stream",
     "text": [
      "Writing 'config' (str) to file 'config.yml'.\n"
     ]
    }
   ],
   "source": [
    "config = \"\"\"\n",
    "language: \"en\"\n",
    "\n",
    "pipeline:\n",
    "- name: \"nlp_spacy\"                   # loads the spacy language model\n",
    "- name: \"tokenizer_spacy\"             # splits the sentence into tokens\n",
    "- name: \"ner_spacy\"                   # uses the pretrained spacy NER model\n",
    "- name: \"intent_featurizer_spacy\"     # transform the sentence into a vector representation\n",
    "- name: \"intent_classifier_sklearn\"   # uses the vector representation to classify using SVM\n",
    "\"\"\" \n",
    "\n",
    "%store config > config.yml"
   ]
  },
  {
   "cell_type": "markdown",
   "metadata": {
    "colab_type": "text",
    "id": "1xeXgpdwzOAl"
   },
   "source": [
    "### Treinando o modelo do Rasa NLU"
   ]
  },
  {
   "cell_type": "code",
   "execution_count": 37,
   "metadata": {
    "colab": {
     "autoexec": {
      "startup": false,
      "wait_interval": 0
     },
     "base_uri": "https://localhost:8080/",
     "height": 377
    },
    "colab_type": "code",
    "executionInfo": {
     "elapsed": 2821,
     "status": "ok",
     "timestamp": 1521380062879,
     "user": {
      "displayName": "Alexander Weidauer",
      "photoUrl": "//lh6.googleusercontent.com/-j4xnI5_PFWA/AAAAAAAAAAI/AAAAAAAAAAo/wPT2w5Bl3xg/s50-c-k-no/photo.jpg",
      "userId": "100444450157165144272"
     },
     "user_tz": -60
    },
    "id": "qHsAH49OePcM",
    "outputId": "f840c42d-acf2-4fbf-b439-e5a239ffb32b",
    "scrolled": true
   },
   "outputs": [
    {
     "name": "stderr",
     "output_type": "stream",
     "text": [
      "INFO:rasa_nlu.training_data.loading:Training data format of nlu.md is md\n",
      "INFO:rasa_nlu.training_data.training_data:Training data stats: \n",
      "\t- intent examples: 68 (6 distinct intents)\n",
      "\t- Found intents: 'mood_great', 'greet', 'mood_unhappy', 'mood_affirm', 'goodbye', 'mood_deny'\n",
      "\t- entity examples: 3 (1 distinct entities)\n",
      "\t- found entities: 'PERSON'\n",
      "\n",
      "INFO:rasa_nlu.utils.spacy_utils:Trying to load spacy model with name 'en'\n",
      "INFO:rasa_nlu.components:Added 'nlp_spacy' to component cache. Key 'nlp_spacy-en'.\n",
      "INFO:rasa_nlu.model:Starting to train component nlp_spacy\n",
      "INFO:rasa_nlu.model:Finished training component.\n",
      "INFO:rasa_nlu.model:Starting to train component tokenizer_spacy\n",
      "INFO:rasa_nlu.model:Finished training component.\n",
      "INFO:rasa_nlu.model:Starting to train component ner_spacy\n",
      "INFO:rasa_nlu.model:Finished training component.\n",
      "INFO:rasa_nlu.model:Starting to train component intent_featurizer_spacy\n",
      "INFO:rasa_nlu.model:Finished training component.\n",
      "INFO:rasa_nlu.model:Starting to train component intent_classifier_sklearn\n",
      "[Parallel(n_jobs=1)]: Done  12 out of  12 | elapsed:    0.1s finished\n",
      "INFO:rasa_nlu.model:Finished training component.\n",
      "INFO:rasa_nlu.model:Successfully saved model into '/home/arthur/Documents/lappis/bot/rasa-demo-pydata18/models/nlu/default/current'\n"
     ]
    },
    {
     "name": "stdout",
     "output_type": "stream",
     "text": [
      "Fitting 2 folds for each of 6 candidates, totalling 12 fits\n"
     ]
    }
   ],
   "source": [
    "from rasa_nlu.training_data import load_data\n",
    "from rasa_nlu.config import RasaNLUModelConfig\n",
    "from rasa_nlu.model import Trainer\n",
    "from rasa_nlu import config\n",
    "\n",
    "# loading the nlu training samples\n",
    "training_data = load_data(\"nlu.md\")\n",
    "\n",
    "# trainer to educate our pipeline\n",
    "trainer = Trainer(config.load(\"config.yml\"))\n",
    "\n",
    "# train the model!\n",
    "interpreter = trainer.train(training_data)\n",
    "\n",
    "# store it for future use\n",
    "model_directory = trainer.persist(\"./models/nlu\", fixed_model_name=\"current\")"
   ]
  },
  {
   "cell_type": "markdown",
   "metadata": {
    "colab_type": "text",
    "id": "1xeXgpdwzOAl"
   },
   "source": [
    "### Avaliação do modelo de NLU treinado\n",
    "\n",
    "`Caso queira testar mensagens específicas mande a mensagem na célula seguinte`"
   ]
  },
  {
   "cell_type": "code",
   "execution_count": 38,
   "metadata": {
    "colab": {
     "autoexec": {
      "startup": false,
      "wait_interval": 0
     },
     "base_uri": "https://localhost:8080/",
     "height": 377
    },
    "colab_type": "code",
    "executionInfo": {
     "elapsed": 2821,
     "status": "ok",
     "timestamp": 1521380062879,
     "user": {
      "displayName": "Alexander Weidauer",
      "photoUrl": "//lh6.googleusercontent.com/-j4xnI5_PFWA/AAAAAAAAAAI/AAAAAAAAAAo/wPT2w5Bl3xg/s50-c-k-no/photo.jpg",
      "userId": "100444450157165144272"
     },
     "user_tz": -60
    },
    "id": "qHsAH49OePcM",
    "outputId": "f840c42d-acf2-4fbf-b439-e5a239ffb32b"
   },
   "outputs": [
    {
     "name": "stdout",
     "output_type": "stream",
     "text": [
      "{\n",
      "  \"intent\": {\n",
      "    \"name\": \"mood_great\",\n",
      "    \"confidence\": 0.5942385019366108\n",
      "  },\n",
      "  \"entities\": [],\n",
      "  \"intent_ranking\": [\n",
      "    {\n",
      "      \"name\": \"mood_great\",\n",
      "      \"confidence\": 0.5942385019366108\n",
      "    },\n",
      "    {\n",
      "      \"name\": \"goodbye\",\n",
      "      \"confidence\": 0.10839661098383098\n",
      "    },\n",
      "    {\n",
      "      \"name\": \"mood_unhappy\",\n",
      "      \"confidence\": 0.10281680892300119\n",
      "    },\n",
      "    {\n",
      "      \"name\": \"mood_affirm\",\n",
      "      \"confidence\": 0.07182652256695544\n",
      "    },\n",
      "    {\n",
      "      \"name\": \"greet\",\n",
      "      \"confidence\": 0.06998439065278386\n",
      "    },\n",
      "    {\n",
      "      \"name\": \"mood_deny\",\n",
      "      \"confidence\": 0.052737164936817474\n",
      "    }\n",
      "  ],\n",
      "  \"text\": \"doing great\"\n",
      "}\n"
     ]
    }
   ],
   "source": [
    "pprint(interpreter.parse(\"doing great\"))"
   ]
  },
  {
   "cell_type": "markdown",
   "metadata": {},
   "source": [
    "### Avaliação de correlação das intents"
   ]
  },
  {
   "cell_type": "code",
   "execution_count": 39,
   "metadata": {},
   "outputs": [
    {
     "name": "stderr",
     "output_type": "stream",
     "text": [
      "INFO:rasa_nlu.components:Added 'nlp_spacy' to component cache. Key 'nlp_spacy-en'.\n",
      "INFO:rasa_nlu.training_data.loading:Training data format of nlu.md is md\n",
      "INFO:rasa_nlu.training_data.training_data:Training data stats: \n",
      "\t- intent examples: 68 (6 distinct intents)\n",
      "\t- Found intents: 'mood_great', 'greet', 'mood_unhappy', 'mood_affirm', 'goodbye', 'mood_deny'\n",
      "\t- entity examples: 3 (1 distinct entities)\n",
      "\t- found entities: 'PERSON'\n",
      "\n",
      "INFO:rasa_nlu.evaluate:Intent evaluation results:\n",
      "INFO:rasa_nlu.evaluate:Intent Evaluation: Only considering those 68 examples that have a defined intent out of 68 examples\n",
      "INFO:rasa_nlu.evaluate:F1-Score:  0.9852163087457204\n",
      "INFO:rasa_nlu.evaluate:Precision: 0.986344537815126\n",
      "INFO:rasa_nlu.evaluate:Accuracy:  0.9852941176470589\n",
      "INFO:rasa_nlu.evaluate:Classification report: \n",
      "              precision    recall  f1-score   support\n",
      "\n",
      "     goodbye       1.00      0.91      0.95        11\n",
      "       greet       0.93      1.00      0.96        13\n",
      " mood_affirm       1.00      1.00      1.00         5\n",
      "   mood_deny       1.00      1.00      1.00         6\n",
      "  mood_great       1.00      1.00      1.00        15\n",
      "mood_unhappy       1.00      1.00      1.00        18\n",
      "\n",
      " avg / total       0.99      0.99      0.99        68\n",
      "\n",
      "INFO:rasa_nlu.evaluate:There were some nlu intent classification errors. Use `--verbose` to show them in the log.\n",
      "INFO:rasa_nlu.evaluate:Model prediction errors saved to errors.json.\n",
      "INFO:rasa_nlu.evaluate:Confusion matrix, without normalization: \n",
      "[[10  1  0  0  0  0]\n",
      " [ 0 13  0  0  0  0]\n",
      " [ 0  0  5  0  0  0]\n",
      " [ 0  0  0  6  0  0]\n",
      " [ 0  0  0  0 15  0]\n",
      " [ 0  0  0  0  0 18]]\n"
     ]
    },
    {
     "data": {
      "image/png": "[encoded data removed]",
      "text/plain": [
       "<Figure size 432x288 with 2 Axes>"
      ]
     },
     "metadata": {
      "needs_background": "light"
     },
     "output_type": "display_data"
    },
    {
     "data": {
      "image/png": "[encoded data removed]",
      "text/plain": [
       "<Figure size 432x288 with 1 Axes>"
      ]
     },
     "metadata": {
      "needs_background": "light"
     },
     "output_type": "display_data"
    },
    {
     "name": "stderr",
     "output_type": "stream",
     "text": [
      "INFO:rasa_nlu.evaluate:Entity evaluation results:\n",
      "INFO:rasa_nlu.evaluate:Evaluation for entity extractor: ner_spacy \n",
      "INFO:rasa_nlu.evaluate:F1-Score:  0.970857463104801\n",
      "INFO:rasa_nlu.evaluate:Precision: 1.0\n",
      "INFO:rasa_nlu.evaluate:Accuracy:  0.9433962264150944\n",
      "INFO:rasa_nlu.evaluate:Classification report: \n",
      "             precision    recall  f1-score   support\n",
      "\n",
      "       DATE       0.00      0.00      0.00         0\n",
      "     PERSON       1.00      1.00      1.00         3\n",
      "       TIME       0.00      0.00      0.00         0\n",
      "  no_entity       1.00      0.94      0.97       156\n",
      "\n",
      "avg / total       1.00      0.94      0.97       159\n",
      "\n"
     ]
    }
   ],
   "source": [
    "from rasa_nlu.evaluate import run_evaluation\n",
    "\n",
    "run_evaluation(\"nlu.md\", model_directory)"
   ]
  },
  {
   "cell_type": "markdown",
   "metadata": {
    "colab_type": "text",
    "id": "tK5os3OinphP"
   },
   "source": [
    "# RASA core"
   ]
  },
  {
   "cell_type": "markdown",
   "metadata": {
    "colab_type": "text",
    "id": "BBF6Nqi9scQE"
   },
   "source": [
    "`Adicionando stories`"
   ]
  },
  {
   "cell_type": "code",
   "execution_count": 40,
   "metadata": {
    "colab": {
     "autoexec": {
      "startup": false,
      "wait_interval": 0
     },
     "base_uri": "https://localhost:8080/",
     "height": 34
    },
    "colab_type": "code",
    "executionInfo": {
     "elapsed": 568,
     "status": "ok",
     "timestamp": 1521575049982,
     "user": {
      "displayName": "Ricardo Wölker",
      "photoUrl": "https://lh3.googleusercontent.com/a/default-user=s128",
      "userId": "115384113157413623365"
     },
     "user_tz": 0
    },
    "id": "zamaNW4RsrLe",
    "outputId": "6203e4c3-46a3-4c43-add6-95a70d4a6d50"
   },
   "outputs": [
    {
     "name": "stdout",
     "output_type": "stream",
     "text": [
      "Writing 'stories_md' (str) to file 'stories.md'.\n"
     ]
    }
   ],
   "source": [
    "stories_md = \"\"\"\n",
    "## happy path               <!-- name of the story - just for debugging -->\n",
    "* greet              \n",
    "  - utter_greet\n",
    "* mood_great               <!-- user utterance, in format intent[entities] -->\n",
    "  - utter_happy\n",
    "* mood_affirm\n",
    "  - utter_happy\n",
    "* mood_affirm\n",
    "  - utter_goodbye\n",
    "  \n",
    "## sad path 1               <!-- this is already the start of the next story -->\n",
    "* greet\n",
    "  - utter_greet             <!-- action the bot should execute -->\n",
    "* mood_unhappy\n",
    "  - action_retrieve_image\n",
    "  - utter_cheer_up\n",
    "  - utter_did_that_help\n",
    "* mood_affirm\n",
    "  - utter_happy\n",
    "\n",
    "## sad path 2\n",
    "* greet\n",
    "  - utter_greet\n",
    "* mood_unhappy\n",
    "  - action_retrieve_image\n",
    "  - utter_cheer_up\n",
    "  - utter_did_that_help\n",
    "* mood_deny\n",
    "  - utter_goodbye\n",
    "  \n",
    "## strange user\n",
    "* mood_affirm\n",
    "  - utter_happy\n",
    "* mood_affirm\n",
    "  - utter_unclear\n",
    "\n",
    "## say goodbye\n",
    "* goodbye\n",
    "  - utter_goodbye\n",
    "\n",
    "## fallback\n",
    "- utter_unclear\n",
    "\n",
    "\"\"\"\n",
    "\n",
    "%store stories_md > stories.md"
   ]
  },
  {
   "cell_type": "markdown",
   "metadata": {
    "colab_type": "text",
    "id": "Fs3nOUzBsqrG"
   },
   "source": [
    "### Definindo Contexto (domain)"
   ]
  },
  {
   "cell_type": "code",
   "execution_count": 41,
   "metadata": {
    "colab": {
     "autoexec": {
      "startup": false,
      "wait_interval": 0
     },
     "base_uri": "https://localhost:8080/",
     "height": 34
    },
    "colab_type": "code",
    "executionInfo": {
     "elapsed": 465,
     "status": "ok",
     "timestamp": 1521575053606,
     "user": {
      "displayName": "Ricardo Wölker",
      "photoUrl": "https://lh3.googleusercontent.com/a/default-user=s128",
      "userId": "115384113157413623365"
     },
     "user_tz": 0
    },
    "id": "WB6eIXVkAOSX",
    "outputId": "566b7c42-3772-4754-df55-19874543108c"
   },
   "outputs": [
    {
     "name": "stdout",
     "output_type": "stream",
     "text": [
      "Writing 'domain_yml' (str) to file 'domain.yml'.\n"
     ]
    }
   ],
   "source": [
    "domain_yml = \"\"\"\n",
    "intents:\n",
    "- greet\n",
    "- goodbye\n",
    "- mood_affirm\n",
    "- mood_deny\n",
    "- mood_great\n",
    "- mood_unhappy\n",
    "\n",
    "slots:\n",
    "  img_api_response:\n",
    "    type: unfeaturized\n",
    "\n",
    "actions:\n",
    "- utter_greet\n",
    "- utter_cheer_up\n",
    "- utter_did_that_help\n",
    "- utter_happy\n",
    "- utter_goodbye\n",
    "- utter_unclear\n",
    "- __main__.ApiAction\n",
    "\n",
    "templates:\n",
    "  utter_greet:\n",
    "  - text: \"Hey! How are you?\"\n",
    "\n",
    "  utter_cheer_up:\n",
    "  - text: \"Here is something to cheer you up\"\n",
    "\n",
    "  utter_did_that_help:\n",
    "  - text: \"Did that help you?\"\n",
    "\n",
    "  utter_unclear:\n",
    "  - text: \"I am not sure what you are aiming for.\"\n",
    "  \n",
    "  utter_happy:\n",
    "  - text: \"Great carry on!\"\n",
    "\n",
    "  utter_goodbye:\n",
    "  - text: \"Bye\"\n",
    "\"\"\"\n",
    "\n",
    "%store domain_yml > domain.yml"
   ]
  },
  {
   "cell_type": "markdown",
   "metadata": {
    "colab_type": "text",
    "id": "qWALQbCdwGxK"
   },
   "source": [
    "### Visualização do fluxo de conversa"
   ]
  },
  {
   "cell_type": "code",
   "execution_count": 42,
   "metadata": {
    "colab": {
     "autoexec": {
      "startup": false,
      "wait_interval": 0
     },
     "base_uri": "https://localhost:8080/",
     "height": 895
    },
    "colab_type": "code",
    "executionInfo": {
     "elapsed": 2808,
     "status": "ok",
     "timestamp": 1521380138202,
     "user": {
      "displayName": "Alexander Weidauer",
      "photoUrl": "//lh6.googleusercontent.com/-j4xnI5_PFWA/AAAAAAAAAAI/AAAAAAAAAAo/wPT2w5Bl3xg/s50-c-k-no/photo.jpg",
      "userId": "100444450157165144272"
     },
     "user_tz": -60
    },
    "id": "zl6vtV72BDaV",
    "outputId": "2468f1bf-3fd0-42f0-9338-8f48c8cad3dd"
   },
   "outputs": [
    {
     "name": "stderr",
     "output_type": "stream",
     "text": [
      "Processed Story Blocks: 100%|██████████| 6/6 [00:00<00:00, 188.34it/s, # trackers=1]\n"
     ]
    },
    {
     "data": {
      "image/png": "[encoded data removed]",
      "text/plain": [
       "<IPython.core.display.Image object>"
      ]
     },
     "execution_count": 42,
     "metadata": {},
     "output_type": "execute_result"
    }
   ],
   "source": [
    "from IPython.display import Image\n",
    "from rasa_core.agent import Agent\n",
    "\n",
    "agent = Agent('domain.yml')\n",
    "agent.visualize(\"stories.md\", \"story_graph.png\", max_history=2)\n",
    "Image(filename=\"story_graph.png\")"
   ]
  },
  {
   "cell_type": "markdown",
   "metadata": {
    "colab_type": "text",
    "id": "zQxY6m6kvlj3"
   },
   "source": [
    "### Treinando o modelo de diálogo\n",
    "\n",
    "`Para verificar possíveis melhorias no comportamento do bot mude a célula a seguir`\n",
    "\n",
    "**importante** após identifcar melhorias atualize o arquivo de treinho do bot `train.py`"
   ]
  },
  {
   "cell_type": "code",
   "execution_count": 43,
   "metadata": {
    "colab": {
     "autoexec": {
      "startup": false,
      "wait_interval": 0
     },
     "base_uri": "https://localhost:8080/",
     "height": 14025
    },
    "colab_type": "code",
    "executionInfo": {
     "elapsed": 12554,
     "status": "ok",
     "timestamp": 1521575068686,
     "user": {
      "displayName": "Ricardo Wölker",
      "photoUrl": "https://lh3.googleusercontent.com/a/default-user=s128",
      "userId": "115384113157413623365"
     },
     "user_tz": 0
    },
    "id": "PKV49d7tAxmS",
    "outputId": "ccb26bea-5be8-48f7-a88e-d70a6e4a1733"
   },
   "outputs": [
    {
     "name": "stderr",
     "output_type": "stream",
     "text": [
      "Processed Story Blocks: 100%|██████████| 6/6 [00:00<00:00, 526.76it/s, # trackers=1]\n",
      "Processed Story Blocks: 100%|██████████| 6/6 [00:00<00:00, 232.97it/s, # trackers=6]\n",
      "Processed Story Blocks: 100%|██████████| 6/6 [00:00<00:00, 140.95it/s, # trackers=20]\n",
      "Processed actions: 171it [00:00, 669.21it/s, # examples=171]\n",
      "INFO:rasa_core.policies.memoization:Memorized 171 unique action examples.\n",
      "INFO:rasa_core.policies.keras_policy:Fitting model with 171 total samples and a validation split of 0.0\n"
     ]
    },
    {
     "name": "stdout",
     "output_type": "stream",
     "text": [
      "_________________________________________________________________\n",
      "Layer (type)                 Output Shape              Param #   \n",
      "=================================================================\n",
      "masking_3 (Masking)          (None, 5, 15)             0         \n",
      "_________________________________________________________________\n",
      "lstm_3 (LSTM)                (None, 32)                6144      \n",
      "_________________________________________________________________\n",
      "dense_3 (Dense)              (None, 9)                 297       \n",
      "_________________________________________________________________\n",
      "activation_3 (Activation)    (None, 9)                 0         \n",
      "=================================================================\n",
      "Total params: 6,441\n",
      "Trainable params: 6,441\n",
      "Non-trainable params: 0\n",
      "_________________________________________________________________\n",
      "Epoch 1/400\n",
      "171/171 [==============================] - 1s 5ms/step - loss: 2.1807 - acc: 0.1053\n",
      "Epoch 2/400\n",
      "171/171 [==============================] - 0s 159us/step - loss: 2.0990 - acc: 0.4152\n",
      "Epoch 3/400\n",
      "171/171 [==============================] - 0s 161us/step - loss: 2.0365 - acc: 0.4737\n",
      "Epoch 4/400\n",
      "171/171 [==============================] - 0s 188us/step - loss: 1.9601 - acc: 0.4795\n",
      "Epoch 5/400\n",
      "171/171 [==============================] - 0s 182us/step - loss: 1.8861 - acc: 0.4795\n",
      "Epoch 6/400\n",
      "171/171 [==============================] - 0s 165us/step - loss: 1.8164 - acc: 0.4795\n",
      "Epoch 7/400\n",
      "171/171 [==============================] - 0s 154us/step - loss: 1.7459 - acc: 0.4795\n",
      "Epoch 8/400\n",
      "171/171 [==============================] - 0s 164us/step - loss: 1.6791 - acc: 0.4795\n",
      "Epoch 9/400\n",
      "171/171 [==============================] - 0s 196us/step - loss: 1.6373 - acc: 0.4795\n",
      "Epoch 10/400\n",
      "171/171 [==============================] - 0s 204us/step - loss: 1.6136 - acc: 0.4795\n",
      "Epoch 11/400\n",
      "171/171 [==============================] - 0s 229us/step - loss: 1.6031 - acc: 0.4795\n",
      "Epoch 12/400\n",
      "171/171 [==============================] - 0s 204us/step - loss: 1.5804 - acc: 0.4795\n",
      "Epoch 13/400\n",
      "171/171 [==============================] - 0s 139us/step - loss: 1.5581 - acc: 0.4795\n",
      "Epoch 14/400\n",
      "171/171 [==============================] - 0s 157us/step - loss: 1.5400 - acc: 0.4795\n",
      "Epoch 15/400\n",
      "171/171 [==============================] - 0s 180us/step - loss: 1.5353 - acc: 0.4795\n",
      "Epoch 16/400\n",
      "171/171 [==============================] - 0s 137us/step - loss: 1.5166 - acc: 0.4795\n",
      "Epoch 17/400\n",
      "171/171 [==============================] - 0s 169us/step - loss: 1.5048 - acc: 0.4795\n",
      "Epoch 18/400\n",
      "171/171 [==============================] - 0s 157us/step - loss: 1.4831 - acc: 0.4795\n",
      "Epoch 19/400\n",
      "171/171 [==============================] - 0s 168us/step - loss: 1.4719 - acc: 0.4795\n",
      "Epoch 20/400\n",
      "171/171 [==============================] - 0s 163us/step - loss: 1.4367 - acc: 0.4795\n",
      "Epoch 21/400\n",
      "171/171 [==============================] - 0s 173us/step - loss: 1.4266 - acc: 0.4795\n",
      "Epoch 22/400\n",
      "171/171 [==============================] - 0s 159us/step - loss: 1.3925 - acc: 0.4795\n",
      "Epoch 23/400\n",
      "171/171 [==============================] - 0s 180us/step - loss: 1.3885 - acc: 0.4795\n",
      "Epoch 24/400\n",
      "171/171 [==============================] - 0s 159us/step - loss: 1.3740 - acc: 0.4795\n",
      "Epoch 25/400\n",
      "171/171 [==============================] - 0s 153us/step - loss: 1.3636 - acc: 0.4795\n",
      "Epoch 26/400\n",
      "171/171 [==============================] - 0s 160us/step - loss: 1.3271 - acc: 0.4795\n",
      "Epoch 27/400\n",
      "171/171 [==============================] - 0s 141us/step - loss: 1.3223 - acc: 0.4854\n",
      "Epoch 28/400\n",
      "171/171 [==============================] - 0s 163us/step - loss: 1.2808 - acc: 0.4971\n",
      "Epoch 29/400\n",
      "171/171 [==============================] - 0s 157us/step - loss: 1.2593 - acc: 0.4912\n",
      "Epoch 30/400\n",
      "171/171 [==============================] - 0s 152us/step - loss: 1.2263 - acc: 0.4971\n",
      "Epoch 31/400\n",
      "171/171 [==============================] - 0s 148us/step - loss: 1.2041 - acc: 0.5088\n",
      "Epoch 32/400\n",
      "171/171 [==============================] - 0s 145us/step - loss: 1.1796 - acc: 0.5439\n",
      "Epoch 33/400\n",
      "171/171 [==============================] - 0s 147us/step - loss: 1.1440 - acc: 0.5497\n",
      "Epoch 34/400\n",
      "171/171 [==============================] - 0s 154us/step - loss: 1.1412 - acc: 0.5380\n",
      "Epoch 35/400\n",
      "171/171 [==============================] - 0s 143us/step - loss: 1.0752 - acc: 0.5848\n",
      "Epoch 36/400\n",
      "171/171 [==============================] - 0s 140us/step - loss: 1.0395 - acc: 0.5965\n",
      "Epoch 37/400\n",
      "171/171 [==============================] - 0s 169us/step - loss: 1.0447 - acc: 0.6082\n",
      "Epoch 38/400\n",
      "171/171 [==============================] - 0s 134us/step - loss: 1.0079 - acc: 0.6550\n",
      "Epoch 39/400\n",
      "171/171 [==============================] - 0s 151us/step - loss: 0.9684 - acc: 0.6199\n",
      "Epoch 40/400\n",
      "171/171 [==============================] - 0s 166us/step - loss: 0.9341 - acc: 0.6667\n",
      "Epoch 41/400\n",
      "171/171 [==============================] - 0s 151us/step - loss: 0.8902 - acc: 0.7427\n",
      "Epoch 42/400\n",
      "171/171 [==============================] - 0s 178us/step - loss: 0.8575 - acc: 0.7135\n",
      "Epoch 43/400\n",
      "171/171 [==============================] - 0s 192us/step - loss: 0.8525 - acc: 0.7427\n",
      "Epoch 44/400\n",
      "171/171 [==============================] - 0s 151us/step - loss: 0.8305 - acc: 0.7661\n",
      "Epoch 45/400\n",
      "171/171 [==============================] - 0s 192us/step - loss: 0.7838 - acc: 0.8187\n",
      "Epoch 46/400\n",
      "171/171 [==============================] - 0s 304us/step - loss: 0.7823 - acc: 0.7661\n",
      "Epoch 47/400\n",
      "171/171 [==============================] - 0s 197us/step - loss: 0.7407 - acc: 0.8129\n",
      "Epoch 48/400\n",
      "171/171 [==============================] - 0s 173us/step - loss: 0.7420 - acc: 0.8129\n",
      "Epoch 49/400\n",
      "171/171 [==============================] - 0s 222us/step - loss: 0.7212 - acc: 0.8421\n",
      "Epoch 50/400\n",
      "171/171 [==============================] - 0s 193us/step - loss: 0.7005 - acc: 0.8129\n",
      "Epoch 51/400\n",
      "171/171 [==============================] - 0s 153us/step - loss: 0.7016 - acc: 0.8304\n",
      "Epoch 52/400\n",
      "171/171 [==============================] - 0s 153us/step - loss: 0.6598 - acc: 0.8772\n",
      "Epoch 53/400\n",
      "171/171 [==============================] - 0s 141us/step - loss: 0.6515 - acc: 0.8772\n",
      "Epoch 54/400\n",
      "171/171 [==============================] - 0s 164us/step - loss: 0.6538 - acc: 0.8830\n",
      "Epoch 55/400\n",
      "171/171 [==============================] - 0s 147us/step - loss: 0.6157 - acc: 0.8655\n",
      "Epoch 56/400\n",
      "171/171 [==============================] - 0s 158us/step - loss: 0.5980 - acc: 0.8480\n",
      "Epoch 57/400\n",
      "171/171 [==============================] - 0s 195us/step - loss: 0.6117 - acc: 0.8655\n",
      "Epoch 58/400\n",
      "171/171 [==============================] - 0s 151us/step - loss: 0.5639 - acc: 0.8947\n",
      "Epoch 59/400\n",
      "171/171 [==============================] - 0s 146us/step - loss: 0.5594 - acc: 0.8772\n",
      "Epoch 60/400\n",
      "171/171 [==============================] - 0s 146us/step - loss: 0.5521 - acc: 0.8830\n",
      "Epoch 61/400\n",
      "171/171 [==============================] - 0s 148us/step - loss: 0.5621 - acc: 0.8889\n",
      "Epoch 62/400\n",
      "171/171 [==============================] - 0s 139us/step - loss: 0.5811 - acc: 0.8538\n",
      "Epoch 63/400\n",
      "171/171 [==============================] - 0s 135us/step - loss: 0.5182 - acc: 0.8889\n",
      "Epoch 64/400\n",
      "171/171 [==============================] - 0s 198us/step - loss: 0.5249 - acc: 0.8772\n",
      "Epoch 65/400\n",
      "171/171 [==============================] - 0s 159us/step - loss: 0.5069 - acc: 0.9357\n",
      "Epoch 66/400\n",
      "171/171 [==============================] - 0s 203us/step - loss: 0.4919 - acc: 0.9123\n",
      "Epoch 67/400\n",
      "171/171 [==============================] - 0s 254us/step - loss: 0.4944 - acc: 0.8947\n",
      "Epoch 68/400\n",
      "171/171 [==============================] - 0s 155us/step - loss: 0.4830 - acc: 0.9006\n",
      "Epoch 69/400\n",
      "171/171 [==============================] - 0s 174us/step - loss: 0.4606 - acc: 0.9006\n",
      "Epoch 70/400\n",
      "171/171 [==============================] - 0s 154us/step - loss: 0.4557 - acc: 0.9064\n",
      "Epoch 71/400\n",
      "171/171 [==============================] - 0s 167us/step - loss: 0.4446 - acc: 0.8947\n",
      "Epoch 72/400\n",
      "171/171 [==============================] - 0s 175us/step - loss: 0.4468 - acc: 0.9123\n",
      "Epoch 73/400\n",
      "171/171 [==============================] - 0s 163us/step - loss: 0.4401 - acc: 0.9357\n",
      "Epoch 74/400\n",
      "171/171 [==============================] - 0s 205us/step - loss: 0.4281 - acc: 0.9181\n",
      "Epoch 75/400\n"
     ]
    },
    {
     "name": "stdout",
     "output_type": "stream",
     "text": [
      "171/171 [==============================] - 0s 194us/step - loss: 0.4019 - acc: 0.9532\n",
      "Epoch 76/400\n",
      "171/171 [==============================] - 0s 206us/step - loss: 0.4364 - acc: 0.9064\n",
      "Epoch 77/400\n",
      "171/171 [==============================] - 0s 218us/step - loss: 0.3734 - acc: 0.9415\n",
      "Epoch 78/400\n",
      "171/171 [==============================] - 0s 221us/step - loss: 0.4145 - acc: 0.9064\n",
      "Epoch 79/400\n",
      "171/171 [==============================] - 0s 227us/step - loss: 0.3846 - acc: 0.9298\n",
      "Epoch 80/400\n",
      "171/171 [==============================] - 0s 144us/step - loss: 0.3762 - acc: 0.9357\n",
      "Epoch 81/400\n",
      "171/171 [==============================] - 0s 124us/step - loss: 0.3827 - acc: 0.9357\n",
      "Epoch 82/400\n",
      "171/171 [==============================] - 0s 189us/step - loss: 0.3653 - acc: 0.9298\n",
      "Epoch 83/400\n",
      "171/171 [==============================] - 0s 227us/step - loss: 0.3410 - acc: 0.9474\n",
      "Epoch 84/400\n",
      "171/171 [==============================] - 0s 184us/step - loss: 0.3399 - acc: 0.9415\n",
      "Epoch 85/400\n",
      "171/171 [==============================] - 0s 176us/step - loss: 0.3299 - acc: 0.9298\n",
      "Epoch 86/400\n",
      "171/171 [==============================] - 0s 201us/step - loss: 0.3583 - acc: 0.9298\n",
      "Epoch 87/400\n",
      "171/171 [==============================] - 0s 229us/step - loss: 0.3148 - acc: 0.9357\n",
      "Epoch 88/400\n",
      "171/171 [==============================] - 0s 263us/step - loss: 0.3294 - acc: 0.9474\n",
      "Epoch 89/400\n",
      "171/171 [==============================] - 0s 205us/step - loss: 0.3079 - acc: 0.9591\n",
      "Epoch 90/400\n",
      "171/171 [==============================] - 0s 255us/step - loss: 0.2833 - acc: 0.9357\n",
      "Epoch 91/400\n",
      "171/171 [==============================] - 0s 257us/step - loss: 0.3022 - acc: 0.9240\n",
      "Epoch 92/400\n",
      "171/171 [==============================] - 0s 232us/step - loss: 0.2886 - acc: 0.9591\n",
      "Epoch 93/400\n",
      "171/171 [==============================] - 0s 195us/step - loss: 0.3132 - acc: 0.9298\n",
      "Epoch 94/400\n",
      "171/171 [==============================] - 0s 211us/step - loss: 0.2980 - acc: 0.9240\n",
      "Epoch 95/400\n",
      "171/171 [==============================] - 0s 228us/step - loss: 0.2736 - acc: 0.9474\n",
      "Epoch 96/400\n",
      "171/171 [==============================] - 0s 243us/step - loss: 0.3024 - acc: 0.9298\n",
      "Epoch 97/400\n",
      "171/171 [==============================] - 0s 238us/step - loss: 0.2797 - acc: 0.9474\n",
      "Epoch 98/400\n",
      "171/171 [==============================] - 0s 201us/step - loss: 0.2771 - acc: 0.9474\n",
      "Epoch 99/400\n",
      "171/171 [==============================] - 0s 280us/step - loss: 0.2398 - acc: 0.9649\n",
      "Epoch 100/400\n",
      "171/171 [==============================] - 0s 207us/step - loss: 0.2173 - acc: 0.9649\n",
      "Epoch 101/400\n",
      "171/171 [==============================] - 0s 214us/step - loss: 0.3020 - acc: 0.9357\n",
      "Epoch 102/400\n",
      "171/171 [==============================] - 0s 244us/step - loss: 0.2368 - acc: 0.9357\n",
      "Epoch 103/400\n",
      "171/171 [==============================] - 0s 222us/step - loss: 0.2504 - acc: 0.9415\n",
      "Epoch 104/400\n",
      "171/171 [==============================] - 0s 239us/step - loss: 0.2351 - acc: 0.9708\n",
      "Epoch 105/400\n",
      "171/171 [==============================] - 0s 241us/step - loss: 0.2365 - acc: 0.9415\n",
      "Epoch 106/400\n",
      "171/171 [==============================] - 0s 277us/step - loss: 0.1842 - acc: 0.9825\n",
      "Epoch 107/400\n",
      "171/171 [==============================] - 0s 258us/step - loss: 0.2648 - acc: 0.9474\n",
      "Epoch 108/400\n",
      "171/171 [==============================] - 0s 222us/step - loss: 0.2119 - acc: 0.9649\n",
      "Epoch 109/400\n",
      "171/171 [==============================] - 0s 239us/step - loss: 0.2324 - acc: 0.9474\n",
      "Epoch 110/400\n",
      "171/171 [==============================] - 0s 196us/step - loss: 0.2634 - acc: 0.9415\n",
      "Epoch 111/400\n",
      "171/171 [==============================] - 0s 204us/step - loss: 0.1913 - acc: 0.9649\n",
      "Epoch 112/400\n",
      "171/171 [==============================] - 0s 191us/step - loss: 0.2028 - acc: 0.9532\n",
      "Epoch 113/400\n",
      "171/171 [==============================] - 0s 189us/step - loss: 0.2007 - acc: 0.9591\n",
      "Epoch 114/400\n",
      "171/171 [==============================] - 0s 231us/step - loss: 0.1881 - acc: 0.9708\n",
      "Epoch 115/400\n",
      "171/171 [==============================] - 0s 216us/step - loss: 0.2419 - acc: 0.9415\n",
      "Epoch 116/400\n",
      "171/171 [==============================] - 0s 203us/step - loss: 0.1985 - acc: 0.9591\n",
      "Epoch 117/400\n",
      "171/171 [==============================] - 0s 223us/step - loss: 0.2449 - acc: 0.9298\n",
      "Epoch 118/400\n",
      "171/171 [==============================] - 0s 237us/step - loss: 0.2208 - acc: 0.9474\n",
      "Epoch 119/400\n",
      "171/171 [==============================] - 0s 187us/step - loss: 0.1919 - acc: 0.9649\n",
      "Epoch 120/400\n",
      "171/171 [==============================] - 0s 251us/step - loss: 0.1970 - acc: 0.9708\n",
      "Epoch 121/400\n",
      "171/171 [==============================] - 0s 187us/step - loss: 0.1724 - acc: 0.9708\n",
      "Epoch 122/400\n",
      "171/171 [==============================] - 0s 248us/step - loss: 0.2066 - acc: 0.9591\n",
      "Epoch 123/400\n",
      "171/171 [==============================] - 0s 190us/step - loss: 0.1766 - acc: 0.9649\n",
      "Epoch 124/400\n",
      "171/171 [==============================] - 0s 232us/step - loss: 0.1693 - acc: 0.9649\n",
      "Epoch 125/400\n",
      "171/171 [==============================] - 0s 231us/step - loss: 0.1609 - acc: 0.9649\n",
      "Epoch 126/400\n",
      "171/171 [==============================] - 0s 209us/step - loss: 0.1556 - acc: 0.9766\n",
      "Epoch 127/400\n",
      "171/171 [==============================] - 0s 228us/step - loss: 0.1869 - acc: 0.9591\n",
      "Epoch 128/400\n",
      "171/171 [==============================] - 0s 248us/step - loss: 0.1909 - acc: 0.9474\n",
      "Epoch 129/400\n",
      "171/171 [==============================] - 0s 206us/step - loss: 0.1529 - acc: 0.9766\n",
      "Epoch 130/400\n",
      "171/171 [==============================] - 0s 220us/step - loss: 0.1461 - acc: 0.9766\n",
      "Epoch 131/400\n",
      "171/171 [==============================] - 0s 255us/step - loss: 0.1315 - acc: 0.9883\n",
      "Epoch 132/400\n",
      "171/171 [==============================] - 0s 252us/step - loss: 0.1234 - acc: 0.9766\n",
      "Epoch 133/400\n",
      "171/171 [==============================] - 0s 211us/step - loss: 0.1445 - acc: 0.9649\n",
      "Epoch 134/400\n",
      "171/171 [==============================] - 0s 236us/step - loss: 0.1184 - acc: 0.9942\n",
      "Epoch 135/400\n",
      "171/171 [==============================] - 0s 216us/step - loss: 0.1567 - acc: 0.9708\n",
      "Epoch 136/400\n",
      "171/171 [==============================] - 0s 248us/step - loss: 0.1648 - acc: 0.9649\n",
      "Epoch 137/400\n",
      "171/171 [==============================] - 0s 261us/step - loss: 0.1527 - acc: 0.9649\n",
      "Epoch 138/400\n",
      "171/171 [==============================] - 0s 214us/step - loss: 0.1614 - acc: 0.9649\n",
      "Epoch 139/400\n",
      "171/171 [==============================] - 0s 185us/step - loss: 0.1308 - acc: 0.9825\n",
      "Epoch 140/400\n",
      "171/171 [==============================] - 0s 226us/step - loss: 0.1199 - acc: 0.9883\n",
      "Epoch 141/400\n",
      "171/171 [==============================] - 0s 223us/step - loss: 0.1438 - acc: 0.9942\n",
      "Epoch 142/400\n",
      "171/171 [==============================] - 0s 264us/step - loss: 0.1140 - acc: 0.9825\n",
      "Epoch 143/400\n",
      "171/171 [==============================] - 0s 214us/step - loss: 0.1454 - acc: 0.9649\n",
      "Epoch 144/400\n",
      "171/171 [==============================] - 0s 255us/step - loss: 0.1322 - acc: 0.9708\n",
      "Epoch 145/400\n",
      "171/171 [==============================] - 0s 205us/step - loss: 0.1123 - acc: 0.9825\n",
      "Epoch 146/400\n",
      "171/171 [==============================] - 0s 142us/step - loss: 0.1574 - acc: 0.9591\n",
      "Epoch 147/400\n",
      "171/171 [==============================] - 0s 251us/step - loss: 0.1152 - acc: 0.9766\n",
      "Epoch 148/400\n",
      "171/171 [==============================] - 0s 216us/step - loss: 0.1452 - acc: 0.9766\n",
      "Epoch 149/400\n",
      "171/171 [==============================] - 0s 274us/step - loss: 0.1008 - acc: 0.9942\n",
      "Epoch 150/400\n",
      "171/171 [==============================] - 0s 473us/step - loss: 0.1011 - acc: 0.9883\n",
      "Epoch 151/400\n",
      "171/171 [==============================] - 0s 479us/step - loss: 0.1098 - acc: 0.9708\n",
      "Epoch 152/400\n",
      "171/171 [==============================] - 0s 242us/step - loss: 0.1242 - acc: 0.9942\n",
      "Epoch 153/400\n",
      "171/171 [==============================] - 0s 226us/step - loss: 0.1200 - acc: 0.9883\n",
      "Epoch 154/400\n",
      "171/171 [==============================] - 0s 244us/step - loss: 0.1176 - acc: 0.9825\n",
      "Epoch 155/400\n",
      "171/171 [==============================] - 0s 242us/step - loss: 0.0837 - acc: 0.9942\n",
      "Epoch 156/400\n",
      "171/171 [==============================] - 0s 276us/step - loss: 0.1415 - acc: 0.9708\n",
      "Epoch 157/400\n"
     ]
    },
    {
     "name": "stdout",
     "output_type": "stream",
     "text": [
      "171/171 [==============================] - 0s 254us/step - loss: 0.1108 - acc: 0.9883\n",
      "Epoch 158/400\n",
      "171/171 [==============================] - 0s 255us/step - loss: 0.1297 - acc: 0.9708\n",
      "Epoch 159/400\n",
      "171/171 [==============================] - 0s 218us/step - loss: 0.0924 - acc: 0.9883\n",
      "Epoch 160/400\n",
      "171/171 [==============================] - 0s 293us/step - loss: 0.0770 - acc: 1.0000\n",
      "Epoch 161/400\n",
      "171/171 [==============================] - 0s 213us/step - loss: 0.1237 - acc: 0.9766\n",
      "Epoch 162/400\n",
      "171/171 [==============================] - 0s 215us/step - loss: 0.1019 - acc: 0.9825\n",
      "Epoch 163/400\n",
      "171/171 [==============================] - 0s 251us/step - loss: 0.1235 - acc: 0.9591\n",
      "Epoch 164/400\n",
      "171/171 [==============================] - 0s 226us/step - loss: 0.1121 - acc: 0.9825\n",
      "Epoch 165/400\n",
      "171/171 [==============================] - 0s 243us/step - loss: 0.0915 - acc: 0.9883\n",
      "Epoch 166/400\n",
      "171/171 [==============================] - 0s 221us/step - loss: 0.0906 - acc: 0.9766\n",
      "Epoch 167/400\n",
      "171/171 [==============================] - 0s 258us/step - loss: 0.1316 - acc: 0.9766\n",
      "Epoch 168/400\n",
      "171/171 [==============================] - 0s 210us/step - loss: 0.1135 - acc: 0.9708\n",
      "Epoch 169/400\n",
      "171/171 [==============================] - 0s 282us/step - loss: 0.1251 - acc: 0.9766\n",
      "Epoch 170/400\n",
      "171/171 [==============================] - 0s 271us/step - loss: 0.0955 - acc: 0.9766\n",
      "Epoch 171/400\n",
      "171/171 [==============================] - 0s 246us/step - loss: 0.0757 - acc: 1.0000\n",
      "Epoch 172/400\n",
      "171/171 [==============================] - 0s 238us/step - loss: 0.0946 - acc: 0.9883\n",
      "Epoch 173/400\n",
      "171/171 [==============================] - 0s 215us/step - loss: 0.1244 - acc: 0.9708\n",
      "Epoch 174/400\n",
      "171/171 [==============================] - 0s 217us/step - loss: 0.0898 - acc: 0.9883\n",
      "Epoch 175/400\n",
      "171/171 [==============================] - 0s 213us/step - loss: 0.1187 - acc: 0.9649\n",
      "Epoch 176/400\n",
      "171/171 [==============================] - 0s 253us/step - loss: 0.1066 - acc: 0.9825\n",
      "Epoch 177/400\n",
      "171/171 [==============================] - 0s 233us/step - loss: 0.0971 - acc: 0.9942\n",
      "Epoch 178/400\n",
      "171/171 [==============================] - 0s 232us/step - loss: 0.0769 - acc: 0.9942\n",
      "Epoch 179/400\n",
      "171/171 [==============================] - 0s 209us/step - loss: 0.0947 - acc: 0.9825\n",
      "Epoch 180/400\n",
      "171/171 [==============================] - 0s 240us/step - loss: 0.0785 - acc: 0.9942\n",
      "Epoch 181/400\n",
      "171/171 [==============================] - 0s 330us/step - loss: 0.0994 - acc: 0.9825\n",
      "Epoch 182/400\n",
      "171/171 [==============================] - 0s 314us/step - loss: 0.0808 - acc: 0.9883\n",
      "Epoch 183/400\n",
      "171/171 [==============================] - 0s 297us/step - loss: 0.1216 - acc: 0.9708\n",
      "Epoch 184/400\n",
      "171/171 [==============================] - 0s 272us/step - loss: 0.0918 - acc: 0.9883\n",
      "Epoch 185/400\n",
      "171/171 [==============================] - 0s 279us/step - loss: 0.0693 - acc: 0.9883\n",
      "Epoch 186/400\n",
      "171/171 [==============================] - 0s 231us/step - loss: 0.0835 - acc: 0.9883\n",
      "Epoch 187/400\n",
      "171/171 [==============================] - 0s 234us/step - loss: 0.0748 - acc: 0.9942\n",
      "Epoch 188/400\n",
      "171/171 [==============================] - 0s 300us/step - loss: 0.1005 - acc: 0.9825\n",
      "Epoch 189/400\n",
      "171/171 [==============================] - 0s 224us/step - loss: 0.0644 - acc: 0.9942\n",
      "Epoch 190/400\n",
      "171/171 [==============================] - 0s 275us/step - loss: 0.0699 - acc: 1.0000\n",
      "Epoch 191/400\n",
      "171/171 [==============================] - 0s 224us/step - loss: 0.0804 - acc: 0.9883\n",
      "Epoch 192/400\n",
      "171/171 [==============================] - 0s 271us/step - loss: 0.0712 - acc: 0.9942\n",
      "Epoch 193/400\n",
      "171/171 [==============================] - 0s 243us/step - loss: 0.0929 - acc: 0.9766\n",
      "Epoch 194/400\n",
      "171/171 [==============================] - 0s 241us/step - loss: 0.0768 - acc: 0.9766\n",
      "Epoch 195/400\n",
      "171/171 [==============================] - 0s 230us/step - loss: 0.1027 - acc: 0.9708\n",
      "Epoch 196/400\n",
      "171/171 [==============================] - 0s 437us/step - loss: 0.0715 - acc: 0.9942\n",
      "Epoch 197/400\n",
      "171/171 [==============================] - 0s 441us/step - loss: 0.0720 - acc: 0.9883\n",
      "Epoch 198/400\n",
      "171/171 [==============================] - 0s 390us/step - loss: 0.0555 - acc: 1.0000\n",
      "Epoch 199/400\n",
      "171/171 [==============================] - 0s 425us/step - loss: 0.0727 - acc: 0.9883\n",
      "Epoch 200/400\n",
      "171/171 [==============================] - 0s 320us/step - loss: 0.0654 - acc: 0.9883\n",
      "Epoch 201/400\n",
      "171/171 [==============================] - 0s 287us/step - loss: 0.0563 - acc: 0.9942\n",
      "Epoch 202/400\n",
      "171/171 [==============================] - 0s 211us/step - loss: 0.0774 - acc: 0.9766\n",
      "Epoch 203/400\n",
      "171/171 [==============================] - 0s 127us/step - loss: 0.0638 - acc: 1.0000\n",
      "Epoch 204/400\n",
      "171/171 [==============================] - 0s 147us/step - loss: 0.0734 - acc: 0.9883\n",
      "Epoch 205/400\n",
      "171/171 [==============================] - 0s 223us/step - loss: 0.0803 - acc: 0.9942\n",
      "Epoch 206/400\n",
      "171/171 [==============================] - 0s 208us/step - loss: 0.0856 - acc: 0.9708\n",
      "Epoch 207/400\n",
      "171/171 [==============================] - 0s 134us/step - loss: 0.0490 - acc: 0.9883\n",
      "Epoch 208/400\n",
      "171/171 [==============================] - 0s 147us/step - loss: 0.0603 - acc: 0.9942\n",
      "Epoch 209/400\n",
      "171/171 [==============================] - 0s 201us/step - loss: 0.0503 - acc: 1.0000\n",
      "Epoch 210/400\n",
      "171/171 [==============================] - 0s 195us/step - loss: 0.0566 - acc: 0.9942\n",
      "Epoch 211/400\n",
      "171/171 [==============================] - 0s 138us/step - loss: 0.0461 - acc: 0.9942\n",
      "Epoch 212/400\n",
      "171/171 [==============================] - 0s 183us/step - loss: 0.0685 - acc: 0.9825\n",
      "Epoch 213/400\n",
      "171/171 [==============================] - 0s 131us/step - loss: 0.0639 - acc: 0.9942\n",
      "Epoch 214/400\n",
      "171/171 [==============================] - 0s 179us/step - loss: 0.0672 - acc: 0.9766\n",
      "Epoch 215/400\n",
      "171/171 [==============================] - 0s 226us/step - loss: 0.0728 - acc: 0.9825\n",
      "Epoch 216/400\n",
      "171/171 [==============================] - 0s 224us/step - loss: 0.0750 - acc: 0.9825\n",
      "Epoch 217/400\n",
      "171/171 [==============================] - 0s 147us/step - loss: 0.0604 - acc: 1.0000\n",
      "Epoch 218/400\n",
      "171/171 [==============================] - 0s 134us/step - loss: 0.0684 - acc: 0.9825\n",
      "Epoch 219/400\n",
      "171/171 [==============================] - 0s 185us/step - loss: 0.0717 - acc: 0.9766\n",
      "Epoch 220/400\n",
      "171/171 [==============================] - 0s 173us/step - loss: 0.0553 - acc: 0.9883\n",
      "Epoch 221/400\n",
      "171/171 [==============================] - 0s 194us/step - loss: 0.0490 - acc: 0.9942\n",
      "Epoch 222/400\n",
      "171/171 [==============================] - 0s 144us/step - loss: 0.0802 - acc: 0.9825\n",
      "Epoch 223/400\n",
      "171/171 [==============================] - 0s 238us/step - loss: 0.0834 - acc: 0.9942\n",
      "Epoch 224/400\n",
      "171/171 [==============================] - 0s 176us/step - loss: 0.0589 - acc: 0.9942\n",
      "Epoch 225/400\n",
      "171/171 [==============================] - 0s 198us/step - loss: 0.0779 - acc: 0.9825\n",
      "Epoch 226/400\n",
      "171/171 [==============================] - 0s 161us/step - loss: 0.0790 - acc: 0.9825\n",
      "Epoch 227/400\n",
      "171/171 [==============================] - 0s 218us/step - loss: 0.0480 - acc: 0.9942\n",
      "Epoch 228/400\n",
      "171/171 [==============================] - 0s 199us/step - loss: 0.0635 - acc: 0.9942\n",
      "Epoch 229/400\n",
      "171/171 [==============================] - 0s 234us/step - loss: 0.0477 - acc: 1.0000\n",
      "Epoch 230/400\n",
      "171/171 [==============================] - 0s 268us/step - loss: 0.0609 - acc: 0.9942\n",
      "Epoch 231/400\n",
      "171/171 [==============================] - 0s 251us/step - loss: 0.0665 - acc: 0.9942\n",
      "Epoch 232/400\n",
      "171/171 [==============================] - 0s 242us/step - loss: 0.0703 - acc: 0.9883\n",
      "Epoch 233/400\n",
      "171/171 [==============================] - 0s 227us/step - loss: 0.0866 - acc: 0.9825\n",
      "Epoch 234/400\n",
      "171/171 [==============================] - 0s 237us/step - loss: 0.0390 - acc: 0.9942\n",
      "Epoch 235/400\n",
      "171/171 [==============================] - 0s 295us/step - loss: 0.0508 - acc: 0.9942\n",
      "Epoch 236/400\n",
      "171/171 [==============================] - 0s 262us/step - loss: 0.0509 - acc: 0.9942\n",
      "Epoch 237/400\n",
      "171/171 [==============================] - 0s 284us/step - loss: 0.0547 - acc: 0.9883\n",
      "Epoch 238/400\n",
      "171/171 [==============================] - 0s 276us/step - loss: 0.0607 - acc: 0.9883\n",
      "Epoch 239/400\n"
     ]
    },
    {
     "name": "stdout",
     "output_type": "stream",
     "text": [
      "171/171 [==============================] - 0s 198us/step - loss: 0.0458 - acc: 0.9942\n",
      "Epoch 240/400\n",
      "171/171 [==============================] - 0s 226us/step - loss: 0.0231 - acc: 1.0000\n",
      "Epoch 241/400\n",
      "171/171 [==============================] - 0s 134us/step - loss: 0.0487 - acc: 0.9883\n",
      "Epoch 242/400\n",
      "171/171 [==============================] - 0s 136us/step - loss: 0.0505 - acc: 0.9883\n",
      "Epoch 243/400\n",
      "171/171 [==============================] - 0s 321us/step - loss: 0.0355 - acc: 1.0000\n",
      "Epoch 244/400\n",
      "171/171 [==============================] - 0s 393us/step - loss: 0.0908 - acc: 0.9708\n",
      "Epoch 245/400\n",
      "171/171 [==============================] - 0s 194us/step - loss: 0.0736 - acc: 0.9883\n",
      "Epoch 246/400\n",
      "171/171 [==============================] - 0s 158us/step - loss: 0.0634 - acc: 0.9825\n",
      "Epoch 247/400\n",
      "171/171 [==============================] - 0s 189us/step - loss: 0.0524 - acc: 0.9942\n",
      "Epoch 248/400\n",
      "171/171 [==============================] - 0s 231us/step - loss: 0.0315 - acc: 1.0000\n",
      "Epoch 249/400\n",
      "171/171 [==============================] - 0s 185us/step - loss: 0.0488 - acc: 0.9942\n",
      "Epoch 250/400\n",
      "171/171 [==============================] - 0s 187us/step - loss: 0.0329 - acc: 1.0000\n",
      "Epoch 251/400\n",
      "171/171 [==============================] - 0s 184us/step - loss: 0.0531 - acc: 0.9883\n",
      "Epoch 252/400\n",
      "171/171 [==============================] - 0s 215us/step - loss: 0.0381 - acc: 1.0000\n",
      "Epoch 253/400\n",
      "171/171 [==============================] - 0s 209us/step - loss: 0.0496 - acc: 0.9942\n",
      "Epoch 254/400\n",
      "171/171 [==============================] - 0s 137us/step - loss: 0.0482 - acc: 0.9942\n",
      "Epoch 255/400\n",
      "171/171 [==============================] - 0s 128us/step - loss: 0.0532 - acc: 0.9883\n",
      "Epoch 256/400\n",
      "171/171 [==============================] - 0s 134us/step - loss: 0.0471 - acc: 1.0000\n",
      "Epoch 257/400\n",
      "171/171 [==============================] - 0s 144us/step - loss: 0.0382 - acc: 1.0000\n",
      "Epoch 258/400\n",
      "171/171 [==============================] - 0s 136us/step - loss: 0.0636 - acc: 0.9825\n",
      "Epoch 259/400\n",
      "171/171 [==============================] - 0s 122us/step - loss: 0.0437 - acc: 1.0000\n",
      "Epoch 260/400\n",
      "171/171 [==============================] - 0s 121us/step - loss: 0.0561 - acc: 0.9766\n",
      "Epoch 261/400\n",
      "171/171 [==============================] - 0s 141us/step - loss: 0.0458 - acc: 0.9942\n",
      "Epoch 262/400\n",
      "171/171 [==============================] - 0s 117us/step - loss: 0.0382 - acc: 1.0000\n",
      "Epoch 263/400\n",
      "171/171 [==============================] - 0s 117us/step - loss: 0.0566 - acc: 0.9825\n",
      "Epoch 264/400\n",
      "171/171 [==============================] - 0s 112us/step - loss: 0.0457 - acc: 0.9942\n",
      "Epoch 265/400\n",
      "171/171 [==============================] - 0s 113us/step - loss: 0.0432 - acc: 0.9942\n",
      "Epoch 266/400\n",
      "171/171 [==============================] - 0s 122us/step - loss: 0.0545 - acc: 0.9942\n",
      "Epoch 267/400\n",
      "171/171 [==============================] - 0s 120us/step - loss: 0.0402 - acc: 0.9883\n",
      "Epoch 268/400\n",
      "171/171 [==============================] - 0s 118us/step - loss: 0.0519 - acc: 0.9942\n",
      "Epoch 269/400\n",
      "171/171 [==============================] - 0s 117us/step - loss: 0.0372 - acc: 1.0000\n",
      "Epoch 270/400\n",
      "171/171 [==============================] - 0s 126us/step - loss: 0.0282 - acc: 1.0000\n",
      "Epoch 271/400\n",
      "171/171 [==============================] - 0s 114us/step - loss: 0.0671 - acc: 0.9883\n",
      "Epoch 272/400\n",
      "171/171 [==============================] - 0s 122us/step - loss: 0.0493 - acc: 0.9883\n",
      "Epoch 273/400\n",
      "171/171 [==============================] - 0s 118us/step - loss: 0.0602 - acc: 0.9825\n",
      "Epoch 274/400\n",
      "171/171 [==============================] - 0s 115us/step - loss: 0.0357 - acc: 0.9883\n",
      "Epoch 275/400\n",
      "171/171 [==============================] - 0s 130us/step - loss: 0.0440 - acc: 0.9883\n",
      "Epoch 276/400\n",
      "171/171 [==============================] - 0s 117us/step - loss: 0.0494 - acc: 0.9942\n",
      "Epoch 277/400\n",
      "171/171 [==============================] - 0s 120us/step - loss: 0.0443 - acc: 0.9883\n",
      "Epoch 278/400\n",
      "171/171 [==============================] - 0s 121us/step - loss: 0.0492 - acc: 0.9825\n",
      "Epoch 279/400\n",
      "171/171 [==============================] - 0s 124us/step - loss: 0.0406 - acc: 1.0000\n",
      "Epoch 280/400\n",
      "171/171 [==============================] - 0s 132us/step - loss: 0.0306 - acc: 0.9942\n",
      "Epoch 281/400\n",
      "171/171 [==============================] - 0s 125us/step - loss: 0.0389 - acc: 0.9942\n",
      "Epoch 282/400\n",
      "171/171 [==============================] - 0s 116us/step - loss: 0.0366 - acc: 0.9942\n",
      "Epoch 283/400\n",
      "171/171 [==============================] - 0s 113us/step - loss: 0.0457 - acc: 0.9883\n",
      "Epoch 284/400\n",
      "171/171 [==============================] - 0s 114us/step - loss: 0.0313 - acc: 1.0000\n",
      "Epoch 285/400\n",
      "171/171 [==============================] - 0s 120us/step - loss: 0.0429 - acc: 0.9883\n",
      "Epoch 286/400\n",
      "171/171 [==============================] - 0s 113us/step - loss: 0.0371 - acc: 1.0000\n",
      "Epoch 287/400\n",
      "171/171 [==============================] - 0s 117us/step - loss: 0.0404 - acc: 0.9883\n",
      "Epoch 288/400\n",
      "171/171 [==============================] - 0s 113us/step - loss: 0.0431 - acc: 0.9942\n",
      "Epoch 289/400\n",
      "171/171 [==============================] - 0s 116us/step - loss: 0.0264 - acc: 1.0000\n",
      "Epoch 290/400\n",
      "171/171 [==============================] - 0s 115us/step - loss: 0.0587 - acc: 0.9883\n",
      "Epoch 291/400\n",
      "171/171 [==============================] - 0s 123us/step - loss: 0.0259 - acc: 1.0000\n",
      "Epoch 292/400\n",
      "171/171 [==============================] - 0s 116us/step - loss: 0.0512 - acc: 0.9825\n",
      "Epoch 293/400\n",
      "171/171 [==============================] - 0s 119us/step - loss: 0.0523 - acc: 0.9825\n",
      "Epoch 294/400\n",
      "171/171 [==============================] - 0s 115us/step - loss: 0.0379 - acc: 0.9942\n",
      "Epoch 295/400\n",
      "171/171 [==============================] - 0s 115us/step - loss: 0.0374 - acc: 1.0000\n",
      "Epoch 296/400\n",
      "171/171 [==============================] - 0s 117us/step - loss: 0.0290 - acc: 0.9942\n",
      "Epoch 297/400\n",
      "171/171 [==============================] - 0s 116us/step - loss: 0.0495 - acc: 0.9883\n",
      "Epoch 298/400\n",
      "171/171 [==============================] - 0s 116us/step - loss: 0.0400 - acc: 0.9942\n",
      "Epoch 299/400\n",
      "171/171 [==============================] - 0s 113us/step - loss: 0.0296 - acc: 0.9942\n",
      "Epoch 300/400\n",
      "171/171 [==============================] - 0s 122us/step - loss: 0.0356 - acc: 0.9883\n",
      "Epoch 301/400\n",
      "171/171 [==============================] - 0s 119us/step - loss: 0.0351 - acc: 0.9942\n",
      "Epoch 302/400\n",
      "171/171 [==============================] - 0s 107us/step - loss: 0.0435 - acc: 0.9825\n",
      "Epoch 303/400\n",
      "171/171 [==============================] - 0s 152us/step - loss: 0.0457 - acc: 0.9825\n",
      "Epoch 304/400\n",
      "171/171 [==============================] - 0s 110us/step - loss: 0.0241 - acc: 1.0000\n",
      "Epoch 305/400\n",
      "171/171 [==============================] - 0s 108us/step - loss: 0.0203 - acc: 1.0000\n",
      "Epoch 306/400\n",
      "171/171 [==============================] - 0s 121us/step - loss: 0.0390 - acc: 0.9883\n",
      "Epoch 307/400\n",
      "171/171 [==============================] - 0s 109us/step - loss: 0.0209 - acc: 1.0000\n",
      "Epoch 308/400\n",
      "171/171 [==============================] - 0s 110us/step - loss: 0.0619 - acc: 0.9883\n",
      "Epoch 309/400\n",
      "171/171 [==============================] - 0s 109us/step - loss: 0.0480 - acc: 0.9825\n",
      "Epoch 310/400\n",
      "171/171 [==============================] - 0s 111us/step - loss: 0.0369 - acc: 0.9942\n",
      "Epoch 311/400\n",
      "171/171 [==============================] - 0s 109us/step - loss: 0.0427 - acc: 0.9942\n",
      "Epoch 312/400\n",
      "171/171 [==============================] - 0s 140us/step - loss: 0.0375 - acc: 0.9883\n",
      "Epoch 313/400\n",
      "171/171 [==============================] - 0s 121us/step - loss: 0.0463 - acc: 0.9883\n",
      "Epoch 314/400\n",
      "171/171 [==============================] - 0s 109us/step - loss: 0.0240 - acc: 0.9942\n",
      "Epoch 315/400\n",
      "171/171 [==============================] - 0s 116us/step - loss: 0.0298 - acc: 1.0000\n",
      "Epoch 316/400\n",
      "171/171 [==============================] - 0s 118us/step - loss: 0.0284 - acc: 0.9942\n",
      "Epoch 317/400\n",
      "171/171 [==============================] - 0s 110us/step - loss: 0.0319 - acc: 0.9942\n",
      "Epoch 318/400\n",
      "171/171 [==============================] - 0s 107us/step - loss: 0.0272 - acc: 1.0000\n",
      "Epoch 319/400\n",
      "171/171 [==============================] - 0s 105us/step - loss: 0.0476 - acc: 0.9766\n",
      "Epoch 320/400\n",
      "171/171 [==============================] - 0s 316us/step - loss: 0.0260 - acc: 0.9942\n",
      "Epoch 321/400\n"
     ]
    },
    {
     "name": "stdout",
     "output_type": "stream",
     "text": [
      "171/171 [==============================] - 0s 218us/step - loss: 0.0537 - acc: 0.9825\n",
      "Epoch 322/400\n",
      "171/171 [==============================] - 0s 119us/step - loss: 0.0162 - acc: 1.0000\n",
      "Epoch 323/400\n",
      "171/171 [==============================] - 0s 160us/step - loss: 0.0307 - acc: 0.9942\n",
      "Epoch 324/400\n",
      "171/171 [==============================] - 0s 143us/step - loss: 0.0359 - acc: 0.9942\n",
      "Epoch 325/400\n",
      "171/171 [==============================] - 0s 122us/step - loss: 0.0289 - acc: 0.9942\n",
      "Epoch 326/400\n",
      "171/171 [==============================] - 0s 114us/step - loss: 0.0267 - acc: 1.0000\n",
      "Epoch 327/400\n",
      "171/171 [==============================] - 0s 119us/step - loss: 0.0352 - acc: 0.9942\n",
      "Epoch 328/400\n",
      "171/171 [==============================] - 0s 112us/step - loss: 0.0215 - acc: 1.0000\n",
      "Epoch 329/400\n",
      "171/171 [==============================] - 0s 107us/step - loss: 0.0189 - acc: 1.0000\n",
      "Epoch 330/400\n",
      "171/171 [==============================] - 0s 120us/step - loss: 0.0253 - acc: 1.0000\n",
      "Epoch 331/400\n",
      "171/171 [==============================] - 0s 116us/step - loss: 0.0256 - acc: 1.0000\n",
      "Epoch 332/400\n",
      "171/171 [==============================] - 0s 106us/step - loss: 0.0321 - acc: 0.9942\n",
      "Epoch 333/400\n",
      "171/171 [==============================] - 0s 118us/step - loss: 0.0361 - acc: 0.9942\n",
      "Epoch 334/400\n",
      "171/171 [==============================] - 0s 112us/step - loss: 0.0235 - acc: 0.9942\n",
      "Epoch 335/400\n",
      "171/171 [==============================] - 0s 110us/step - loss: 0.0323 - acc: 0.9942\n",
      "Epoch 336/400\n",
      "171/171 [==============================] - 0s 112us/step - loss: 0.0197 - acc: 1.0000\n",
      "Epoch 337/400\n",
      "171/171 [==============================] - 0s 129us/step - loss: 0.0197 - acc: 1.0000\n",
      "Epoch 338/400\n",
      "171/171 [==============================] - 0s 119us/step - loss: 0.0716 - acc: 0.9708\n",
      "Epoch 339/400\n",
      "171/171 [==============================] - 0s 121us/step - loss: 0.0224 - acc: 1.0000\n",
      "Epoch 340/400\n",
      "171/171 [==============================] - 0s 111us/step - loss: 0.0232 - acc: 0.9942\n",
      "Epoch 341/400\n",
      "171/171 [==============================] - 0s 114us/step - loss: 0.0205 - acc: 1.0000\n",
      "Epoch 342/400\n",
      "171/171 [==============================] - 0s 111us/step - loss: 0.0529 - acc: 0.9825\n",
      "Epoch 343/400\n",
      "171/171 [==============================] - 0s 117us/step - loss: 0.0153 - acc: 1.0000\n",
      "Epoch 344/400\n",
      "171/171 [==============================] - 0s 112us/step - loss: 0.0673 - acc: 0.9883\n",
      "Epoch 345/400\n",
      "171/171 [==============================] - 0s 113us/step - loss: 0.0340 - acc: 0.9825\n",
      "Epoch 346/400\n",
      "171/171 [==============================] - 0s 121us/step - loss: 0.0265 - acc: 1.0000\n",
      "Epoch 347/400\n",
      "171/171 [==============================] - 0s 115us/step - loss: 0.0404 - acc: 0.9883\n",
      "Epoch 348/400\n",
      "171/171 [==============================] - 0s 115us/step - loss: 0.0150 - acc: 1.0000\n",
      "Epoch 349/400\n",
      "171/171 [==============================] - 0s 136us/step - loss: 0.0358 - acc: 0.9942\n",
      "Epoch 350/400\n",
      "171/171 [==============================] - 0s 111us/step - loss: 0.0595 - acc: 0.9883\n",
      "Epoch 351/400\n",
      "171/171 [==============================] - 0s 105us/step - loss: 0.0140 - acc: 1.0000\n",
      "Epoch 352/400\n",
      "171/171 [==============================] - 0s 122us/step - loss: 0.0264 - acc: 0.9942\n",
      "Epoch 353/400\n",
      "171/171 [==============================] - 0s 114us/step - loss: 0.0345 - acc: 0.9942\n",
      "Epoch 354/400\n",
      "171/171 [==============================] - 0s 110us/step - loss: 0.0185 - acc: 1.0000\n",
      "Epoch 355/400\n",
      "171/171 [==============================] - 0s 112us/step - loss: 0.0217 - acc: 1.0000\n",
      "Epoch 356/400\n",
      "171/171 [==============================] - 0s 103us/step - loss: 0.0560 - acc: 0.9825\n",
      "Epoch 357/400\n",
      "171/171 [==============================] - 0s 120us/step - loss: 0.0407 - acc: 0.9883\n",
      "Epoch 358/400\n",
      "171/171 [==============================] - 0s 119us/step - loss: 0.0210 - acc: 0.9942\n",
      "Epoch 359/400\n",
      "171/171 [==============================] - 0s 114us/step - loss: 0.0222 - acc: 1.0000\n",
      "Epoch 360/400\n",
      "171/171 [==============================] - 0s 116us/step - loss: 0.0196 - acc: 1.0000\n",
      "Epoch 361/400\n",
      "171/171 [==============================] - 0s 118us/step - loss: 0.0166 - acc: 1.0000\n",
      "Epoch 362/400\n",
      "171/171 [==============================] - 0s 115us/step - loss: 0.0420 - acc: 0.9883\n",
      "Epoch 363/400\n",
      "171/171 [==============================] - 0s 113us/step - loss: 0.0276 - acc: 0.9942\n",
      "Epoch 364/400\n",
      "171/171 [==============================] - 0s 110us/step - loss: 0.0100 - acc: 1.0000\n",
      "Epoch 365/400\n",
      "171/171 [==============================] - 0s 115us/step - loss: 0.0254 - acc: 1.0000\n",
      "Epoch 366/400\n",
      "171/171 [==============================] - 0s 114us/step - loss: 0.0287 - acc: 0.9883\n",
      "Epoch 367/400\n",
      "171/171 [==============================] - 0s 113us/step - loss: 0.0354 - acc: 0.9942\n",
      "Epoch 368/400\n",
      "171/171 [==============================] - 0s 109us/step - loss: 0.0163 - acc: 1.0000\n",
      "Epoch 369/400\n",
      "171/171 [==============================] - 0s 116us/step - loss: 0.0242 - acc: 0.9942\n",
      "Epoch 370/400\n",
      "171/171 [==============================] - 0s 107us/step - loss: 0.0243 - acc: 1.0000\n",
      "Epoch 371/400\n",
      "171/171 [==============================] - 0s 122us/step - loss: 0.0501 - acc: 0.9825\n",
      "Epoch 372/400\n",
      "171/171 [==============================] - 0s 123us/step - loss: 0.0164 - acc: 1.0000\n",
      "Epoch 373/400\n",
      "171/171 [==============================] - 0s 139us/step - loss: 0.0138 - acc: 1.0000\n",
      "Epoch 374/400\n",
      "171/171 [==============================] - 0s 111us/step - loss: 0.0279 - acc: 0.9942\n",
      "Epoch 375/400\n",
      "171/171 [==============================] - 0s 114us/step - loss: 0.0132 - acc: 1.0000\n",
      "Epoch 376/400\n",
      "171/171 [==============================] - 0s 132us/step - loss: 0.0237 - acc: 0.9942\n",
      "Epoch 377/400\n",
      "171/171 [==============================] - 0s 112us/step - loss: 0.0192 - acc: 1.0000\n",
      "Epoch 378/400\n",
      "171/171 [==============================] - 0s 105us/step - loss: 0.0341 - acc: 0.9883\n",
      "Epoch 379/400\n",
      "171/171 [==============================] - 0s 110us/step - loss: 0.0407 - acc: 0.9883\n",
      "Epoch 380/400\n",
      "171/171 [==============================] - 0s 106us/step - loss: 0.0156 - acc: 1.0000\n",
      "Epoch 381/400\n",
      "171/171 [==============================] - 0s 109us/step - loss: 0.0124 - acc: 1.0000\n",
      "Epoch 382/400\n",
      "171/171 [==============================] - 0s 119us/step - loss: 0.0209 - acc: 1.0000\n",
      "Epoch 383/400\n",
      "171/171 [==============================] - 0s 114us/step - loss: 0.0214 - acc: 0.9942\n",
      "Epoch 384/400\n",
      "171/171 [==============================] - 0s 110us/step - loss: 0.0240 - acc: 0.9942\n",
      "Epoch 385/400\n",
      "171/171 [==============================] - 0s 116us/step - loss: 0.0343 - acc: 1.0000\n",
      "Epoch 386/400\n",
      "171/171 [==============================] - 0s 121us/step - loss: 0.0332 - acc: 0.9883\n",
      "Epoch 387/400\n",
      "171/171 [==============================] - 0s 118us/step - loss: 0.0214 - acc: 0.9942\n",
      "Epoch 388/400\n",
      "171/171 [==============================] - 0s 113us/step - loss: 0.0200 - acc: 1.0000\n",
      "Epoch 389/400\n",
      "171/171 [==============================] - 0s 114us/step - loss: 0.0227 - acc: 0.9942\n",
      "Epoch 390/400\n",
      "171/171 [==============================] - 0s 106us/step - loss: 0.0191 - acc: 0.9942\n",
      "Epoch 391/400\n",
      "171/171 [==============================] - 0s 111us/step - loss: 0.0219 - acc: 1.0000\n",
      "Epoch 392/400\n",
      "171/171 [==============================] - 0s 112us/step - loss: 0.0104 - acc: 1.0000\n",
      "Epoch 393/400\n",
      "171/171 [==============================] - 0s 118us/step - loss: 0.0105 - acc: 1.0000\n",
      "Epoch 394/400\n",
      "171/171 [==============================] - 0s 117us/step - loss: 0.0221 - acc: 0.9942\n",
      "Epoch 395/400\n",
      "171/171 [==============================] - 0s 112us/step - loss: 0.0335 - acc: 0.9883\n",
      "Epoch 396/400\n",
      "171/171 [==============================] - 0s 112us/step - loss: 0.0185 - acc: 1.0000\n",
      "Epoch 397/400\n",
      "171/171 [==============================] - 0s 117us/step - loss: 0.0142 - acc: 1.0000\n",
      "Epoch 398/400\n",
      "171/171 [==============================] - 0s 134us/step - loss: 0.0445 - acc: 0.9883\n",
      "Epoch 399/400\n",
      "171/171 [==============================] - 0s 126us/step - loss: 0.0161 - acc: 0.9942\n",
      "Epoch 400/400\n",
      "171/171 [==============================] - 0s 114us/step - loss: 0.0242 - acc: 0.9942\n"
     ]
    },
    {
     "name": "stderr",
     "output_type": "stream",
     "text": [
      "INFO:rasa_core.policies.keras_policy:Done fitting keras policy model\n",
      "INFO:rasa_core.agent:Model directory models/dialogue exists and contains old model files. All files will be overwritten.\n",
      "INFO:rasa_core.agent:Persisted model to '/home/arthur/Documents/lappis/bot/rasa-demo-pydata18/models/dialogue'\n"
     ]
    }
   ],
   "source": [
    "from rasa_core.policies import FallbackPolicy, KerasPolicy, MemoizationPolicy\n",
    "from rasa_core.agent import Agent\n",
    "\n",
    "# this will catch predictions the model isn't very certain about\n",
    "# there is a threshold for the NLU predictions as well as the action predictions\n",
    "fallback = FallbackPolicy(fallback_action_name=\"utter_unclear\",\n",
    "                          core_threshold=0.2,\n",
    "                          nlu_threshold=0.6)\n",
    "\n",
    "agent = Agent('domain.yml', policies=[MemoizationPolicy(), KerasPolicy(), fallback])\n",
    "\n",
    "# loading our neatly defined training dialogues\n",
    "training_data = agent.load_data('stories.md')\n",
    "\n",
    "agent.train(\n",
    "    training_data,\n",
    "    validation_split=0.0,\n",
    "    epochs=400\n",
    ")\n",
    "\n",
    "agent.persist('models/dialogue')"
   ]
  },
  {
   "cell_type": "markdown",
   "metadata": {
    "colab_type": "text",
    "id": "FSjCEdvlzfSR"
   },
   "source": [
    "### Inicializando bot completo (core+nlu)"
   ]
  },
  {
   "cell_type": "code",
   "execution_count": 44,
   "metadata": {
    "colab": {
     "autoexec": {
      "startup": false,
      "wait_interval": 0
     },
     "base_uri": "https://localhost:8080/",
     "height": 34
    },
    "colab_type": "code",
    "executionInfo": {
     "elapsed": 1799,
     "status": "ok",
     "timestamp": 1521380071327,
     "user": {
      "displayName": "Alexander Weidauer",
      "photoUrl": "//lh6.googleusercontent.com/-j4xnI5_PFWA/AAAAAAAAAAI/AAAAAAAAAAo/wPT2w5Bl3xg/s50-c-k-no/photo.jpg",
      "userId": "100444450157165144272"
     },
     "user_tz": -60
    },
    "id": "Ywxs0ljHgkLm",
    "outputId": "e11a8abd-70f6-41c5-ccd1-a7cba7146ce9"
   },
   "outputs": [
    {
     "name": "stderr",
     "output_type": "stream",
     "text": [
      "INFO:rasa_nlu.components:Added 'nlp_spacy' to component cache. Key 'nlp_spacy-en'.\n"
     ]
    }
   ],
   "source": [
    "from rasa_core.agent import Agent\n",
    "agent = Agent.load('models/dialogue', interpreter=model_directory)"
   ]
  },
  {
   "cell_type": "markdown",
   "metadata": {
    "colab_type": "text",
    "id": "5MnGuFRpzzBh"
   },
   "source": [
    "### Testando conversação"
   ]
  },
  {
   "cell_type": "code",
   "execution_count": 45,
   "metadata": {
    "colab": {
     "autoexec": {
      "startup": false,
      "wait_interval": 0
     },
     "base_uri": "https://localhost:8080/",
     "height": 1340
    },
    "colab_type": "code",
    "executionInfo": {
     "elapsed": 57365,
     "status": "error",
     "timestamp": 1521380132537,
     "user": {
      "displayName": "Alexander Weidauer",
      "photoUrl": "//lh6.googleusercontent.com/-j4xnI5_PFWA/AAAAAAAAAAI/AAAAAAAAAAo/wPT2w5Bl3xg/s50-c-k-no/photo.jpg",
      "userId": "100444450157165144272"
     },
     "user_tz": -60
    },
    "id": "t_4zHDsgkbno",
    "outputId": "57473fce-7184-45d1-f2b2-470bfc84244e"
   },
   "outputs": [
    {
     "name": "stdout",
     "output_type": "stream",
     "text": [
      "Converse com o bot, diga 'stop' para encerrar teste.\n",
      "stop\n"
     ]
    }
   ],
   "source": [
    "print(\"Converse com o bot, diga 'stop' para encerrar teste.\")\n",
    "while True:\n",
    "    a = input()\n",
    "    if a == 'stop':\n",
    "        break\n",
    "    responses = agent.handle_message(a)\n",
    "    for response in responses:\n",
    "        print(response[\"text\"])\n"
   ]
  },
  {
   "cell_type": "markdown",
   "metadata": {},
   "source": [
    "### Avaliação do modelo de diálogo (`stories`)"
   ]
  },
  {
   "cell_type": "code",
   "execution_count": 46,
   "metadata": {},
   "outputs": [
    {
     "name": "stderr",
     "output_type": "stream",
     "text": [
      "Processed Story Blocks: 100%|██████████| 6/6 [00:00<00:00, 451.74it/s, # trackers=1]\n",
      "Processed Story Blocks: 100%|██████████| 6/6 [00:00<00:00, 45425.68it/s]\n",
      "Processed Story Blocks: 100%|██████████| 6/6 [00:00<00:00, 1871.90it/s]\n",
      "INFO:rasa_core.evaluate:Evaluating 6 stories\n",
      "Progress:\n",
      "100%|██████████| 6/6 [00:00<00:00, 27.54it/s]\n",
      "INFO:rasa_nlu.evaluate:F1-Score:  1.0\n",
      "INFO:rasa_nlu.evaluate:Precision: 1.0\n",
      "INFO:rasa_nlu.evaluate:Accuracy:  1.0\n",
      "INFO:rasa_nlu.evaluate:Classification report: \n",
      "                       precision    recall  f1-score   support\n",
      "\n",
      "        action_listen       1.00      1.00      1.00        13\n",
      "action_retrieve_image       1.00      1.00      1.00         2\n",
      "       utter_cheer_up       1.00      1.00      1.00         2\n",
      "  utter_did_that_help       1.00      1.00      1.00         2\n",
      "        utter_goodbye       1.00      1.00      1.00         3\n",
      "          utter_greet       1.00      1.00      1.00         3\n",
      "          utter_happy       1.00      1.00      1.00         4\n",
      "        utter_unclear       1.00      1.00      1.00         1\n",
      "\n",
      "          avg / total       1.00      1.00      1.00        30\n",
      "\n",
      "INFO:rasa_nlu.evaluate:Confusion matrix, without normalization: \n",
      "[[13  0  0  0  0  0  0  0]\n",
      " [ 0  2  0  0  0  0  0  0]\n",
      " [ 0  0  2  0  0  0  0  0]\n",
      " [ 0  0  0  2  0  0  0  0]\n",
      " [ 0  0  0  0  3  0  0  0]\n",
      " [ 0  0  0  0  0  3  0  0]\n",
      " [ 0  0  0  0  0  0  4  0]\n",
      " [ 0  0  0  0  0  0  0  1]]\n"
     ]
    },
    {
     "data": {
      "image/png": "[encoded data removed]",
      "text/plain": [
       "<Figure size 1440x1440 with 2 Axes>"
      ]
     },
     "metadata": {
      "needs_background": "light"
     },
     "output_type": "display_data"
    }
   ],
   "source": [
    "from rasa_core.evaluate import run_story_evaluation\n",
    "\n",
    "run_story_evaluation(\"stories.md\", \"models/dialogue\", \n",
    "                     nlu_model_path=None, \n",
    "                     max_stories=None, \n",
    "                     out_file_plot=\"story_eval.pdf\")"
   ]
  },
  {
   "cell_type": "code",
   "execution_count": null,
   "metadata": {},
   "outputs": [],
   "source": []
  }
 ],
 "metadata": {
  "colab": {
   "collapsed_sections": [
    "y4miuS-TqYcn",
    "BBF6Nqi9scQE",
    "Fs3nOUzBsqrG",
    "5MnGuFRpzzBh"
   ],
   "default_view": {},
   "name": "Building a Simple Bot with Rasa Stack - Tutorial",
   "provenance": [
    {
     "file_id": "1GutDkDXmfU-nRzNH7Pxxx8YpdvLUw9LO",
     "timestamp": 1521183725373
    }
   ],
   "toc_visible": true,
   "version": "0.3.2",
   "views": {}
  },
  "kernelspec": {
   "display_name": "Python 3",
   "language": "python",
   "name": "python3"
  },
  "language_info": {
   "codemirror_mode": {
    "name": "ipython",
    "version": 3
   },
   "file_extension": ".py",
   "mimetype": "text/x-python",
   "name": "python",
   "nbconvert_exporter": "python",
   "pygments_lexer": "ipython3",
   "version": "3.6.6"
  }
 },
 "nbformat": 4,
 "nbformat_minor": 1
}
